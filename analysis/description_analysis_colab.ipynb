{
  "nbformat": 4,
  "nbformat_minor": 0,
  "metadata": {
    "colab": {
      "name": "description_analysis_colab.ipynb",
      "version": "0.3.2",
      "provenance": [],
      "collapsed_sections": []
    },
    "kernelspec": {
      "name": "python3",
      "display_name": "Python 3"
    },
    "accelerator": "TPU"
  },
  "cells": [
    {
      "cell_type": "code",
      "metadata": {
        "id": "XYPO71A_eUtk",
        "colab_type": "code",
        "outputId": "5480f60a-1c16-47f8-cc22-03516c09814e",
        "colab": {
          "base_uri": "https://localhost:8080/",
          "height": 221
        }
      },
      "source": [
        "!pip install scattertext"
      ],
      "execution_count": 1,
      "outputs": [
        {
          "output_type": "stream",
          "text": [
            "Requirement already satisfied: scattertext in /usr/local/lib/python3.6/dist-packages (0.0.2.52)\n",
            "Requirement already satisfied: mock in /usr/local/lib/python3.6/dist-packages (from scattertext) (3.0.5)\n",
            "Requirement already satisfied: six in /usr/local/lib/python3.6/dist-packages (from scattertext) (1.12.0)\n",
            "Requirement already satisfied: scikit-learn in /usr/local/lib/python3.6/dist-packages (from scattertext) (0.21.2)\n",
            "Requirement already satisfied: statsmodels in /usr/local/lib/python3.6/dist-packages (from scattertext) (0.10.0)\n",
            "Requirement already satisfied: numpy in /usr/local/lib/python3.6/dist-packages (from scattertext) (1.16.4)\n",
            "Requirement already satisfied: pandas in /usr/local/lib/python3.6/dist-packages (from scattertext) (0.24.2)\n",
            "Requirement already satisfied: scipy in /usr/local/lib/python3.6/dist-packages (from scattertext) (1.3.0)\n",
            "Requirement already satisfied: joblib>=0.11 in /usr/local/lib/python3.6/dist-packages (from scikit-learn->scattertext) (0.13.2)\n",
            "Requirement already satisfied: patsy>=0.4.0 in /usr/local/lib/python3.6/dist-packages (from statsmodels->scattertext) (0.5.1)\n",
            "Requirement already satisfied: pytz>=2011k in /usr/local/lib/python3.6/dist-packages (from pandas->scattertext) (2018.9)\n",
            "Requirement already satisfied: python-dateutil>=2.5.0 in /usr/local/lib/python3.6/dist-packages (from pandas->scattertext) (2.5.3)\n"
          ],
          "name": "stdout"
        }
      ]
    },
    {
      "cell_type": "code",
      "metadata": {
        "id": "A3uWVbCHemnn",
        "colab_type": "code",
        "outputId": "9eb38610-fd78-4ddd-d0b6-8c1d40c6e13d",
        "colab": {
          "base_uri": "https://localhost:8080/",
          "height": 88
        }
      },
      "source": [
        "!python -m spacy download en_core_web_md"
      ],
      "execution_count": 2,
      "outputs": [
        {
          "output_type": "stream",
          "text": [
            "Requirement already satisfied: en_core_web_md==2.1.0 from https://github.com/explosion/spacy-models/releases/download/en_core_web_md-2.1.0/en_core_web_md-2.1.0.tar.gz#egg=en_core_web_md==2.1.0 in /usr/local/lib/python3.6/dist-packages (2.1.0)\n",
            "\u001b[38;5;2m✔ Download and installation successful\u001b[0m\n",
            "You can now load the model via spacy.load('en_core_web_md')\n"
          ],
          "name": "stdout"
        }
      ]
    },
    {
      "cell_type": "code",
      "metadata": {
        "id": "bjl8EspQeE62",
        "colab_type": "code",
        "colab": {}
      },
      "source": [
        "# import dependencies\n",
        "import pandas as pd\n",
        "from textblob import TextBlob\n",
        "import matplotlib.pyplot as plt\n",
        "from sklearn.feature_extraction.text import CountVectorizer\n",
        "import scattertext as st\n",
        "import spacy\n",
        "nlp = spacy.load('en_core_web_md')\n",
        "from IPython.display import IFrame, HTML, display\n",
        "# from IPython.core.display import display, HTML\n",
        "from pprint import pprint"
      ],
      "execution_count": 0,
      "outputs": []
    },
    {
      "cell_type": "markdown",
      "metadata": {
        "id": "LzWOckXI0URf",
        "colab_type": "text"
      },
      "source": [
        "# ***Data Cleaning and Transformation***"
      ]
    },
    {
      "cell_type": "code",
      "metadata": {
        "id": "oibdhGgtfDuW",
        "colab_type": "code",
        "outputId": "e60a6e1f-b6ed-4e6f-db78-f6e09b67ed28",
        "colab": {
          "base_uri": "https://localhost:8080/",
          "height": 204
        }
      },
      "source": [
        "# import the data and view it\n",
        "wine_df = pd.read_csv(\"final_wine_data_172k_test.csv\")\n",
        "wine_df.head()"
      ],
      "execution_count": 4,
      "outputs": [
        {
          "output_type": "execute_result",
          "data": {
            "text/html": [
              "<div>\n",
              "<style scoped>\n",
              "    .dataframe tbody tr th:only-of-type {\n",
              "        vertical-align: middle;\n",
              "    }\n",
              "\n",
              "    .dataframe tbody tr th {\n",
              "        vertical-align: top;\n",
              "    }\n",
              "\n",
              "    .dataframe thead th {\n",
              "        text-align: right;\n",
              "    }\n",
              "</style>\n",
              "<table border=\"1\" class=\"dataframe\">\n",
              "  <thead>\n",
              "    <tr style=\"text-align: right;\">\n",
              "      <th></th>\n",
              "      <th>Unnamed: 0</th>\n",
              "      <th>country</th>\n",
              "      <th>description</th>\n",
              "      <th>price</th>\n",
              "      <th>points</th>\n",
              "      <th>variety</th>\n",
              "      <th>winery</th>\n",
              "    </tr>\n",
              "  </thead>\n",
              "  <tbody>\n",
              "    <tr>\n",
              "      <th>0</th>\n",
              "      <td>1</td>\n",
              "      <td>Portugal</td>\n",
              "      <td>This is ripe and fruity, a wine that is smooth...</td>\n",
              "      <td>15.0</td>\n",
              "      <td>87</td>\n",
              "      <td>Portuguese Red</td>\n",
              "      <td>Quinta dos Avidagos</td>\n",
              "    </tr>\n",
              "    <tr>\n",
              "      <th>1</th>\n",
              "      <td>2</td>\n",
              "      <td>US</td>\n",
              "      <td>Tart and snappy, the flavors of lime flesh and...</td>\n",
              "      <td>14.0</td>\n",
              "      <td>87</td>\n",
              "      <td>Pinot Gris</td>\n",
              "      <td>Rainstorm</td>\n",
              "    </tr>\n",
              "    <tr>\n",
              "      <th>2</th>\n",
              "      <td>3</td>\n",
              "      <td>US</td>\n",
              "      <td>Pineapple rind, lemon pith and orange blossom ...</td>\n",
              "      <td>13.0</td>\n",
              "      <td>87</td>\n",
              "      <td>Riesling</td>\n",
              "      <td>St. Julian</td>\n",
              "    </tr>\n",
              "    <tr>\n",
              "      <th>3</th>\n",
              "      <td>4</td>\n",
              "      <td>US</td>\n",
              "      <td>Much like the regular bottling from 2012, this...</td>\n",
              "      <td>65.0</td>\n",
              "      <td>87</td>\n",
              "      <td>Pinot Noir</td>\n",
              "      <td>Sweet Cheeks</td>\n",
              "    </tr>\n",
              "    <tr>\n",
              "      <th>4</th>\n",
              "      <td>5</td>\n",
              "      <td>Spain</td>\n",
              "      <td>Blackberry and raspberry aromas show a typical...</td>\n",
              "      <td>15.0</td>\n",
              "      <td>87</td>\n",
              "      <td>Tempranillo-Merlot</td>\n",
              "      <td>Tandem</td>\n",
              "    </tr>\n",
              "  </tbody>\n",
              "</table>\n",
              "</div>"
            ],
            "text/plain": [
              "   Unnamed: 0   country  ...             variety               winery\n",
              "0           1  Portugal  ...      Portuguese Red  Quinta dos Avidagos\n",
              "1           2        US  ...          Pinot Gris            Rainstorm\n",
              "2           3        US  ...            Riesling           St. Julian\n",
              "3           4        US  ...          Pinot Noir         Sweet Cheeks\n",
              "4           5     Spain  ...  Tempranillo-Merlot               Tandem\n",
              "\n",
              "[5 rows x 7 columns]"
            ]
          },
          "metadata": {
            "tags": []
          },
          "execution_count": 4
        }
      ]
    },
    {
      "cell_type": "code",
      "metadata": {
        "id": "PQGVA4ykfQP0",
        "colab_type": "code",
        "outputId": "0e8eb9b3-db38-4b77-dcde-0326f54e48c6",
        "colab": {
          "base_uri": "https://localhost:8080/",
          "height": 204
        }
      },
      "source": [
        "# drop the unnecessary column and view it\n",
        "wine_df = wine_df.drop(\"Unnamed: 0\", axis = 1)\n",
        "wine_df.head()"
      ],
      "execution_count": 5,
      "outputs": [
        {
          "output_type": "execute_result",
          "data": {
            "text/html": [
              "<div>\n",
              "<style scoped>\n",
              "    .dataframe tbody tr th:only-of-type {\n",
              "        vertical-align: middle;\n",
              "    }\n",
              "\n",
              "    .dataframe tbody tr th {\n",
              "        vertical-align: top;\n",
              "    }\n",
              "\n",
              "    .dataframe thead th {\n",
              "        text-align: right;\n",
              "    }\n",
              "</style>\n",
              "<table border=\"1\" class=\"dataframe\">\n",
              "  <thead>\n",
              "    <tr style=\"text-align: right;\">\n",
              "      <th></th>\n",
              "      <th>country</th>\n",
              "      <th>description</th>\n",
              "      <th>price</th>\n",
              "      <th>points</th>\n",
              "      <th>variety</th>\n",
              "      <th>winery</th>\n",
              "    </tr>\n",
              "  </thead>\n",
              "  <tbody>\n",
              "    <tr>\n",
              "      <th>0</th>\n",
              "      <td>Portugal</td>\n",
              "      <td>This is ripe and fruity, a wine that is smooth...</td>\n",
              "      <td>15.0</td>\n",
              "      <td>87</td>\n",
              "      <td>Portuguese Red</td>\n",
              "      <td>Quinta dos Avidagos</td>\n",
              "    </tr>\n",
              "    <tr>\n",
              "      <th>1</th>\n",
              "      <td>US</td>\n",
              "      <td>Tart and snappy, the flavors of lime flesh and...</td>\n",
              "      <td>14.0</td>\n",
              "      <td>87</td>\n",
              "      <td>Pinot Gris</td>\n",
              "      <td>Rainstorm</td>\n",
              "    </tr>\n",
              "    <tr>\n",
              "      <th>2</th>\n",
              "      <td>US</td>\n",
              "      <td>Pineapple rind, lemon pith and orange blossom ...</td>\n",
              "      <td>13.0</td>\n",
              "      <td>87</td>\n",
              "      <td>Riesling</td>\n",
              "      <td>St. Julian</td>\n",
              "    </tr>\n",
              "    <tr>\n",
              "      <th>3</th>\n",
              "      <td>US</td>\n",
              "      <td>Much like the regular bottling from 2012, this...</td>\n",
              "      <td>65.0</td>\n",
              "      <td>87</td>\n",
              "      <td>Pinot Noir</td>\n",
              "      <td>Sweet Cheeks</td>\n",
              "    </tr>\n",
              "    <tr>\n",
              "      <th>4</th>\n",
              "      <td>Spain</td>\n",
              "      <td>Blackberry and raspberry aromas show a typical...</td>\n",
              "      <td>15.0</td>\n",
              "      <td>87</td>\n",
              "      <td>Tempranillo-Merlot</td>\n",
              "      <td>Tandem</td>\n",
              "    </tr>\n",
              "  </tbody>\n",
              "</table>\n",
              "</div>"
            ],
            "text/plain": [
              "    country  ...               winery\n",
              "0  Portugal  ...  Quinta dos Avidagos\n",
              "1        US  ...            Rainstorm\n",
              "2        US  ...           St. Julian\n",
              "3        US  ...         Sweet Cheeks\n",
              "4     Spain  ...               Tandem\n",
              "\n",
              "[5 rows x 6 columns]"
            ]
          },
          "metadata": {
            "tags": []
          },
          "execution_count": 5
        }
      ]
    },
    {
      "cell_type": "code",
      "metadata": {
        "id": "q4QSHRTVfdSD",
        "colab_type": "code",
        "outputId": "53a0b5b9-9e1c-433f-ae55-4c3c8259e378",
        "colab": {
          "base_uri": "https://localhost:8080/",
          "height": 204
        }
      },
      "source": [
        "# Get the sentiment score for each description using Textblob\n",
        "wine_df[\"sentiment\"] = wine_df[\"description\"].map(lambda text: TextBlob(text).sentiment.polarity)\n",
        "\n",
        "# Get the reveiw length of the descriptions\n",
        "wine_df[\"length\"] = wine_df[\"description\"].apply(lambda x: len(x))\n",
        "\n",
        "# get the word count of the descriptions\n",
        "wine_df[\"word_count\"] = wine_df[\"description\"].apply(lambda x: len(str(x).split()))\n",
        "\n",
        "wine_df.head()"
      ],
      "execution_count": 6,
      "outputs": [
        {
          "output_type": "execute_result",
          "data": {
            "text/html": [
              "<div>\n",
              "<style scoped>\n",
              "    .dataframe tbody tr th:only-of-type {\n",
              "        vertical-align: middle;\n",
              "    }\n",
              "\n",
              "    .dataframe tbody tr th {\n",
              "        vertical-align: top;\n",
              "    }\n",
              "\n",
              "    .dataframe thead th {\n",
              "        text-align: right;\n",
              "    }\n",
              "</style>\n",
              "<table border=\"1\" class=\"dataframe\">\n",
              "  <thead>\n",
              "    <tr style=\"text-align: right;\">\n",
              "      <th></th>\n",
              "      <th>country</th>\n",
              "      <th>description</th>\n",
              "      <th>price</th>\n",
              "      <th>points</th>\n",
              "      <th>variety</th>\n",
              "      <th>winery</th>\n",
              "      <th>sentiment</th>\n",
              "      <th>length</th>\n",
              "      <th>word_count</th>\n",
              "    </tr>\n",
              "  </thead>\n",
              "  <tbody>\n",
              "    <tr>\n",
              "      <th>0</th>\n",
              "      <td>Portugal</td>\n",
              "      <td>This is ripe and fruity, a wine that is smooth...</td>\n",
              "      <td>15.0</td>\n",
              "      <td>87</td>\n",
              "      <td>Portuguese Red</td>\n",
              "      <td>Quinta dos Avidagos</td>\n",
              "      <td>0.220000</td>\n",
              "      <td>227</td>\n",
              "      <td>38</td>\n",
              "    </tr>\n",
              "    <tr>\n",
              "      <th>1</th>\n",
              "      <td>US</td>\n",
              "      <td>Tart and snappy, the flavors of lime flesh and...</td>\n",
              "      <td>14.0</td>\n",
              "      <td>87</td>\n",
              "      <td>Pinot Gris</td>\n",
              "      <td>Rainstorm</td>\n",
              "      <td>0.025000</td>\n",
              "      <td>186</td>\n",
              "      <td>28</td>\n",
              "    </tr>\n",
              "    <tr>\n",
              "      <th>2</th>\n",
              "      <td>US</td>\n",
              "      <td>Pineapple rind, lemon pith and orange blossom ...</td>\n",
              "      <td>13.0</td>\n",
              "      <td>87</td>\n",
              "      <td>Riesling</td>\n",
              "      <td>St. Julian</td>\n",
              "      <td>0.166667</td>\n",
              "      <td>199</td>\n",
              "      <td>33</td>\n",
              "    </tr>\n",
              "    <tr>\n",
              "      <th>3</th>\n",
              "      <td>US</td>\n",
              "      <td>Much like the regular bottling from 2012, this...</td>\n",
              "      <td>65.0</td>\n",
              "      <td>87</td>\n",
              "      <td>Pinot Noir</td>\n",
              "      <td>Sweet Cheeks</td>\n",
              "      <td>0.306667</td>\n",
              "      <td>249</td>\n",
              "      <td>41</td>\n",
              "    </tr>\n",
              "    <tr>\n",
              "      <th>4</th>\n",
              "      <td>Spain</td>\n",
              "      <td>Blackberry and raspberry aromas show a typical...</td>\n",
              "      <td>15.0</td>\n",
              "      <td>87</td>\n",
              "      <td>Tempranillo-Merlot</td>\n",
              "      <td>Tandem</td>\n",
              "      <td>0.026667</td>\n",
              "      <td>261</td>\n",
              "      <td>42</td>\n",
              "    </tr>\n",
              "  </tbody>\n",
              "</table>\n",
              "</div>"
            ],
            "text/plain": [
              "    country  ... word_count\n",
              "0  Portugal  ...         38\n",
              "1        US  ...         28\n",
              "2        US  ...         33\n",
              "3        US  ...         41\n",
              "4     Spain  ...         42\n",
              "\n",
              "[5 rows x 9 columns]"
            ]
          },
          "metadata": {
            "tags": []
          },
          "execution_count": 6
        }
      ]
    },
    {
      "cell_type": "markdown",
      "metadata": {
        "id": "MER0C7Ps0rwZ",
        "colab_type": "text"
      },
      "source": [
        "# ***Initial Data Discovery***"
      ]
    },
    {
      "cell_type": "code",
      "metadata": {
        "id": "4bS5VGMlffBW",
        "colab_type": "code",
        "outputId": "ef557d2f-920a-4b64-c308-c425b7b09bed",
        "colab": {
          "base_uri": "https://localhost:8080/",
          "height": 34
        }
      },
      "source": [
        "# find the minimum sentiment scores\n",
        "wine_df[\"sentiment\"].min()"
      ],
      "execution_count": 7,
      "outputs": [
        {
          "output_type": "execute_result",
          "data": {
            "text/plain": [
              "-0.8"
            ]
          },
          "metadata": {
            "tags": []
          },
          "execution_count": 7
        }
      ]
    },
    {
      "cell_type": "code",
      "metadata": {
        "id": "5HReAUxbfiDf",
        "colab_type": "code",
        "outputId": "b5e74ef7-02b6-40b0-ad04-304231196726",
        "colab": {
          "base_uri": "https://localhost:8080/",
          "height": 80
        }
      },
      "source": [
        "# print out the wines with the lowest sentiment score\n",
        "wine_df.loc[wine_df.sentiment == -0.8]"
      ],
      "execution_count": 8,
      "outputs": [
        {
          "output_type": "execute_result",
          "data": {
            "text/html": [
              "<div>\n",
              "<style scoped>\n",
              "    .dataframe tbody tr th:only-of-type {\n",
              "        vertical-align: middle;\n",
              "    }\n",
              "\n",
              "    .dataframe tbody tr th {\n",
              "        vertical-align: top;\n",
              "    }\n",
              "\n",
              "    .dataframe thead th {\n",
              "        text-align: right;\n",
              "    }\n",
              "</style>\n",
              "<table border=\"1\" class=\"dataframe\">\n",
              "  <thead>\n",
              "    <tr style=\"text-align: right;\">\n",
              "      <th></th>\n",
              "      <th>country</th>\n",
              "      <th>description</th>\n",
              "      <th>price</th>\n",
              "      <th>points</th>\n",
              "      <th>variety</th>\n",
              "      <th>winery</th>\n",
              "      <th>sentiment</th>\n",
              "      <th>length</th>\n",
              "      <th>word_count</th>\n",
              "    </tr>\n",
              "  </thead>\n",
              "  <tbody>\n",
              "    <tr>\n",
              "      <th>114047</th>\n",
              "      <td>US</td>\n",
              "      <td>Touches of soy, cedar and smoked meat enhance ...</td>\n",
              "      <td>25.0</td>\n",
              "      <td>89</td>\n",
              "      <td>Cabernet Sauvignon</td>\n",
              "      <td>Lucas &amp; Lewellen</td>\n",
              "      <td>-0.8</td>\n",
              "      <td>260</td>\n",
              "      <td>46</td>\n",
              "    </tr>\n",
              "  </tbody>\n",
              "</table>\n",
              "</div>"
            ],
            "text/plain": [
              "       country  ... word_count\n",
              "114047      US  ...         46\n",
              "\n",
              "[1 rows x 9 columns]"
            ]
          },
          "metadata": {
            "tags": []
          },
          "execution_count": 8
        }
      ]
    },
    {
      "cell_type": "code",
      "metadata": {
        "id": "CB7mDZHNfjmM",
        "colab_type": "code",
        "outputId": "38ade222-36b7-4c2c-b66c-f638dcf603d0",
        "colab": {
          "base_uri": "https://localhost:8080/",
          "height": 34
        }
      },
      "source": [
        "# find the maximum sentiment scores\n",
        "wine_df[\"sentiment\"].max()"
      ],
      "execution_count": 9,
      "outputs": [
        {
          "output_type": "execute_result",
          "data": {
            "text/plain": [
              "1.0"
            ]
          },
          "metadata": {
            "tags": []
          },
          "execution_count": 9
        }
      ]
    },
    {
      "cell_type": "code",
      "metadata": {
        "id": "h6WDJLTHflTq",
        "colab_type": "code",
        "outputId": "18f2362f-d43c-42d0-e816-29791c155eeb",
        "colab": {
          "base_uri": "https://localhost:8080/",
          "height": 1000
        }
      },
      "source": [
        "# print out the wines with the highest sentimental score\n",
        "wine_df.loc[wine_df.sentiment == 1.0]"
      ],
      "execution_count": 10,
      "outputs": [
        {
          "output_type": "execute_result",
          "data": {
            "text/html": [
              "<div>\n",
              "<style scoped>\n",
              "    .dataframe tbody tr th:only-of-type {\n",
              "        vertical-align: middle;\n",
              "    }\n",
              "\n",
              "    .dataframe tbody tr th {\n",
              "        vertical-align: top;\n",
              "    }\n",
              "\n",
              "    .dataframe thead th {\n",
              "        text-align: right;\n",
              "    }\n",
              "</style>\n",
              "<table border=\"1\" class=\"dataframe\">\n",
              "  <thead>\n",
              "    <tr style=\"text-align: right;\">\n",
              "      <th></th>\n",
              "      <th>country</th>\n",
              "      <th>description</th>\n",
              "      <th>price</th>\n",
              "      <th>points</th>\n",
              "      <th>variety</th>\n",
              "      <th>winery</th>\n",
              "      <th>sentiment</th>\n",
              "      <th>length</th>\n",
              "      <th>word_count</th>\n",
              "    </tr>\n",
              "  </thead>\n",
              "  <tbody>\n",
              "    <tr>\n",
              "      <th>1268</th>\n",
              "      <td>France</td>\n",
              "      <td>Produced from organic grapes, the wine is ripe...</td>\n",
              "      <td>30.0</td>\n",
              "      <td>90</td>\n",
              "      <td>Rosé</td>\n",
              "      <td>Domaine Sainte-Marie</td>\n",
              "      <td>1.0</td>\n",
              "      <td>210</td>\n",
              "      <td>37</td>\n",
              "    </tr>\n",
              "    <tr>\n",
              "      <th>2952</th>\n",
              "      <td>Argentina</td>\n",
              "      <td>This blend of 88% Cabernet Sauvignon and 12% C...</td>\n",
              "      <td>30.0</td>\n",
              "      <td>86</td>\n",
              "      <td>Cabernet Blend</td>\n",
              "      <td>Viña Alicia</td>\n",
              "      <td>1.0</td>\n",
              "      <td>190</td>\n",
              "      <td>33</td>\n",
              "    </tr>\n",
              "    <tr>\n",
              "      <th>4394</th>\n",
              "      <td>US</td>\n",
              "      <td>Anchored in fig, plum and berry fruit, this is...</td>\n",
              "      <td>20.0</td>\n",
              "      <td>87</td>\n",
              "      <td>Pinot Noir</td>\n",
              "      <td>Silvan Ridge</td>\n",
              "      <td>1.0</td>\n",
              "      <td>206</td>\n",
              "      <td>35</td>\n",
              "    </tr>\n",
              "    <tr>\n",
              "      <th>9445</th>\n",
              "      <td>US</td>\n",
              "      <td>Anchored in fig, plum and berry fruit, this is...</td>\n",
              "      <td>20.0</td>\n",
              "      <td>87</td>\n",
              "      <td>Pinot Noir</td>\n",
              "      <td>Silvan Ridge</td>\n",
              "      <td>1.0</td>\n",
              "      <td>206</td>\n",
              "      <td>35</td>\n",
              "    </tr>\n",
              "    <tr>\n",
              "      <th>12320</th>\n",
              "      <td>France</td>\n",
              "      <td>Ripe and fruity, this is a wine made for drink...</td>\n",
              "      <td>18.0</td>\n",
              "      <td>89</td>\n",
              "      <td>Bordeaux-style Red Blend</td>\n",
              "      <td>Château de Nardon</td>\n",
              "      <td>1.0</td>\n",
              "      <td>163</td>\n",
              "      <td>28</td>\n",
              "    </tr>\n",
              "    <tr>\n",
              "      <th>14194</th>\n",
              "      <td>Australia</td>\n",
              "      <td>A bit softer, plusher and creamier than the Sh...</td>\n",
              "      <td>40.0</td>\n",
              "      <td>92</td>\n",
              "      <td>Shiraz</td>\n",
              "      <td>Henry's Drive Vignerons</td>\n",
              "      <td>1.0</td>\n",
              "      <td>231</td>\n",
              "      <td>36</td>\n",
              "    </tr>\n",
              "    <tr>\n",
              "      <th>16490</th>\n",
              "      <td>US</td>\n",
              "      <td>The winery's flagship offering, this wine is a...</td>\n",
              "      <td>45.0</td>\n",
              "      <td>92</td>\n",
              "      <td>Rhône-style Red Blend</td>\n",
              "      <td>Syncline</td>\n",
              "      <td>1.0</td>\n",
              "      <td>283</td>\n",
              "      <td>47</td>\n",
              "    </tr>\n",
              "    <tr>\n",
              "      <th>16884</th>\n",
              "      <td>US</td>\n",
              "      <td>Aromas of vanilla, cherry and cola start this ...</td>\n",
              "      <td>17.0</td>\n",
              "      <td>85</td>\n",
              "      <td>Cabernet Franc</td>\n",
              "      <td>Cooper Vineyards</td>\n",
              "      <td>1.0</td>\n",
              "      <td>208</td>\n",
              "      <td>35</td>\n",
              "    </tr>\n",
              "    <tr>\n",
              "      <th>23106</th>\n",
              "      <td>Italy</td>\n",
              "      <td>There's a buttery, creamy banana feeling to th...</td>\n",
              "      <td>15.0</td>\n",
              "      <td>88</td>\n",
              "      <td>Pinot Grigio</td>\n",
              "      <td>Mezzacorona</td>\n",
              "      <td>1.0</td>\n",
              "      <td>217</td>\n",
              "      <td>33</td>\n",
              "    </tr>\n",
              "    <tr>\n",
              "      <th>24820</th>\n",
              "      <td>US</td>\n",
              "      <td>This wine opens with aromas of apricot and pea...</td>\n",
              "      <td>36.0</td>\n",
              "      <td>90</td>\n",
              "      <td>White Blend</td>\n",
              "      <td>Hedges</td>\n",
              "      <td>1.0</td>\n",
              "      <td>132</td>\n",
              "      <td>23</td>\n",
              "    </tr>\n",
              "    <tr>\n",
              "      <th>27169</th>\n",
              "      <td>US</td>\n",
              "      <td>The aromas of lemon, soil and flowers are quit...</td>\n",
              "      <td>32.0</td>\n",
              "      <td>89</td>\n",
              "      <td>Petite Verdot</td>\n",
              "      <td>Cloudlift Cellars</td>\n",
              "      <td>1.0</td>\n",
              "      <td>157</td>\n",
              "      <td>25</td>\n",
              "    </tr>\n",
              "    <tr>\n",
              "      <th>28825</th>\n",
              "      <td>US</td>\n",
              "      <td>Made from 90% Chardonnay, the remainder Pinot ...</td>\n",
              "      <td>22.0</td>\n",
              "      <td>90</td>\n",
              "      <td>Sparkling Blend</td>\n",
              "      <td>Mumm Napa</td>\n",
              "      <td>1.0</td>\n",
              "      <td>244</td>\n",
              "      <td>38</td>\n",
              "    </tr>\n",
              "    <tr>\n",
              "      <th>33176</th>\n",
              "      <td>US</td>\n",
              "      <td>A blend of just over one-third Riesling, Atwat...</td>\n",
              "      <td>16.0</td>\n",
              "      <td>86</td>\n",
              "      <td>White Blend</td>\n",
              "      <td>Atwater</td>\n",
              "      <td>1.0</td>\n",
              "      <td>295</td>\n",
              "      <td>42</td>\n",
              "    </tr>\n",
              "    <tr>\n",
              "      <th>33305</th>\n",
              "      <td>US</td>\n",
              "      <td>This wine entices with its nuanced aromas of m...</td>\n",
              "      <td>35.0</td>\n",
              "      <td>91</td>\n",
              "      <td>Chardonnay</td>\n",
              "      <td>Efeste</td>\n",
              "      <td>1.0</td>\n",
              "      <td>261</td>\n",
              "      <td>39</td>\n",
              "    </tr>\n",
              "    <tr>\n",
              "      <th>35798</th>\n",
              "      <td>US</td>\n",
              "      <td>This is barrel fermented, and it's for the con...</td>\n",
              "      <td>18.0</td>\n",
              "      <td>88</td>\n",
              "      <td>Chardonnay</td>\n",
              "      <td>Arbor Crest</td>\n",
              "      <td>1.0</td>\n",
              "      <td>192</td>\n",
              "      <td>32</td>\n",
              "    </tr>\n",
              "    <tr>\n",
              "      <th>36024</th>\n",
              "      <td>US</td>\n",
              "      <td>Aromas of cocoa powder, cherry, medicinal note...</td>\n",
              "      <td>28.0</td>\n",
              "      <td>90</td>\n",
              "      <td>Merlot</td>\n",
              "      <td>J. Bookwalter</td>\n",
              "      <td>1.0</td>\n",
              "      <td>233</td>\n",
              "      <td>35</td>\n",
              "    </tr>\n",
              "    <tr>\n",
              "      <th>37393</th>\n",
              "      <td>US</td>\n",
              "      <td>Winemakers James Ontiveros and Paul Wilkins te...</td>\n",
              "      <td>48.0</td>\n",
              "      <td>92</td>\n",
              "      <td>Pinot Noir</td>\n",
              "      <td>Alta Maria</td>\n",
              "      <td>1.0</td>\n",
              "      <td>388</td>\n",
              "      <td>59</td>\n",
              "    </tr>\n",
              "    <tr>\n",
              "      <th>38446</th>\n",
              "      <td>US</td>\n",
              "      <td>A knockout effort, this features perfectly rip...</td>\n",
              "      <td>45.0</td>\n",
              "      <td>94</td>\n",
              "      <td>Pinot Noir</td>\n",
              "      <td>Alloro</td>\n",
              "      <td>1.0</td>\n",
              "      <td>245</td>\n",
              "      <td>39</td>\n",
              "    </tr>\n",
              "    <tr>\n",
              "      <th>39124</th>\n",
              "      <td>Italy</td>\n",
              "      <td>The name “Salvarenza” comes from a legend in w...</td>\n",
              "      <td>35.0</td>\n",
              "      <td>91</td>\n",
              "      <td>Garganega</td>\n",
              "      <td>Gini</td>\n",
              "      <td>1.0</td>\n",
              "      <td>260</td>\n",
              "      <td>42</td>\n",
              "    </tr>\n",
              "    <tr>\n",
              "      <th>41654</th>\n",
              "      <td>US</td>\n",
              "      <td>Toast, Bosc pear, spice, lees and flower aroma...</td>\n",
              "      <td>28.0</td>\n",
              "      <td>86</td>\n",
              "      <td>Chardonnay</td>\n",
              "      <td>Noviello</td>\n",
              "      <td>1.0</td>\n",
              "      <td>138</td>\n",
              "      <td>27</td>\n",
              "    </tr>\n",
              "    <tr>\n",
              "      <th>42002</th>\n",
              "      <td>Greece</td>\n",
              "      <td>Savory spice and roasted meat aromas lead into...</td>\n",
              "      <td>16.0</td>\n",
              "      <td>89</td>\n",
              "      <td>Xinomavro</td>\n",
              "      <td>Chrisohoou</td>\n",
              "      <td>1.0</td>\n",
              "      <td>199</td>\n",
              "      <td>34</td>\n",
              "    </tr>\n",
              "    <tr>\n",
              "      <th>50746</th>\n",
              "      <td>US</td>\n",
              "      <td>The 2006 Chardonnay is another excellent bottl...</td>\n",
              "      <td>16.0</td>\n",
              "      <td>90</td>\n",
              "      <td>Chardonnay</td>\n",
              "      <td>A to Z</td>\n",
              "      <td>1.0</td>\n",
              "      <td>323</td>\n",
              "      <td>50</td>\n",
              "    </tr>\n",
              "    <tr>\n",
              "      <th>51344</th>\n",
              "      <td>US</td>\n",
              "      <td>A tart and beautifully-defined mix of apple an...</td>\n",
              "      <td>17.0</td>\n",
              "      <td>91</td>\n",
              "      <td>Pinot Gris</td>\n",
              "      <td>Cristom</td>\n",
              "      <td>1.0</td>\n",
              "      <td>170</td>\n",
              "      <td>27</td>\n",
              "    </tr>\n",
              "    <tr>\n",
              "      <th>59748</th>\n",
              "      <td>US</td>\n",
              "      <td>The aromas of lemon, soil and flowers are quit...</td>\n",
              "      <td>32.0</td>\n",
              "      <td>89</td>\n",
              "      <td>Petite Verdot</td>\n",
              "      <td>Cloudlift Cellars</td>\n",
              "      <td>1.0</td>\n",
              "      <td>157</td>\n",
              "      <td>25</td>\n",
              "    </tr>\n",
              "    <tr>\n",
              "      <th>60893</th>\n",
              "      <td>US</td>\n",
              "      <td>Aromas of beeswax, honeysuckle and mineral cha...</td>\n",
              "      <td>30.0</td>\n",
              "      <td>92</td>\n",
              "      <td>Roussanne</td>\n",
              "      <td>Latta</td>\n",
              "      <td>1.0</td>\n",
              "      <td>162</td>\n",
              "      <td>23</td>\n",
              "    </tr>\n",
              "    <tr>\n",
              "      <th>61488</th>\n",
              "      <td>US</td>\n",
              "      <td>In perfect proportion, this estate-grown, biod...</td>\n",
              "      <td>35.0</td>\n",
              "      <td>91</td>\n",
              "      <td>Viognier</td>\n",
              "      <td>Cowhorn</td>\n",
              "      <td>1.0</td>\n",
              "      <td>302</td>\n",
              "      <td>45</td>\n",
              "    </tr>\n",
              "    <tr>\n",
              "      <th>61919</th>\n",
              "      <td>US</td>\n",
              "      <td>The 11th vintage of Abacela's Albariño is a ra...</td>\n",
              "      <td>18.0</td>\n",
              "      <td>89</td>\n",
              "      <td>Albariño</td>\n",
              "      <td>Abacela</td>\n",
              "      <td>1.0</td>\n",
              "      <td>247</td>\n",
              "      <td>42</td>\n",
              "    </tr>\n",
              "    <tr>\n",
              "      <th>64504</th>\n",
              "      <td>US</td>\n",
              "      <td>Immediately arresting with its aromas that sug...</td>\n",
              "      <td>35.0</td>\n",
              "      <td>92</td>\n",
              "      <td>Syrah</td>\n",
              "      <td>Syncline</td>\n",
              "      <td>1.0</td>\n",
              "      <td>219</td>\n",
              "      <td>33</td>\n",
              "    </tr>\n",
              "    <tr>\n",
              "      <th>67807</th>\n",
              "      <td>US</td>\n",
              "      <td>This is made from 100% Syrah from mountainous ...</td>\n",
              "      <td>80.0</td>\n",
              "      <td>90</td>\n",
              "      <td>Syrah</td>\n",
              "      <td>Patland</td>\n",
              "      <td>1.0</td>\n",
              "      <td>262</td>\n",
              "      <td>40</td>\n",
              "    </tr>\n",
              "    <tr>\n",
              "      <th>71227</th>\n",
              "      <td>US</td>\n",
              "      <td>This Zin has candied, fruit punch flavors of c...</td>\n",
              "      <td>18.0</td>\n",
              "      <td>85</td>\n",
              "      <td>Zinfandel</td>\n",
              "      <td>Felten Cellars</td>\n",
              "      <td>1.0</td>\n",
              "      <td>177</td>\n",
              "      <td>27</td>\n",
              "    </tr>\n",
              "    <tr>\n",
              "      <th>...</th>\n",
              "      <td>...</td>\n",
              "      <td>...</td>\n",
              "      <td>...</td>\n",
              "      <td>...</td>\n",
              "      <td>...</td>\n",
              "      <td>...</td>\n",
              "      <td>...</td>\n",
              "      <td>...</td>\n",
              "      <td>...</td>\n",
              "    </tr>\n",
              "    <tr>\n",
              "      <th>77367</th>\n",
              "      <td>US</td>\n",
              "      <td>Syrah is the best of the Script &amp; Seal offerin...</td>\n",
              "      <td>15.0</td>\n",
              "      <td>88</td>\n",
              "      <td>Syrah</td>\n",
              "      <td>Script &amp; Seal</td>\n",
              "      <td>1.0</td>\n",
              "      <td>132</td>\n",
              "      <td>20</td>\n",
              "    </tr>\n",
              "    <tr>\n",
              "      <th>77952</th>\n",
              "      <td>Spain</td>\n",
              "      <td>A soupy sort of wine with raisiny aromas. It t...</td>\n",
              "      <td>9.0</td>\n",
              "      <td>81</td>\n",
              "      <td>Syrah</td>\n",
              "      <td>Agustín Cubero</td>\n",
              "      <td>1.0</td>\n",
              "      <td>149</td>\n",
              "      <td>26</td>\n",
              "    </tr>\n",
              "    <tr>\n",
              "      <th>84040</th>\n",
              "      <td>US</td>\n",
              "      <td>Just under 10 g/L residual sugar, this Rieslin...</td>\n",
              "      <td>24.0</td>\n",
              "      <td>93</td>\n",
              "      <td>Riesling</td>\n",
              "      <td>Pacific Rim</td>\n",
              "      <td>1.0</td>\n",
              "      <td>315</td>\n",
              "      <td>50</td>\n",
              "    </tr>\n",
              "    <tr>\n",
              "      <th>86413</th>\n",
              "      <td>New Zealand</td>\n",
              "      <td>I continue to be impressed by how well even en...</td>\n",
              "      <td>16.0</td>\n",
              "      <td>89</td>\n",
              "      <td>Sauvignon Blanc</td>\n",
              "      <td>Tiki Sound</td>\n",
              "      <td>1.0</td>\n",
              "      <td>182</td>\n",
              "      <td>31</td>\n",
              "    </tr>\n",
              "    <tr>\n",
              "      <th>88062</th>\n",
              "      <td>US</td>\n",
              "      <td>In perfect proportion, this estate-grown, biod...</td>\n",
              "      <td>35.0</td>\n",
              "      <td>91</td>\n",
              "      <td>Viognier</td>\n",
              "      <td>Cowhorn</td>\n",
              "      <td>1.0</td>\n",
              "      <td>302</td>\n",
              "      <td>45</td>\n",
              "    </tr>\n",
              "    <tr>\n",
              "      <th>90999</th>\n",
              "      <td>Greece</td>\n",
              "      <td>Savory spice and roasted meat aromas lead into...</td>\n",
              "      <td>16.0</td>\n",
              "      <td>89</td>\n",
              "      <td>Xinomavro</td>\n",
              "      <td>Chrisohoou</td>\n",
              "      <td>1.0</td>\n",
              "      <td>199</td>\n",
              "      <td>34</td>\n",
              "    </tr>\n",
              "    <tr>\n",
              "      <th>92598</th>\n",
              "      <td>US</td>\n",
              "      <td>The winery identifies this as “the best barrel...</td>\n",
              "      <td>55.0</td>\n",
              "      <td>93</td>\n",
              "      <td>Pinot Noir</td>\n",
              "      <td>Adelsheim</td>\n",
              "      <td>1.0</td>\n",
              "      <td>292</td>\n",
              "      <td>45</td>\n",
              "    </tr>\n",
              "    <tr>\n",
              "      <th>93147</th>\n",
              "      <td>US</td>\n",
              "      <td>DuBrul Vineyard is best known for its Bordeaux...</td>\n",
              "      <td>65.0</td>\n",
              "      <td>90</td>\n",
              "      <td>Syrah</td>\n",
              "      <td>Côte Bonneville</td>\n",
              "      <td>1.0</td>\n",
              "      <td>195</td>\n",
              "      <td>34</td>\n",
              "    </tr>\n",
              "    <tr>\n",
              "      <th>93283</th>\n",
              "      <td>France</td>\n",
              "      <td>From a single-walled vineyard, this is a ripe,...</td>\n",
              "      <td>73.0</td>\n",
              "      <td>93</td>\n",
              "      <td>Gamay</td>\n",
              "      <td>Domaine Labruyère</td>\n",
              "      <td>1.0</td>\n",
              "      <td>273</td>\n",
              "      <td>45</td>\n",
              "    </tr>\n",
              "    <tr>\n",
              "      <th>98208</th>\n",
              "      <td>US</td>\n",
              "      <td>Syrah is the best of the Script &amp; Seal offerin...</td>\n",
              "      <td>15.0</td>\n",
              "      <td>88</td>\n",
              "      <td>Syrah</td>\n",
              "      <td>Script &amp; Seal</td>\n",
              "      <td>1.0</td>\n",
              "      <td>132</td>\n",
              "      <td>20</td>\n",
              "    </tr>\n",
              "    <tr>\n",
              "      <th>98634</th>\n",
              "      <td>US</td>\n",
              "      <td>This is a generous and ripe version of the var...</td>\n",
              "      <td>18.0</td>\n",
              "      <td>90</td>\n",
              "      <td>Chardonnay</td>\n",
              "      <td>Beringer</td>\n",
              "      <td>1.0</td>\n",
              "      <td>169</td>\n",
              "      <td>29</td>\n",
              "    </tr>\n",
              "    <tr>\n",
              "      <th>103318</th>\n",
              "      <td>Argentina</td>\n",
              "      <td>This is a superripe Malbec with jammy aromas o...</td>\n",
              "      <td>22.0</td>\n",
              "      <td>88</td>\n",
              "      <td>Malbec</td>\n",
              "      <td>Bodega Patritti</td>\n",
              "      <td>1.0</td>\n",
              "      <td>254</td>\n",
              "      <td>44</td>\n",
              "    </tr>\n",
              "    <tr>\n",
              "      <th>104004</th>\n",
              "      <td>US</td>\n",
              "      <td>Showing a lot of barrel toast in both nose and...</td>\n",
              "      <td>45.0</td>\n",
              "      <td>91</td>\n",
              "      <td>Chardonnay</td>\n",
              "      <td>Adelsheim</td>\n",
              "      <td>1.0</td>\n",
              "      <td>218</td>\n",
              "      <td>39</td>\n",
              "    </tr>\n",
              "    <tr>\n",
              "      <th>115151</th>\n",
              "      <td>Italy</td>\n",
              "      <td>This has delicious red-fruit nuances that are ...</td>\n",
              "      <td>56.0</td>\n",
              "      <td>92</td>\n",
              "      <td>Red Blend</td>\n",
              "      <td>Principe Corsini Fattoria Le Corti</td>\n",
              "      <td>1.0</td>\n",
              "      <td>237</td>\n",
              "      <td>39</td>\n",
              "    </tr>\n",
              "    <tr>\n",
              "      <th>120809</th>\n",
              "      <td>US</td>\n",
              "      <td>This wine brings enchanting aromas of toast, s...</td>\n",
              "      <td>45.0</td>\n",
              "      <td>90</td>\n",
              "      <td>Chardonnay</td>\n",
              "      <td>Rasa</td>\n",
              "      <td>1.0</td>\n",
              "      <td>164</td>\n",
              "      <td>26</td>\n",
              "    </tr>\n",
              "    <tr>\n",
              "      <th>125362</th>\n",
              "      <td>France</td>\n",
              "      <td>This Beaune negociant has produced a ripe, bla...</td>\n",
              "      <td>12.0</td>\n",
              "      <td>87</td>\n",
              "      <td>Gamay</td>\n",
              "      <td>Joseph Drouhin</td>\n",
              "      <td>1.0</td>\n",
              "      <td>211</td>\n",
              "      <td>34</td>\n",
              "    </tr>\n",
              "    <tr>\n",
              "      <th>126833</th>\n",
              "      <td>Greece</td>\n",
              "      <td>Savory spice and roasted meat aromas lead into...</td>\n",
              "      <td>16.0</td>\n",
              "      <td>89</td>\n",
              "      <td>Xinomavro</td>\n",
              "      <td>Chrisohoou</td>\n",
              "      <td>1.0</td>\n",
              "      <td>199</td>\n",
              "      <td>34</td>\n",
              "    </tr>\n",
              "    <tr>\n",
              "      <th>130828</th>\n",
              "      <td>US</td>\n",
              "      <td>There's a touch of gamy meat alongside purple ...</td>\n",
              "      <td>48.0</td>\n",
              "      <td>91</td>\n",
              "      <td>Rhône-style Red Blend</td>\n",
              "      <td>Foxen</td>\n",
              "      <td>1.0</td>\n",
              "      <td>294</td>\n",
              "      <td>50</td>\n",
              "    </tr>\n",
              "    <tr>\n",
              "      <th>132471</th>\n",
              "      <td>Israel</td>\n",
              "      <td>A nose of raspberry, violet and iodine sets th...</td>\n",
              "      <td>15.0</td>\n",
              "      <td>90</td>\n",
              "      <td>Red Blends</td>\n",
              "      <td>Dalton</td>\n",
              "      <td>1.0</td>\n",
              "      <td>224</td>\n",
              "      <td>33</td>\n",
              "    </tr>\n",
              "    <tr>\n",
              "      <th>132771</th>\n",
              "      <td>US</td>\n",
              "      <td>The aromas suggest notes of baking spice, cara...</td>\n",
              "      <td>24.0</td>\n",
              "      <td>87</td>\n",
              "      <td>Sangiovese</td>\n",
              "      <td>Genoa</td>\n",
              "      <td>1.0</td>\n",
              "      <td>176</td>\n",
              "      <td>25</td>\n",
              "    </tr>\n",
              "    <tr>\n",
              "      <th>133133</th>\n",
              "      <td>US</td>\n",
              "      <td>There's a touch of gamy meat alongside purple ...</td>\n",
              "      <td>48.0</td>\n",
              "      <td>91</td>\n",
              "      <td>Rhône-style Red Blend</td>\n",
              "      <td>Foxen</td>\n",
              "      <td>1.0</td>\n",
              "      <td>294</td>\n",
              "      <td>50</td>\n",
              "    </tr>\n",
              "    <tr>\n",
              "      <th>134849</th>\n",
              "      <td>Austria</td>\n",
              "      <td>Scented notes of pear almost have a hint of su...</td>\n",
              "      <td>18.0</td>\n",
              "      <td>92</td>\n",
              "      <td>Grüner Veltliner</td>\n",
              "      <td>Dürnberg</td>\n",
              "      <td>1.0</td>\n",
              "      <td>242</td>\n",
              "      <td>40</td>\n",
              "    </tr>\n",
              "    <tr>\n",
              "      <th>135186</th>\n",
              "      <td>US</td>\n",
              "      <td>This is a blend of Viognier (50%), Chardonnay ...</td>\n",
              "      <td>22.0</td>\n",
              "      <td>88</td>\n",
              "      <td>White Blend</td>\n",
              "      <td>Genoa</td>\n",
              "      <td>1.0</td>\n",
              "      <td>239</td>\n",
              "      <td>38</td>\n",
              "    </tr>\n",
              "    <tr>\n",
              "      <th>139829</th>\n",
              "      <td>Portugal</td>\n",
              "      <td>The wine is dominated by perfumed Malvasia. Th...</td>\n",
              "      <td>10.0</td>\n",
              "      <td>86</td>\n",
              "      <td>Portuguese White</td>\n",
              "      <td>Casca Wines</td>\n",
              "      <td>1.0</td>\n",
              "      <td>178</td>\n",
              "      <td>26</td>\n",
              "    </tr>\n",
              "    <tr>\n",
              "      <th>142039</th>\n",
              "      <td>US</td>\n",
              "      <td>Coming from a vineyard planted in 1973 at an e...</td>\n",
              "      <td>55.0</td>\n",
              "      <td>93</td>\n",
              "      <td>Chardonnay</td>\n",
              "      <td>Sixto</td>\n",
              "      <td>1.0</td>\n",
              "      <td>306</td>\n",
              "      <td>52</td>\n",
              "    </tr>\n",
              "    <tr>\n",
              "      <th>156518</th>\n",
              "      <td>US</td>\n",
              "      <td>Toast, Bosc pear, spice, lees and flower aroma...</td>\n",
              "      <td>28.0</td>\n",
              "      <td>86</td>\n",
              "      <td>Chardonnay</td>\n",
              "      <td>Noviello</td>\n",
              "      <td>1.0</td>\n",
              "      <td>138</td>\n",
              "      <td>27</td>\n",
              "    </tr>\n",
              "    <tr>\n",
              "      <th>160205</th>\n",
              "      <td>Greece</td>\n",
              "      <td>Vanilla honey and apricot aromas lead into mou...</td>\n",
              "      <td>25.0</td>\n",
              "      <td>90</td>\n",
              "      <td>Malagousia</td>\n",
              "      <td>Gikas</td>\n",
              "      <td>1.0</td>\n",
              "      <td>221</td>\n",
              "      <td>34</td>\n",
              "    </tr>\n",
              "    <tr>\n",
              "      <th>167201</th>\n",
              "      <td>Spain</td>\n",
              "      <td>Melony aromas are neutral at best. A pulpy, ci...</td>\n",
              "      <td>10.0</td>\n",
              "      <td>83</td>\n",
              "      <td>Verdejo</td>\n",
              "      <td>Santa Cruz de Alpera</td>\n",
              "      <td>1.0</td>\n",
              "      <td>157</td>\n",
              "      <td>29</td>\n",
              "    </tr>\n",
              "    <tr>\n",
              "      <th>170074</th>\n",
              "      <td>US</td>\n",
              "      <td>Aromas of cocoa powder, cherry, medicinal note...</td>\n",
              "      <td>28.0</td>\n",
              "      <td>90</td>\n",
              "      <td>Merlot</td>\n",
              "      <td>J. Bookwalter</td>\n",
              "      <td>1.0</td>\n",
              "      <td>233</td>\n",
              "      <td>35</td>\n",
              "    </tr>\n",
              "    <tr>\n",
              "      <th>170964</th>\n",
              "      <td>US</td>\n",
              "      <td>Plush and expansive from start to finish, this...</td>\n",
              "      <td>72.0</td>\n",
              "      <td>94</td>\n",
              "      <td>Pinot Noir</td>\n",
              "      <td>Donum</td>\n",
              "      <td>1.0</td>\n",
              "      <td>207</td>\n",
              "      <td>34</td>\n",
              "    </tr>\n",
              "  </tbody>\n",
              "</table>\n",
              "<p>62 rows × 9 columns</p>\n",
              "</div>"
            ],
            "text/plain": [
              "            country  ... word_count\n",
              "1268         France  ...         37\n",
              "2952      Argentina  ...         33\n",
              "4394             US  ...         35\n",
              "9445             US  ...         35\n",
              "12320        France  ...         28\n",
              "14194     Australia  ...         36\n",
              "16490            US  ...         47\n",
              "16884            US  ...         35\n",
              "23106         Italy  ...         33\n",
              "24820            US  ...         23\n",
              "27169            US  ...         25\n",
              "28825            US  ...         38\n",
              "33176            US  ...         42\n",
              "33305            US  ...         39\n",
              "35798            US  ...         32\n",
              "36024            US  ...         35\n",
              "37393            US  ...         59\n",
              "38446            US  ...         39\n",
              "39124         Italy  ...         42\n",
              "41654            US  ...         27\n",
              "42002        Greece  ...         34\n",
              "50746            US  ...         50\n",
              "51344            US  ...         27\n",
              "59748            US  ...         25\n",
              "60893            US  ...         23\n",
              "61488            US  ...         45\n",
              "61919            US  ...         42\n",
              "64504            US  ...         33\n",
              "67807            US  ...         40\n",
              "71227            US  ...         27\n",
              "...             ...  ...        ...\n",
              "77367            US  ...         20\n",
              "77952         Spain  ...         26\n",
              "84040            US  ...         50\n",
              "86413   New Zealand  ...         31\n",
              "88062            US  ...         45\n",
              "90999        Greece  ...         34\n",
              "92598            US  ...         45\n",
              "93147            US  ...         34\n",
              "93283        France  ...         45\n",
              "98208            US  ...         20\n",
              "98634            US  ...         29\n",
              "103318    Argentina  ...         44\n",
              "104004           US  ...         39\n",
              "115151        Italy  ...         39\n",
              "120809           US  ...         26\n",
              "125362       France  ...         34\n",
              "126833       Greece  ...         34\n",
              "130828           US  ...         50\n",
              "132471       Israel  ...         33\n",
              "132771           US  ...         25\n",
              "133133           US  ...         50\n",
              "134849      Austria  ...         40\n",
              "135186           US  ...         38\n",
              "139829     Portugal  ...         26\n",
              "142039           US  ...         52\n",
              "156518           US  ...         27\n",
              "160205       Greece  ...         34\n",
              "167201        Spain  ...         29\n",
              "170074           US  ...         35\n",
              "170964           US  ...         34\n",
              "\n",
              "[62 rows x 9 columns]"
            ]
          },
          "metadata": {
            "tags": []
          },
          "execution_count": 10
        }
      ]
    },
    {
      "cell_type": "markdown",
      "metadata": {
        "id": "ji_YZOoA1TE0",
        "colab_type": "text"
      },
      "source": [
        "# ***Univariate visualization / Plots***"
      ]
    },
    {
      "cell_type": "code",
      "metadata": {
        "id": "btuxN_1_fnNS",
        "colab_type": "code",
        "outputId": "5c52ada9-aa2e-4a88-9131-d27a716c1a4c",
        "colab": {
          "base_uri": "https://localhost:8080/",
          "height": 533
        }
      },
      "source": [
        "# Get the distribution of sentiment scores for description\n",
        "wine_df.hist(column=\"sentiment\", bins = 50, figsize = (12,8))"
      ],
      "execution_count": 11,
      "outputs": [
        {
          "output_type": "execute_result",
          "data": {
            "text/plain": [
              "array([[<matplotlib.axes._subplots.AxesSubplot object at 0x7fc612c74400>]],\n",
              "      dtype=object)"
            ]
          },
          "metadata": {
            "tags": []
          },
          "execution_count": 11
        },
        {
          "output_type": "display_data",
          "data": {
            "image/png": "[encoded data removed]",
            "text/plain": [
              "<Figure size 864x576 with 1 Axes>"
            ]
          },
          "metadata": {
            "tags": []
          }
        }
      ]
    },
    {
      "cell_type": "code",
      "metadata": {
        "id": "nxs8lzpqfsjx",
        "colab_type": "code",
        "outputId": "ef334976-7d32-4b79-c45f-dc1cb121b93a",
        "colab": {
          "base_uri": "https://localhost:8080/",
          "height": 1000
        }
      },
      "source": [
        "# distirbtuion of points and word count\n",
        "wine_df.hist(column=\"points\", bins = 15, figsize = (12,8))\n",
        "wine_df.hist(column=\"word_count\", bins = 70, figsize = (12,8))"
      ],
      "execution_count": 12,
      "outputs": [
        {
          "output_type": "execute_result",
          "data": {
            "text/plain": [
              "array([[<matplotlib.axes._subplots.AxesSubplot object at 0x7fc612d4ba20>]],\n",
              "      dtype=object)"
            ]
          },
          "metadata": {
            "tags": []
          },
          "execution_count": 12
        },
        {
          "output_type": "display_data",
          "data": {
            "image/png": "[encoded data removed]",
            "text/plain": [
              "<Figure size 864x576 with 1 Axes>"
            ]
          },
          "metadata": {
            "tags": []
          }
        },
        {
          "output_type": "display_data",
          "data": {
            "image/png": "[encoded data removed]",
            "text/plain": [
              "<Figure size 864x576 with 1 Axes>"
            ]
          },
          "metadata": {
            "tags": []
          }
        }
      ]
    },
    {
      "cell_type": "markdown",
      "metadata": {
        "id": "1uWHckwD18NE",
        "colab_type": "text"
      },
      "source": [
        "# ***Distribution of Top Unigrams for Description***"
      ]
    },
    {
      "cell_type": "code",
      "metadata": {
        "id": "DD9o6eG6fuJ6",
        "colab_type": "code",
        "colab": {}
      },
      "source": [
        "# Get the top unigrams before removing stop words\n",
        "\n",
        "# Function to get the top words\n",
        "def get_top_n_words(description, n=None):\n",
        "    vec = CountVectorizer().fit(description)\n",
        "    bag_of_words = vec.transform(description)\n",
        "    sum_words = bag_of_words.sum(axis=0) \n",
        "    words_freq = [(word, sum_words[0, idx]) for word, idx in vec.vocabulary_.items()]\n",
        "    words_freq =sorted(words_freq, key = lambda x: x[1], reverse=True)\n",
        "    return words_freq[:n]"
      ],
      "execution_count": 0,
      "outputs": []
    },
    {
      "cell_type": "code",
      "metadata": {
        "id": "3y04znHKfwhf",
        "colab_type": "code",
        "colab": {}
      },
      "source": [
        "# get the top 20 common words and apply it to a variable\n",
        "common_words = get_top_n_words(wine_df[\"description\"], 20)"
      ],
      "execution_count": 0,
      "outputs": []
    },
    {
      "cell_type": "code",
      "metadata": {
        "id": "4De9dPr6fx7t",
        "colab_type": "code",
        "outputId": "7cd86889-d14c-4522-c90d-514f89b4100f",
        "colab": {
          "base_uri": "https://localhost:8080/",
          "height": 357
        }
      },
      "source": [
        "# loop through our comon words and print them out\n",
        "for word, freq in common_words:\n",
        "    print(word, freq)"
      ],
      "execution_count": 15,
      "outputs": [
        {
          "output_type": "stream",
          "text": [
            "and 471150\n",
            "the 298120\n",
            "of 234991\n",
            "with 175039\n",
            "this 162171\n",
            "is 118962\n",
            "it 112061\n",
            "wine 99166\n",
            "to 80124\n",
            "flavors 79467\n",
            "in 78999\n",
            "aromas 68690\n",
            "palate 64953\n",
            "on 62387\n",
            "fruit 61794\n",
            "acidity 54321\n",
            "that 53608\n",
            "drink 50239\n",
            "finish 44875\n",
            "from 42671\n"
          ],
          "name": "stdout"
        }
      ]
    },
    {
      "cell_type": "code",
      "metadata": {
        "id": "NLSzyWYifzaa",
        "colab_type": "code",
        "outputId": "7f67f6b8-3cec-4226-f5c7-bb173490b8c5",
        "colab": {
          "base_uri": "https://localhost:8080/",
          "height": 204
        }
      },
      "source": [
        "# Create a dataframe that will contain these words\n",
        "wine_common_stopwords = pd.DataFrame(common_words, columns = ['ReviewText' , 'count'])\n",
        "wine_common_stopwords.head()"
      ],
      "execution_count": 16,
      "outputs": [
        {
          "output_type": "execute_result",
          "data": {
            "text/html": [
              "<div>\n",
              "<style scoped>\n",
              "    .dataframe tbody tr th:only-of-type {\n",
              "        vertical-align: middle;\n",
              "    }\n",
              "\n",
              "    .dataframe tbody tr th {\n",
              "        vertical-align: top;\n",
              "    }\n",
              "\n",
              "    .dataframe thead th {\n",
              "        text-align: right;\n",
              "    }\n",
              "</style>\n",
              "<table border=\"1\" class=\"dataframe\">\n",
              "  <thead>\n",
              "    <tr style=\"text-align: right;\">\n",
              "      <th></th>\n",
              "      <th>ReviewText</th>\n",
              "      <th>count</th>\n",
              "    </tr>\n",
              "  </thead>\n",
              "  <tbody>\n",
              "    <tr>\n",
              "      <th>0</th>\n",
              "      <td>and</td>\n",
              "      <td>471150</td>\n",
              "    </tr>\n",
              "    <tr>\n",
              "      <th>1</th>\n",
              "      <td>the</td>\n",
              "      <td>298120</td>\n",
              "    </tr>\n",
              "    <tr>\n",
              "      <th>2</th>\n",
              "      <td>of</td>\n",
              "      <td>234991</td>\n",
              "    </tr>\n",
              "    <tr>\n",
              "      <th>3</th>\n",
              "      <td>with</td>\n",
              "      <td>175039</td>\n",
              "    </tr>\n",
              "    <tr>\n",
              "      <th>4</th>\n",
              "      <td>this</td>\n",
              "      <td>162171</td>\n",
              "    </tr>\n",
              "  </tbody>\n",
              "</table>\n",
              "</div>"
            ],
            "text/plain": [
              "  ReviewText   count\n",
              "0        and  471150\n",
              "1        the  298120\n",
              "2         of  234991\n",
              "3       with  175039\n",
              "4       this  162171"
            ]
          },
          "metadata": {
            "tags": []
          },
          "execution_count": 16
        }
      ]
    },
    {
      "cell_type": "code",
      "metadata": {
        "id": "Sox9401bf1AN",
        "colab_type": "code",
        "outputId": "8388c2fd-307f-4fed-ba0a-10c722750907",
        "colab": {
          "base_uri": "https://localhost:8080/",
          "height": 286
        }
      },
      "source": [
        "# view the distribution of top words with stopwords\n",
        "plt.barh(\n",
        "    y = wine_common_stopwords[\"ReviewText\"], \n",
        "    width = wine_common_stopwords[\"count\"], \n",
        "    height = .5\n",
        ")\n",
        "plt.figure(figsize = (12, 8))\n",
        "plt.show()"
      ],
      "execution_count": 17,
      "outputs": [
        {
          "output_type": "display_data",
          "data": {
            "image/png": "[encoded data removed]",
            "text/plain": [
              "<Figure size 432x288 with 1 Axes>"
            ]
          },
          "metadata": {
            "tags": []
          }
        },
        {
          "output_type": "display_data",
          "data": {
            "text/plain": [
              "<Figure size 864x576 with 0 Axes>"
            ]
          },
          "metadata": {
            "tags": []
          }
        }
      ]
    },
    {
      "cell_type": "code",
      "metadata": {
        "id": "_I3JOLMhf2UW",
        "colab_type": "code",
        "colab": {}
      },
      "source": [
        "# Get the top unigrams after removing stop words\n",
        "\n",
        "# Function to get the top words\n",
        "def get_top_n_words_stop(description, n=None):\n",
        "    vec = CountVectorizer(stop_words = \"english\").fit(description)\n",
        "    bag_of_words = vec.transform(description)\n",
        "    sum_words = bag_of_words.sum(axis=0) \n",
        "    words_freq = [(word, sum_words[0, idx]) for word, idx in vec.vocabulary_.items()]\n",
        "    words_freq =sorted(words_freq, key = lambda x: x[1], reverse=True)\n",
        "    return words_freq[:n]"
      ],
      "execution_count": 0,
      "outputs": []
    },
    {
      "cell_type": "code",
      "metadata": {
        "id": "s1bN_YY3f35B",
        "colab_type": "code",
        "colab": {}
      },
      "source": [
        "common_nostop_words = get_top_n_words_stop(wine_df[\"description\"], 20)"
      ],
      "execution_count": 0,
      "outputs": []
    },
    {
      "cell_type": "code",
      "metadata": {
        "id": "4EMGRuBDf5l8",
        "colab_type": "code",
        "outputId": "ff90f8f9-8bbe-48de-91c0-9eeb78db65e0",
        "colab": {
          "base_uri": "https://localhost:8080/",
          "height": 357
        }
      },
      "source": [
        "# loop through our comon words and print them out\n",
        "for word, freq in common_nostop_words:\n",
        "    print(word, freq)"
      ],
      "execution_count": 20,
      "outputs": [
        {
          "output_type": "stream",
          "text": [
            "wine 99166\n",
            "flavors 79467\n",
            "aromas 68690\n",
            "palate 64953\n",
            "fruit 61794\n",
            "acidity 54321\n",
            "drink 50239\n",
            "finish 44875\n",
            "tannins 39663\n",
            "black 37818\n",
            "cherry 37559\n",
            "ripe 34386\n",
            "nose 30245\n",
            "red 28437\n",
            "white 26953\n",
            "notes 24376\n",
            "spice 23995\n",
            "oak 23128\n",
            "apple 22983\n",
            "berry 21712\n"
          ],
          "name": "stdout"
        }
      ]
    },
    {
      "cell_type": "code",
      "metadata": {
        "id": "7k2s58zdf620",
        "colab_type": "code",
        "outputId": "747b70e5-cf0f-4cdd-e262-2e8ada6468ca",
        "colab": {
          "base_uri": "https://localhost:8080/",
          "height": 204
        }
      },
      "source": [
        "# Create a dataframe that will contain these words\n",
        "wine_common_no_stopwords = pd.DataFrame(common_nostop_words, columns = ['ReviewText' , 'count'])\n",
        "wine_common_no_stopwords.head()"
      ],
      "execution_count": 21,
      "outputs": [
        {
          "output_type": "execute_result",
          "data": {
            "text/html": [
              "<div>\n",
              "<style scoped>\n",
              "    .dataframe tbody tr th:only-of-type {\n",
              "        vertical-align: middle;\n",
              "    }\n",
              "\n",
              "    .dataframe tbody tr th {\n",
              "        vertical-align: top;\n",
              "    }\n",
              "\n",
              "    .dataframe thead th {\n",
              "        text-align: right;\n",
              "    }\n",
              "</style>\n",
              "<table border=\"1\" class=\"dataframe\">\n",
              "  <thead>\n",
              "    <tr style=\"text-align: right;\">\n",
              "      <th></th>\n",
              "      <th>ReviewText</th>\n",
              "      <th>count</th>\n",
              "    </tr>\n",
              "  </thead>\n",
              "  <tbody>\n",
              "    <tr>\n",
              "      <th>0</th>\n",
              "      <td>wine</td>\n",
              "      <td>99166</td>\n",
              "    </tr>\n",
              "    <tr>\n",
              "      <th>1</th>\n",
              "      <td>flavors</td>\n",
              "      <td>79467</td>\n",
              "    </tr>\n",
              "    <tr>\n",
              "      <th>2</th>\n",
              "      <td>aromas</td>\n",
              "      <td>68690</td>\n",
              "    </tr>\n",
              "    <tr>\n",
              "      <th>3</th>\n",
              "      <td>palate</td>\n",
              "      <td>64953</td>\n",
              "    </tr>\n",
              "    <tr>\n",
              "      <th>4</th>\n",
              "      <td>fruit</td>\n",
              "      <td>61794</td>\n",
              "    </tr>\n",
              "  </tbody>\n",
              "</table>\n",
              "</div>"
            ],
            "text/plain": [
              "  ReviewText  count\n",
              "0       wine  99166\n",
              "1    flavors  79467\n",
              "2     aromas  68690\n",
              "3     palate  64953\n",
              "4      fruit  61794"
            ]
          },
          "metadata": {
            "tags": []
          },
          "execution_count": 21
        }
      ]
    },
    {
      "cell_type": "code",
      "metadata": {
        "id": "gwAVyngTf8LX",
        "colab_type": "code",
        "outputId": "26642e6c-f67c-4476-f475-4afae89f1a85",
        "colab": {
          "base_uri": "https://localhost:8080/",
          "height": 286
        }
      },
      "source": [
        "# view the distribution of top words without stopwords\n",
        "plt.barh(\n",
        "    y = wine_common_no_stopwords[\"ReviewText\"], \n",
        "    width = wine_common_no_stopwords[\"count\"], \n",
        "    height = .5\n",
        ")\n",
        "plt.figure(figsize = (12, 8))\n",
        "plt.show()"
      ],
      "execution_count": 22,
      "outputs": [
        {
          "output_type": "display_data",
          "data": {
            "image/png": "[encoded data removed]",
            "text/plain": [
              "<Figure size 432x288 with 1 Axes>"
            ]
          },
          "metadata": {
            "tags": []
          }
        },
        {
          "output_type": "display_data",
          "data": {
            "text/plain": [
              "<Figure size 864x576 with 0 Axes>"
            ]
          },
          "metadata": {
            "tags": []
          }
        }
      ]
    },
    {
      "cell_type": "markdown",
      "metadata": {
        "id": "6_iTEaAt2Ugn",
        "colab_type": "text"
      },
      "source": [
        "# ***Distribution of Top Bigrams for Description***"
      ]
    },
    {
      "cell_type": "code",
      "metadata": {
        "id": "yzK9H_7xf9hZ",
        "colab_type": "code",
        "colab": {}
      },
      "source": [
        "# View the top bigrams without stop words\n",
        "\n",
        "# Function to get the top words\n",
        "def get_top_n_bigrams(description, n=None):\n",
        "    vec = CountVectorizer(ngram_range = (2, 2), stop_words = \"english\").fit(description)\n",
        "    bag_of_words = vec.transform(description)\n",
        "    sum_words = bag_of_words.sum(axis=0) \n",
        "    words_freq = [(word, sum_words[0, idx]) for word, idx in vec.vocabulary_.items()]\n",
        "    words_freq =sorted(words_freq, key = lambda x: x[1], reverse=True)\n",
        "    return words_freq[:n]"
      ],
      "execution_count": 0,
      "outputs": []
    },
    {
      "cell_type": "code",
      "metadata": {
        "id": "EklDxs5Qf_KK",
        "colab_type": "code",
        "colab": {}
      },
      "source": [
        "common_nostop_bigrams = get_top_n_bigrams(wine_df[\"description\"], 20)"
      ],
      "execution_count": 0,
      "outputs": []
    },
    {
      "cell_type": "code",
      "metadata": {
        "id": "vJL8JaGzgDFr",
        "colab_type": "code",
        "outputId": "6d1129da-d1fc-4f08-9c5c-2bd7e1607797",
        "colab": {
          "base_uri": "https://localhost:8080/",
          "height": 357
        }
      },
      "source": [
        "# loop through our comon words and print them out\n",
        "for word, freq in common_nostop_bigrams:\n",
        "    print(word, freq)"
      ],
      "execution_count": 25,
      "outputs": [
        {
          "output_type": "stream",
          "text": [
            "loaded finesse 15304\n",
            "black cherry 10643\n",
            "fruit flavors 10000\n",
            "white pepper 8670\n",
            "bright acidity 7915\n",
            "palate delivers 7729\n",
            "opens aromas 7026\n",
            "cabernet sauvignon 6561\n",
            "palate offers 5744\n",
            "acidity keeps 5589\n",
            "racy acidity 5533\n",
            "aromas carry 5515\n",
            "ready drink 5513\n",
            "vibrant palate 5469\n",
            "lemon drop 5406\n",
            "complexity drink 5364\n",
            "mineral driven 5296\n",
            "medium bodied 5253\n",
            "drink 2027 5228\n",
            "tomato vine 5206\n"
          ],
          "name": "stdout"
        }
      ]
    },
    {
      "cell_type": "code",
      "metadata": {
        "id": "1KoB1Go7gDdT",
        "colab_type": "code",
        "outputId": "b4f808eb-a8e0-4b73-f1a3-5bac1df1964a",
        "colab": {
          "base_uri": "https://localhost:8080/",
          "height": 204
        }
      },
      "source": [
        "# Create a dataframe that will contain these words\n",
        "wine_common_bigrams = pd.DataFrame(common_nostop_bigrams, columns = ['ReviewText' , 'count'])\n",
        "wine_common_bigrams.head()"
      ],
      "execution_count": 26,
      "outputs": [
        {
          "output_type": "execute_result",
          "data": {
            "text/html": [
              "<div>\n",
              "<style scoped>\n",
              "    .dataframe tbody tr th:only-of-type {\n",
              "        vertical-align: middle;\n",
              "    }\n",
              "\n",
              "    .dataframe tbody tr th {\n",
              "        vertical-align: top;\n",
              "    }\n",
              "\n",
              "    .dataframe thead th {\n",
              "        text-align: right;\n",
              "    }\n",
              "</style>\n",
              "<table border=\"1\" class=\"dataframe\">\n",
              "  <thead>\n",
              "    <tr style=\"text-align: right;\">\n",
              "      <th></th>\n",
              "      <th>ReviewText</th>\n",
              "      <th>count</th>\n",
              "    </tr>\n",
              "  </thead>\n",
              "  <tbody>\n",
              "    <tr>\n",
              "      <th>0</th>\n",
              "      <td>loaded finesse</td>\n",
              "      <td>15304</td>\n",
              "    </tr>\n",
              "    <tr>\n",
              "      <th>1</th>\n",
              "      <td>black cherry</td>\n",
              "      <td>10643</td>\n",
              "    </tr>\n",
              "    <tr>\n",
              "      <th>2</th>\n",
              "      <td>fruit flavors</td>\n",
              "      <td>10000</td>\n",
              "    </tr>\n",
              "    <tr>\n",
              "      <th>3</th>\n",
              "      <td>white pepper</td>\n",
              "      <td>8670</td>\n",
              "    </tr>\n",
              "    <tr>\n",
              "      <th>4</th>\n",
              "      <td>bright acidity</td>\n",
              "      <td>7915</td>\n",
              "    </tr>\n",
              "  </tbody>\n",
              "</table>\n",
              "</div>"
            ],
            "text/plain": [
              "       ReviewText  count\n",
              "0  loaded finesse  15304\n",
              "1    black cherry  10643\n",
              "2   fruit flavors  10000\n",
              "3    white pepper   8670\n",
              "4  bright acidity   7915"
            ]
          },
          "metadata": {
            "tags": []
          },
          "execution_count": 26
        }
      ]
    },
    {
      "cell_type": "code",
      "metadata": {
        "id": "cLeA7GuCgEyd",
        "colab_type": "code",
        "outputId": "7b3fdec1-5818-4059-def5-b199b8076b7c",
        "colab": {
          "base_uri": "https://localhost:8080/",
          "height": 286
        }
      },
      "source": [
        "# view the distribution of top words without stopwords\n",
        "plt.barh(\n",
        "    y = wine_common_bigrams[\"ReviewText\"], \n",
        "    width = wine_common_bigrams[\"count\"], \n",
        "    height = .5\n",
        ")\n",
        "plt.figure(figsize = (12, 8))\n",
        "plt.show()"
      ],
      "execution_count": 27,
      "outputs": [
        {
          "output_type": "display_data",
          "data": {
            "image/png": "[encoded data removed]",
            "text/plain": [
              "<Figure size 432x288 with 1 Axes>"
            ]
          },
          "metadata": {
            "tags": []
          }
        },
        {
          "output_type": "display_data",
          "data": {
            "text/plain": [
              "<Figure size 864x576 with 0 Axes>"
            ]
          },
          "metadata": {
            "tags": []
          }
        }
      ]
    },
    {
      "cell_type": "markdown",
      "metadata": {
        "id": "gvjokc3y2e1y",
        "colab_type": "text"
      },
      "source": [
        "# ***Distribution of Top Trigrams for Description***"
      ]
    },
    {
      "cell_type": "code",
      "metadata": {
        "id": "VU-_-ZmCgGOI",
        "colab_type": "code",
        "colab": {}
      },
      "source": [
        "# View the top trigrams without stop words\n",
        "\n",
        "# Function to get the top words\n",
        "def get_top_n_trigrams(description, n=None):\n",
        "    vec = CountVectorizer(ngram_range = (3, 3), stop_words = \"english\").fit(description)\n",
        "    bag_of_words = vec.transform(description)\n",
        "    sum_words = bag_of_words.sum(axis=0) \n",
        "    words_freq = [(word, sum_words[0, idx]) for word, idx in vec.vocabulary_.items()]\n",
        "    words_freq =sorted(words_freq, key = lambda x: x[1], reverse=True)\n",
        "    return words_freq[:n]"
      ],
      "execution_count": 0,
      "outputs": []
    },
    {
      "cell_type": "code",
      "metadata": {
        "id": "0CB1vJ8LgKfG",
        "colab_type": "code",
        "colab": {}
      },
      "source": [
        "common_nostop_trigrams = get_top_n_trigrams(wine_df[\"description\"], 20)"
      ],
      "execution_count": 0,
      "outputs": []
    },
    {
      "cell_type": "code",
      "metadata": {
        "id": "Tg7X8w72gMcH",
        "colab_type": "code",
        "outputId": "e26ba179-b19b-46fd-ff9b-13dc6b0c46de",
        "colab": {
          "base_uri": "https://localhost:8080/",
          "height": 357
        }
      },
      "source": [
        "# loop through our comon words and print them out\n",
        "for word, freq in common_nostop_trigrams:\n",
        "    print(word, freq)"
      ],
      "execution_count": 30,
      "outputs": [
        {
          "output_type": "stream",
          "text": [
            "alongside racy acidity 5145\n",
            "vibrant palate delivers 5134\n",
            "white opens aromas 5115\n",
            "crushed tomato vine 5114\n",
            "develop complexity drink 5111\n",
            "classic varietal aromas 5099\n",
            "bright acidity keeps 5097\n",
            "palate white pepper 5083\n",
            "acidity keeps balanced 5082\n",
            "vibrant focused palate 5067\n",
            "fragrant loaded finesse 5067\n",
            "mineral driven white 5067\n",
            "keeps balanced drink 5065\n",
            "aromas carry vibrant 5063\n",
            "white pepper fennel 5063\n",
            "honey aromas carry 5063\n",
            "tomato vine whiff 5060\n",
            "loaded finesse bright 5060\n",
            "freshly mowed grass 5060\n",
            "offers classic varietal 5060\n"
          ],
          "name": "stdout"
        }
      ]
    },
    {
      "cell_type": "code",
      "metadata": {
        "id": "2TeMvKrRgOO0",
        "colab_type": "code",
        "outputId": "d61f6817-824a-4238-89e0-9c4f3bd87313",
        "colab": {
          "base_uri": "https://localhost:8080/",
          "height": 204
        }
      },
      "source": [
        "# Create a dataframe that will contain these words\n",
        "wine_common_trigrams = pd.DataFrame(common_nostop_trigrams, columns = ['ReviewText' , 'count'])\n",
        "wine_common_trigrams.head()"
      ],
      "execution_count": 31,
      "outputs": [
        {
          "output_type": "execute_result",
          "data": {
            "text/html": [
              "<div>\n",
              "<style scoped>\n",
              "    .dataframe tbody tr th:only-of-type {\n",
              "        vertical-align: middle;\n",
              "    }\n",
              "\n",
              "    .dataframe tbody tr th {\n",
              "        vertical-align: top;\n",
              "    }\n",
              "\n",
              "    .dataframe thead th {\n",
              "        text-align: right;\n",
              "    }\n",
              "</style>\n",
              "<table border=\"1\" class=\"dataframe\">\n",
              "  <thead>\n",
              "    <tr style=\"text-align: right;\">\n",
              "      <th></th>\n",
              "      <th>ReviewText</th>\n",
              "      <th>count</th>\n",
              "    </tr>\n",
              "  </thead>\n",
              "  <tbody>\n",
              "    <tr>\n",
              "      <th>0</th>\n",
              "      <td>alongside racy acidity</td>\n",
              "      <td>5145</td>\n",
              "    </tr>\n",
              "    <tr>\n",
              "      <th>1</th>\n",
              "      <td>vibrant palate delivers</td>\n",
              "      <td>5134</td>\n",
              "    </tr>\n",
              "    <tr>\n",
              "      <th>2</th>\n",
              "      <td>white opens aromas</td>\n",
              "      <td>5115</td>\n",
              "    </tr>\n",
              "    <tr>\n",
              "      <th>3</th>\n",
              "      <td>crushed tomato vine</td>\n",
              "      <td>5114</td>\n",
              "    </tr>\n",
              "    <tr>\n",
              "      <th>4</th>\n",
              "      <td>develop complexity drink</td>\n",
              "      <td>5111</td>\n",
              "    </tr>\n",
              "  </tbody>\n",
              "</table>\n",
              "</div>"
            ],
            "text/plain": [
              "                 ReviewText  count\n",
              "0    alongside racy acidity   5145\n",
              "1   vibrant palate delivers   5134\n",
              "2        white opens aromas   5115\n",
              "3       crushed tomato vine   5114\n",
              "4  develop complexity drink   5111"
            ]
          },
          "metadata": {
            "tags": []
          },
          "execution_count": 31
        }
      ]
    },
    {
      "cell_type": "code",
      "metadata": {
        "id": "96TmjEZ-gPtM",
        "colab_type": "code",
        "outputId": "8afd2168-aa0c-4a33-b773-37ffde671fde",
        "colab": {
          "base_uri": "https://localhost:8080/",
          "height": 286
        }
      },
      "source": [
        "# view the distribution of top words without stopwords\n",
        "plt.barh(\n",
        "    y = wine_common_trigrams[\"ReviewText\"], \n",
        "    width = wine_common_trigrams[\"count\"], \n",
        "    height = .5\n",
        ")\n",
        "plt.figure(figsize = (12, 8))\n",
        "plt.show()"
      ],
      "execution_count": 32,
      "outputs": [
        {
          "output_type": "display_data",
          "data": {
            "image/png": "[encoded data removed]",
            "text/plain": [
              "<Figure size 432x288 with 1 Axes>"
            ]
          },
          "metadata": {
            "tags": []
          }
        },
        {
          "output_type": "display_data",
          "data": {
            "text/plain": [
              "<Figure size 864x576 with 0 Axes>"
            ]
          },
          "metadata": {
            "tags": []
          }
        }
      ]
    },
    {
      "cell_type": "markdown",
      "metadata": {
        "id": "qFXjivMo2tYC",
        "colab_type": "text"
      },
      "source": [
        "# ***Finding Characterisitc terms and their associations***"
      ]
    },
    {
      "cell_type": "code",
      "metadata": {
        "id": "UvsCVLwmgRcI",
        "colab_type": "code",
        "colab": {}
      },
      "source": [
        "# Characteristic terms for Description and Country\n",
        "country_characteristic = st.CorpusFromPandas(\n",
        "    wine_df, \n",
        "    category_col = \"country\", \n",
        "    text_col = \"description\", \n",
        "    nlp = nlp\n",
        ").build()"
      ],
      "execution_count": 0,
      "outputs": []
    },
    {
      "cell_type": "code",
      "metadata": {
        "id": "LwytiAcVgTbw",
        "colab_type": "code",
        "outputId": "f4d91def-72a1-4145-cdb3-24f30187991b",
        "colab": {
          "base_uri": "https://localhost:8080/",
          "height": 34
        }
      },
      "source": [
        "# Get the top 20 words that differentiate the review from a general English Corpus\n",
        "print(list(country_characteristic.get_scaled_f_scores_vs_background().index[:15]))"
      ],
      "execution_count": 34,
      "outputs": [
        {
          "output_type": "stream",
          "text": [
            "['aromas', 'flavors', 'palate', 'acidity', 'tannins', 'ripe', 'finesse', 'fruit', 'bodied', 'plum', 'cherry', 'nose', 'spice', 'savory', 'wine']\n"
          ],
          "name": "stdout"
        }
      ]
    },
    {
      "cell_type": "code",
      "metadata": {
        "id": "x5jhxLm1gfgy",
        "colab_type": "code",
        "colab": {}
      },
      "source": [
        "# Get the term frequency for any country\n",
        "term_freq_us_df = country_characteristic.get_term_freq_df()"
      ],
      "execution_count": 0,
      "outputs": []
    },
    {
      "cell_type": "code",
      "metadata": {
        "id": "NB6LVoLggiP1",
        "colab_type": "code",
        "outputId": "e974788c-131a-499c-840a-45ae9f9354ef",
        "colab": {
          "base_uri": "https://localhost:8080/",
          "height": 289
        }
      },
      "source": [
        "# Create a new column with the frequency for United States and France\n",
        "term_freq_us_df[\"US\"] = country_characteristic.get_scaled_f_scores(\"US\")\n",
        "term_freq_us_df[\"France\"] = country_characteristic.get_scaled_f_scores(\"France\")\n",
        "term_freq_us_df.head()"
      ],
      "execution_count": 36,
      "outputs": [
        {
          "output_type": "execute_result",
          "data": {
            "text/html": [
              "<div>\n",
              "<style scoped>\n",
              "    .dataframe tbody tr th:only-of-type {\n",
              "        vertical-align: middle;\n",
              "    }\n",
              "\n",
              "    .dataframe tbody tr th {\n",
              "        vertical-align: top;\n",
              "    }\n",
              "\n",
              "    .dataframe thead th {\n",
              "        text-align: right;\n",
              "    }\n",
              "</style>\n",
              "<table border=\"1\" class=\"dataframe\">\n",
              "  <thead>\n",
              "    <tr style=\"text-align: right;\">\n",
              "      <th></th>\n",
              "      <th>Portugal freq</th>\n",
              "      <th>US freq</th>\n",
              "      <th>Spain freq</th>\n",
              "      <th>Italy freq</th>\n",
              "      <th>France freq</th>\n",
              "      <th>Germany freq</th>\n",
              "      <th>Argentina freq</th>\n",
              "      <th>Chile freq</th>\n",
              "      <th>Australia freq</th>\n",
              "      <th>Austria freq</th>\n",
              "      <th>South Africa freq</th>\n",
              "      <th>New Zealand freq</th>\n",
              "      <th>Israel freq</th>\n",
              "      <th>Hungary freq</th>\n",
              "      <th>Greece freq</th>\n",
              "      <th>Romania freq</th>\n",
              "      <th>Mexico freq</th>\n",
              "      <th>Canada freq</th>\n",
              "      <th>Turkey freq</th>\n",
              "      <th>Czech Republic freq</th>\n",
              "      <th>Slovenia freq</th>\n",
              "      <th>Luxembourg freq</th>\n",
              "      <th>Croatia freq</th>\n",
              "      <th>Georgia freq</th>\n",
              "      <th>Uruguay freq</th>\n",
              "      <th>England freq</th>\n",
              "      <th>Lebanon freq</th>\n",
              "      <th>Serbia freq</th>\n",
              "      <th>Brazil freq</th>\n",
              "      <th>Moldova freq</th>\n",
              "      <th>Morocco freq</th>\n",
              "      <th>Peru freq</th>\n",
              "      <th>India freq</th>\n",
              "      <th>Bulgaria freq</th>\n",
              "      <th>Cyprus freq</th>\n",
              "      <th>Armenia freq</th>\n",
              "      <th>Switzerland freq</th>\n",
              "      <th>Bosnia and Herzegovina freq</th>\n",
              "      <th>Ukraine freq</th>\n",
              "      <th>Slovakia freq</th>\n",
              "      <th>Macedonia freq</th>\n",
              "      <th>China freq</th>\n",
              "      <th>Kosovo freq</th>\n",
              "      <th>Global freq</th>\n",
              "      <th>US</th>\n",
              "      <th>France</th>\n",
              "    </tr>\n",
              "    <tr>\n",
              "      <th>term</th>\n",
              "      <th></th>\n",
              "      <th></th>\n",
              "      <th></th>\n",
              "      <th></th>\n",
              "      <th></th>\n",
              "      <th></th>\n",
              "      <th></th>\n",
              "      <th></th>\n",
              "      <th></th>\n",
              "      <th></th>\n",
              "      <th></th>\n",
              "      <th></th>\n",
              "      <th></th>\n",
              "      <th></th>\n",
              "      <th></th>\n",
              "      <th></th>\n",
              "      <th></th>\n",
              "      <th></th>\n",
              "      <th></th>\n",
              "      <th></th>\n",
              "      <th></th>\n",
              "      <th></th>\n",
              "      <th></th>\n",
              "      <th></th>\n",
              "      <th></th>\n",
              "      <th></th>\n",
              "      <th></th>\n",
              "      <th></th>\n",
              "      <th></th>\n",
              "      <th></th>\n",
              "      <th></th>\n",
              "      <th></th>\n",
              "      <th></th>\n",
              "      <th></th>\n",
              "      <th></th>\n",
              "      <th></th>\n",
              "      <th></th>\n",
              "      <th></th>\n",
              "      <th></th>\n",
              "      <th></th>\n",
              "      <th></th>\n",
              "      <th></th>\n",
              "      <th></th>\n",
              "      <th></th>\n",
              "      <th></th>\n",
              "      <th></th>\n",
              "    </tr>\n",
              "  </thead>\n",
              "  <tbody>\n",
              "    <tr>\n",
              "      <th>this</th>\n",
              "      <td>7281</td>\n",
              "      <td>63746</td>\n",
              "      <td>8448</td>\n",
              "      <td>30805</td>\n",
              "      <td>27881</td>\n",
              "      <td>2733</td>\n",
              "      <td>3975</td>\n",
              "      <td>4618</td>\n",
              "      <td>2897</td>\n",
              "      <td>3503</td>\n",
              "      <td>1315</td>\n",
              "      <td>1792</td>\n",
              "      <td>551</td>\n",
              "      <td>176</td>\n",
              "      <td>588</td>\n",
              "      <td>122</td>\n",
              "      <td>79</td>\n",
              "      <td>332</td>\n",
              "      <td>92</td>\n",
              "      <td>13</td>\n",
              "      <td>80</td>\n",
              "      <td>15</td>\n",
              "      <td>69</td>\n",
              "      <td>107</td>\n",
              "      <td>283</td>\n",
              "      <td>123</td>\n",
              "      <td>32</td>\n",
              "      <td>11</td>\n",
              "      <td>84</td>\n",
              "      <td>91</td>\n",
              "      <td>28</td>\n",
              "      <td>10</td>\n",
              "      <td>6</td>\n",
              "      <td>182</td>\n",
              "      <td>15</td>\n",
              "      <td>6</td>\n",
              "      <td>20</td>\n",
              "      <td>2</td>\n",
              "      <td>16</td>\n",
              "      <td>0</td>\n",
              "      <td>12</td>\n",
              "      <td>6</td>\n",
              "      <td>14</td>\n",
              "      <td>2</td>\n",
              "      <td>0.099152</td>\n",
              "      <td>0.866476</td>\n",
              "    </tr>\n",
              "    <tr>\n",
              "      <th>is</th>\n",
              "      <td>9456</td>\n",
              "      <td>43239</td>\n",
              "      <td>6994</td>\n",
              "      <td>7674</td>\n",
              "      <td>31503</td>\n",
              "      <td>1130</td>\n",
              "      <td>3619</td>\n",
              "      <td>4542</td>\n",
              "      <td>2551</td>\n",
              "      <td>4215</td>\n",
              "      <td>1023</td>\n",
              "      <td>1588</td>\n",
              "      <td>416</td>\n",
              "      <td>120</td>\n",
              "      <td>210</td>\n",
              "      <td>82</td>\n",
              "      <td>69</td>\n",
              "      <td>213</td>\n",
              "      <td>86</td>\n",
              "      <td>11</td>\n",
              "      <td>63</td>\n",
              "      <td>6</td>\n",
              "      <td>37</td>\n",
              "      <td>76</td>\n",
              "      <td>205</td>\n",
              "      <td>162</td>\n",
              "      <td>25</td>\n",
              "      <td>16</td>\n",
              "      <td>57</td>\n",
              "      <td>58</td>\n",
              "      <td>28</td>\n",
              "      <td>4</td>\n",
              "      <td>5</td>\n",
              "      <td>113</td>\n",
              "      <td>4</td>\n",
              "      <td>6</td>\n",
              "      <td>17</td>\n",
              "      <td>1</td>\n",
              "      <td>13</td>\n",
              "      <td>1</td>\n",
              "      <td>4</td>\n",
              "      <td>7</td>\n",
              "      <td>6</td>\n",
              "      <td>3</td>\n",
              "      <td>0.086613</td>\n",
              "      <td>0.914870</td>\n",
              "    </tr>\n",
              "    <tr>\n",
              "      <th>ripe</th>\n",
              "      <td>2924</td>\n",
              "      <td>10701</td>\n",
              "      <td>1154</td>\n",
              "      <td>4434</td>\n",
              "      <td>10437</td>\n",
              "      <td>584</td>\n",
              "      <td>671</td>\n",
              "      <td>567</td>\n",
              "      <td>467</td>\n",
              "      <td>1366</td>\n",
              "      <td>378</td>\n",
              "      <td>362</td>\n",
              "      <td>56</td>\n",
              "      <td>16</td>\n",
              "      <td>42</td>\n",
              "      <td>18</td>\n",
              "      <td>8</td>\n",
              "      <td>30</td>\n",
              "      <td>7</td>\n",
              "      <td>1</td>\n",
              "      <td>7</td>\n",
              "      <td>0</td>\n",
              "      <td>8</td>\n",
              "      <td>10</td>\n",
              "      <td>26</td>\n",
              "      <td>51</td>\n",
              "      <td>10</td>\n",
              "      <td>1</td>\n",
              "      <td>0</td>\n",
              "      <td>6</td>\n",
              "      <td>3</td>\n",
              "      <td>2</td>\n",
              "      <td>1</td>\n",
              "      <td>32</td>\n",
              "      <td>0</td>\n",
              "      <td>0</td>\n",
              "      <td>1</td>\n",
              "      <td>1</td>\n",
              "      <td>2</td>\n",
              "      <td>0</td>\n",
              "      <td>1</td>\n",
              "      <td>0</td>\n",
              "      <td>1</td>\n",
              "      <td>0</td>\n",
              "      <td>0.068789</td>\n",
              "      <td>0.931090</td>\n",
              "    </tr>\n",
              "    <tr>\n",
              "      <th>and</th>\n",
              "      <td>14364</td>\n",
              "      <td>196289</td>\n",
              "      <td>29584</td>\n",
              "      <td>92940</td>\n",
              "      <td>56964</td>\n",
              "      <td>8265</td>\n",
              "      <td>15797</td>\n",
              "      <td>18313</td>\n",
              "      <td>8327</td>\n",
              "      <td>9656</td>\n",
              "      <td>5907</td>\n",
              "      <td>4714</td>\n",
              "      <td>2103</td>\n",
              "      <td>533</td>\n",
              "      <td>1766</td>\n",
              "      <td>371</td>\n",
              "      <td>256</td>\n",
              "      <td>920</td>\n",
              "      <td>325</td>\n",
              "      <td>37</td>\n",
              "      <td>213</td>\n",
              "      <td>48</td>\n",
              "      <td>237</td>\n",
              "      <td>282</td>\n",
              "      <td>747</td>\n",
              "      <td>483</td>\n",
              "      <td>128</td>\n",
              "      <td>34</td>\n",
              "      <td>204</td>\n",
              "      <td>279</td>\n",
              "      <td>109</td>\n",
              "      <td>50</td>\n",
              "      <td>28</td>\n",
              "      <td>570</td>\n",
              "      <td>35</td>\n",
              "      <td>18</td>\n",
              "      <td>48</td>\n",
              "      <td>9</td>\n",
              "      <td>36</td>\n",
              "      <td>2</td>\n",
              "      <td>31</td>\n",
              "      <td>16</td>\n",
              "      <td>39</td>\n",
              "      <td>7</td>\n",
              "      <td>0.109136</td>\n",
              "      <td>0.086410</td>\n",
              "    </tr>\n",
              "    <tr>\n",
              "      <th>fruity</th>\n",
              "      <td>1474</td>\n",
              "      <td>3335</td>\n",
              "      <td>265</td>\n",
              "      <td>383</td>\n",
              "      <td>4613</td>\n",
              "      <td>444</td>\n",
              "      <td>133</td>\n",
              "      <td>166</td>\n",
              "      <td>96</td>\n",
              "      <td>328</td>\n",
              "      <td>103</td>\n",
              "      <td>64</td>\n",
              "      <td>19</td>\n",
              "      <td>4</td>\n",
              "      <td>27</td>\n",
              "      <td>4</td>\n",
              "      <td>1</td>\n",
              "      <td>15</td>\n",
              "      <td>1</td>\n",
              "      <td>0</td>\n",
              "      <td>3</td>\n",
              "      <td>0</td>\n",
              "      <td>3</td>\n",
              "      <td>1</td>\n",
              "      <td>6</td>\n",
              "      <td>16</td>\n",
              "      <td>2</td>\n",
              "      <td>0</td>\n",
              "      <td>3</td>\n",
              "      <td>3</td>\n",
              "      <td>4</td>\n",
              "      <td>0</td>\n",
              "      <td>0</td>\n",
              "      <td>6</td>\n",
              "      <td>1</td>\n",
              "      <td>0</td>\n",
              "      <td>0</td>\n",
              "      <td>0</td>\n",
              "      <td>0</td>\n",
              "      <td>0</td>\n",
              "      <td>4</td>\n",
              "      <td>0</td>\n",
              "      <td>0</td>\n",
              "      <td>0</td>\n",
              "      <td>0.061724</td>\n",
              "      <td>0.960106</td>\n",
              "    </tr>\n",
              "  </tbody>\n",
              "</table>\n",
              "</div>"
            ],
            "text/plain": [
              "        Portugal freq  US freq  Spain freq  ...  Global freq        US    France\n",
              "term                                        ...                                 \n",
              "this             7281    63746        8448  ...            2  0.099152  0.866476\n",
              "is               9456    43239        6994  ...            3  0.086613  0.914870\n",
              "ripe             2924    10701        1154  ...            0  0.068789  0.931090\n",
              "and             14364   196289       29584  ...            7  0.109136  0.086410\n",
              "fruity           1474     3335         265  ...            0  0.061724  0.960106\n",
              "\n",
              "[5 rows x 46 columns]"
            ]
          },
          "metadata": {
            "tags": []
          },
          "execution_count": 36
        }
      ]
    },
    {
      "cell_type": "code",
      "metadata": {
        "id": "XrNoT340gmWV",
        "colab_type": "code",
        "outputId": "eb4806e9-d4fe-40d9-9baf-be579b93c317",
        "colab": {
          "base_uri": "https://localhost:8080/",
          "height": 561
        }
      },
      "source": [
        "# view the most common words associated to the US and France country\n",
        "print(\"Top 15 US wine terms\")\n",
        "pprint(list(term_freq_us_df.sort_values(by=\"US\", ascending = False).index[:15]))\n",
        "print(\"Top 15 France wine terms\")\n",
        "pprint(list(term_freq_us_df.sort_values(by=\"France\", ascending = False).index[:15]))"
      ],
      "execution_count": 37,
      "outputs": [
        {
          "output_type": "stream",
          "text": [
            "Top 15 US wine terms\n",
            "['the sip',\n",
            " 'petite sirah',\n",
            " 'sirah',\n",
            " 'zinfandel',\n",
            " 'petite',\n",
            " 'show on',\n",
            " 'meet',\n",
            " 'new french',\n",
            " 'this bottling',\n",
            " 'meet with',\n",
            " '% new',\n",
            " 'california',\n",
            " \"winery 's\",\n",
            " 'the winery',\n",
            " 'bottling from']\n",
            "Top 15 France wine terms\n",
            "['champagne',\n",
            " 'cru',\n",
            " 'from 2022',\n",
            " 'from 2021',\n",
            " 'be ready',\n",
            " 'saint',\n",
            " 'from 2020',\n",
            " 'drink from',\n",
            " 'mineral texture',\n",
            " 'yellow fruits',\n",
            " 'from 2019',\n",
            " 'château',\n",
            " 'developing',\n",
            " 'from late',\n",
            " 'from 2017']\n"
          ],
          "name": "stdout"
        }
      ]
    },
    {
      "cell_type": "code",
      "metadata": {
        "id": "Jg8F_3udgn2l",
        "colab_type": "code",
        "colab": {}
      },
      "source": [
        "# Visualizing term associations\n",
        "html = st.produce_scattertext_explorer(\n",
        "    country_characteristic,\n",
        "    category = \"US\",\n",
        "    category_name = \"United States\",\n",
        "    not_category_name = \"Non United States\",\n",
        "    width_in_pixels = 1000,\n",
        "    metadata = wine_df[\"variety\"]\n",
        ")"
      ],
      "execution_count": 0,
      "outputs": []
    },
    {
      "cell_type": "code",
      "metadata": {
        "id": "n69_27PSnYHA",
        "colab_type": "code",
        "colab": {}
      },
      "source": [
        ""
      ],
      "execution_count": 0,
      "outputs": []
    }
  ]
}
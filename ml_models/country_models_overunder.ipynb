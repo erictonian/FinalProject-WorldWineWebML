{
 "cells": [
  {
   "cell_type": "code",
   "execution_count": 16,
   "metadata": {},
   "outputs": [],
   "source": [
    "#import libraries and modules\n",
    "import pandas as pd\n",
    "import numpy as np\n",
    "import matplotlib\n",
    "import matplotlib.pyplot as plt\n",
    "from collections import Counter\n",
    "\n",
    "#import scikit learn libraries\n",
    "from sklearn.model_selection import train_test_split\n",
    "from sklearn.feature_extraction import stop_words\n",
    "from sklearn.feature_extraction.text import CountVectorizer\n",
    "from sklearn.feature_extraction.text import TfidfTransformer\n",
    "from sklearn.metrics import classification_report\n",
    "from sklearn.pipeline import make_pipeline\n",
    "from sklearn.preprocessing import Normalizer\n",
    "from sklearn.naive_bayes import MultinomialNB\n",
    "from sklearn.linear_model import LogisticRegression\n",
    "from sklearn.svm import LinearSVC\n",
    "\n",
    "#import imbalanced learn libraries for sampling strategies\n",
    "from imblearn.pipeline import make_pipeline as make_pipeline_imb\n",
    "from imblearn.over_sampling import SMOTE\n",
    "from imblearn.under_sampling import NearMiss\n",
    "from imblearn.metrics import classification_report_imbalanced"
   ]
  },
  {
   "cell_type": "code",
   "execution_count": 17,
   "metadata": {},
   "outputs": [
    {
     "data": {
      "text/html": [
       "<div>\n",
       "<style scoped>\n",
       "    .dataframe tbody tr th:only-of-type {\n",
       "        vertical-align: middle;\n",
       "    }\n",
       "\n",
       "    .dataframe tbody tr th {\n",
       "        vertical-align: top;\n",
       "    }\n",
       "\n",
       "    .dataframe thead th {\n",
       "        text-align: right;\n",
       "    }\n",
       "</style>\n",
       "<table border=\"1\" class=\"dataframe\">\n",
       "  <thead>\n",
       "    <tr style=\"text-align: right;\">\n",
       "      <th></th>\n",
       "      <th>Unnamed: 0</th>\n",
       "      <th>country</th>\n",
       "      <th>description</th>\n",
       "      <th>price</th>\n",
       "      <th>points</th>\n",
       "      <th>variety</th>\n",
       "      <th>winery</th>\n",
       "    </tr>\n",
       "  </thead>\n",
       "  <tbody>\n",
       "    <tr>\n",
       "      <th>0</th>\n",
       "      <td>1</td>\n",
       "      <td>Portugal</td>\n",
       "      <td>This is ripe and fruity, a wine that is smooth...</td>\n",
       "      <td>15.0</td>\n",
       "      <td>87</td>\n",
       "      <td>Portuguese Red</td>\n",
       "      <td>Quinta dos Avidagos</td>\n",
       "    </tr>\n",
       "    <tr>\n",
       "      <th>1</th>\n",
       "      <td>2</td>\n",
       "      <td>US</td>\n",
       "      <td>Tart and snappy, the flavors of lime flesh and...</td>\n",
       "      <td>14.0</td>\n",
       "      <td>87</td>\n",
       "      <td>Pinot Gris</td>\n",
       "      <td>Rainstorm</td>\n",
       "    </tr>\n",
       "    <tr>\n",
       "      <th>2</th>\n",
       "      <td>3</td>\n",
       "      <td>US</td>\n",
       "      <td>Pineapple rind, lemon pith and orange blossom ...</td>\n",
       "      <td>13.0</td>\n",
       "      <td>87</td>\n",
       "      <td>Riesling</td>\n",
       "      <td>St. Julian</td>\n",
       "    </tr>\n",
       "    <tr>\n",
       "      <th>3</th>\n",
       "      <td>4</td>\n",
       "      <td>US</td>\n",
       "      <td>Much like the regular bottling from 2012, this...</td>\n",
       "      <td>65.0</td>\n",
       "      <td>87</td>\n",
       "      <td>Pinot Noir</td>\n",
       "      <td>Sweet Cheeks</td>\n",
       "    </tr>\n",
       "    <tr>\n",
       "      <th>4</th>\n",
       "      <td>5</td>\n",
       "      <td>Spain</td>\n",
       "      <td>Blackberry and raspberry aromas show a typical...</td>\n",
       "      <td>15.0</td>\n",
       "      <td>87</td>\n",
       "      <td>Tempranillo-Merlot</td>\n",
       "      <td>Tandem</td>\n",
       "    </tr>\n",
       "  </tbody>\n",
       "</table>\n",
       "</div>"
      ],
      "text/plain": [
       "   Unnamed: 0   country                                        description  \\\n",
       "0           1  Portugal  This is ripe and fruity, a wine that is smooth...   \n",
       "1           2        US  Tart and snappy, the flavors of lime flesh and...   \n",
       "2           3        US  Pineapple rind, lemon pith and orange blossom ...   \n",
       "3           4        US  Much like the regular bottling from 2012, this...   \n",
       "4           5     Spain  Blackberry and raspberry aromas show a typical...   \n",
       "\n",
       "   price  points             variety               winery  \n",
       "0   15.0      87      Portuguese Red  Quinta dos Avidagos  \n",
       "1   14.0      87          Pinot Gris            Rainstorm  \n",
       "2   13.0      87            Riesling           St. Julian  \n",
       "3   65.0      87          Pinot Noir         Sweet Cheeks  \n",
       "4   15.0      87  Tempranillo-Merlot               Tandem  "
      ]
     },
     "execution_count": 17,
     "metadata": {},
     "output_type": "execute_result"
    }
   ],
   "source": [
    "#import the data\n",
    "data = pd.read_csv(\"final_wine_data_172k_test.csv\")\n",
    "data.head()"
   ]
  },
  {
   "cell_type": "code",
   "execution_count": 18,
   "metadata": {},
   "outputs": [
    {
     "data": {
      "text/html": [
       "<div>\n",
       "<style scoped>\n",
       "    .dataframe tbody tr th:only-of-type {\n",
       "        vertical-align: middle;\n",
       "    }\n",
       "\n",
       "    .dataframe tbody tr th {\n",
       "        vertical-align: top;\n",
       "    }\n",
       "\n",
       "    .dataframe thead th {\n",
       "        text-align: right;\n",
       "    }\n",
       "</style>\n",
       "<table border=\"1\" class=\"dataframe\">\n",
       "  <thead>\n",
       "    <tr style=\"text-align: right;\">\n",
       "      <th></th>\n",
       "      <th>country</th>\n",
       "      <th>description</th>\n",
       "    </tr>\n",
       "  </thead>\n",
       "  <tbody>\n",
       "    <tr>\n",
       "      <th>0</th>\n",
       "      <td>Portugal</td>\n",
       "      <td>This is ripe and fruity, a wine that is smooth...</td>\n",
       "    </tr>\n",
       "    <tr>\n",
       "      <th>1</th>\n",
       "      <td>US</td>\n",
       "      <td>Tart and snappy, the flavors of lime flesh and...</td>\n",
       "    </tr>\n",
       "    <tr>\n",
       "      <th>2</th>\n",
       "      <td>US</td>\n",
       "      <td>Pineapple rind, lemon pith and orange blossom ...</td>\n",
       "    </tr>\n",
       "    <tr>\n",
       "      <th>3</th>\n",
       "      <td>US</td>\n",
       "      <td>Much like the regular bottling from 2012, this...</td>\n",
       "    </tr>\n",
       "    <tr>\n",
       "      <th>4</th>\n",
       "      <td>Spain</td>\n",
       "      <td>Blackberry and raspberry aromas show a typical...</td>\n",
       "    </tr>\n",
       "  </tbody>\n",
       "</table>\n",
       "</div>"
      ],
      "text/plain": [
       "    country                                        description\n",
       "0  Portugal  This is ripe and fruity, a wine that is smooth...\n",
       "1        US  Tart and snappy, the flavors of lime flesh and...\n",
       "2        US  Pineapple rind, lemon pith and orange blossom ...\n",
       "3        US  Much like the regular bottling from 2012, this...\n",
       "4     Spain  Blackberry and raspberry aromas show a typical..."
      ]
     },
     "execution_count": 18,
     "metadata": {},
     "output_type": "execute_result"
    }
   ],
   "source": [
    "#filter just the country and descirption fields\n",
    "data = data.filter([\"country\", \"description\"], axis = 1)\n",
    "data.head()"
   ]
  },
  {
   "cell_type": "code",
   "execution_count": 19,
   "metadata": {},
   "outputs": [
    {
     "data": {
      "text/plain": [
       "array(['Portugal', 'US', 'Spain', 'Italy', 'France', 'Germany',\n",
       "       'Argentina', 'Chile', 'Australia', 'Austria', 'South Africa',\n",
       "       'New Zealand', 'Israel', 'Hungary', 'Greece', 'Romania', 'Mexico',\n",
       "       'Canada', 'Turkey', 'Czech Republic', 'Slovenia', 'Luxembourg',\n",
       "       'Croatia', 'Georgia', 'Uruguay', 'England', 'Lebanon', 'Serbia',\n",
       "       'Brazil', 'Moldova', 'Morocco', 'Peru', 'India', 'Bulgaria',\n",
       "       'Cyprus', 'Armenia', 'Switzerland', 'Bosnia and Herzegovina',\n",
       "       'Ukraine', 'Slovakia', 'Macedonia', 'China', 'Kosovo', 'Global'],\n",
       "      dtype=object)"
      ]
     },
     "execution_count": 19,
     "metadata": {},
     "output_type": "execute_result"
    }
   ],
   "source": [
    "#look at the unique countries\n",
    "data['country'].unique()"
   ]
  },
  {
   "cell_type": "code",
   "execution_count": 20,
   "metadata": {},
   "outputs": [
    {
     "data": {
      "text/plain": [
       "US                        70956\n",
       "Italy                     31757\n",
       "France                    26183\n",
       "Spain                      8609\n",
       "Portugal                   6913\n",
       "Chile                      5284\n",
       "Argentina                  4567\n",
       "Austria                    3866\n",
       "Australia                  3148\n",
       "Germany                    2917\n",
       "New Zealand                1935\n",
       "South Africa               1582\n",
       "Israel                      689\n",
       "Greece                      566\n",
       "Canada                      336\n",
       "Uruguay                     228\n",
       "Bulgaria                    202\n",
       "Hungary                     187\n",
       "Romania                     143\n",
       "England                     123\n",
       "Georgia                     113\n",
       "Turkey                      107\n",
       "Moldova                     100\n",
       "Croatia                      85\n",
       "Slovenia                     84\n",
       "Mexico                       73\n",
       "Brazil                       73\n",
       "Lebanon                      35\n",
       "Morocco                      34\n",
       "Switzerland                  20\n",
       "Ukraine                      17\n",
       "Peru                         17\n",
       "Kosovo                       16\n",
       "Luxembourg                   16\n",
       "Czech Republic               14\n",
       "Cyprus                       12\n",
       "Serbia                       12\n",
       "Macedonia                    12\n",
       "India                         9\n",
       "Armenia                       7\n",
       "China                         6\n",
       "Bosnia and Herzegovina        3\n",
       "Global                        2\n",
       "Slovakia                      1\n",
       "Name: country, dtype: int64"
      ]
     },
     "execution_count": 20,
     "metadata": {},
     "output_type": "execute_result"
    }
   ],
   "source": [
    "#look at the country balance\n",
    "data['country'].value_counts()"
   ]
  },
  {
   "cell_type": "code",
   "execution_count": 22,
   "metadata": {},
   "outputs": [
    {
     "data": {
      "text/plain": [
       "<matplotlib.axes._subplots.AxesSubplot at 0x10b764e48>"
      ]
     },
     "execution_count": 22,
     "metadata": {},
     "output_type": "execute_result"
    },
    {
     "data": {
      "image/png": "[encoded data removed]",
      "text/plain": [
       "<Figure size 720x360 with 1 Axes>"
      ]
     },
     "metadata": {
      "needs_background": "light"
     },
     "output_type": "display_data"
    }
   ],
   "source": [
    "plt.rcParams['figure.figsize'] = [10, 5]\n",
    "pd.value_counts(data['country']).plot.bar()"
   ]
  },
  {
   "cell_type": "code",
   "execution_count": null,
   "metadata": {},
   "outputs": [],
   "source": [
    "#peek at the description length\n",
    "data['length'] = data['description'].apply(lambda x: len(x))\n",
    "data.head()"
   ]
  },
  {
   "cell_type": "code",
   "execution_count": null,
   "metadata": {},
   "outputs": [],
   "source": [
    "#look at the data types\n",
    "data.dtypes"
   ]
  },
  {
   "cell_type": "code",
   "execution_count": null,
   "metadata": {},
   "outputs": [],
   "source": [
    "# use Counter to get the top 20 wine countries\n",
    "\n",
    "counter = Counter(data['country'].tolist())\n",
    "top_countries = {i[0]: idx for idx, i in enumerate(counter.most_common(10))}\n",
    "top_countries_data = data[data['country'].map(lambda x: x in top_countries)]\n",
    "\n",
    "top_countries_data['country'].value_counts()"
   ]
  },
  {
   "cell_type": "code",
   "execution_count": null,
   "metadata": {},
   "outputs": [],
   "source": [
    "# filter out all extraneaous columns\n",
    "df = top_countries_data.filter([\"country\", \"description\"], axis = 1)\n",
    "df.head()"
   ]
  },
  {
   "cell_type": "code",
   "execution_count": null,
   "metadata": {},
   "outputs": [],
   "source": [
    "data = df"
   ]
  },
  {
   "cell_type": "code",
   "execution_count": null,
   "metadata": {},
   "outputs": [],
   "source": [
    "data.head()"
   ]
  },
  {
   "cell_type": "code",
   "execution_count": null,
   "metadata": {},
   "outputs": [],
   "source": [
    "X=data['description']\n",
    "y=data['country']\n",
    "\n",
    "X_train, X_test, y_train, y_test = train_test_split(X,y, test_size=0.2, random_state=42)"
   ]
  },
  {
   "cell_type": "markdown",
   "metadata": {},
   "source": [
    "## Modeling"
   ]
  },
  {
   "cell_type": "markdown",
   "metadata": {},
   "source": [
    "### Categorical Naive Bayes"
   ]
  },
  {
   "cell_type": "code",
   "execution_count": null,
   "metadata": {},
   "outputs": [],
   "source": [
    "#normal pipleine"
   ]
  },
  {
   "cell_type": "code",
   "execution_count": null,
   "metadata": {},
   "outputs": [],
   "source": [
    "%%time\n",
    "\n",
    "naive_bayes = make_pipeline_imb(\n",
    "    CountVectorizer(stop_words='english', binary=True),\n",
    "    MultinomialNB()\n",
    ")\n",
    "\n",
    "naive_bayes.fit(X_train, y_train)\n",
    "\n",
    "print(f'Accuracy: {naive_bayes.score(X_test, y_test)} \\n')\n",
    "print(classification_report(y_test, naive_bayes.predict(X_test)))"
   ]
  },
  {
   "cell_type": "code",
   "execution_count": null,
   "metadata": {},
   "outputs": [],
   "source": [
    "#undersampling"
   ]
  },
  {
   "cell_type": "code",
   "execution_count": null,
   "metadata": {},
   "outputs": [],
   "source": [
    "%%time\n",
    "\n",
    "naive_bayes_nearmiss = make_pipeline_imb(\n",
    "    CountVectorizer(stop_words='english', binary=True),\n",
    "    NearMiss(),\n",
    "    MultinomialNB()\n",
    ")\n",
    "\n",
    "naive_bayes_nearmiss.fit(X_train, y_train)\n",
    "\n",
    "print(f'Accuracy: {naive_bayes_nearmiss.score(X_test, y_test)} \\n')\n",
    "print(classification_report_imbalanced(y_test, naive_bayes_nearmiss.predict(X_test)))"
   ]
  },
  {
   "cell_type": "code",
   "execution_count": null,
   "metadata": {},
   "outputs": [],
   "source": [
    "#oversampling"
   ]
  },
  {
   "cell_type": "code",
   "execution_count": null,
   "metadata": {},
   "outputs": [],
   "source": [
    "%%time\n",
    "\n",
    "naive_bayes_smote = make_pipeline_imb(\n",
    "    CountVectorizer(stop_words='english', binary=True),\n",
    "    SMOTE(),\n",
    "    MultinomialNB()\n",
    ")\n",
    "\n",
    "naive_bayes_smote.fit(X_train, y_train)\n",
    "\n",
    "print(f'Accuracy: {naive_bayes_smote.score(X_test, y_test)} \\n')\n",
    "print(classification_report_imbalanced(y_test, naive_bayes_smote.predict(X_test)))"
   ]
  },
  {
   "cell_type": "code",
   "execution_count": null,
   "metadata": {},
   "outputs": [],
   "source": [
    "print(f\"normal Pipeline Score: {naive_bayes.score(X_test, y_test)}\")\n",
    "print(f\"SMOTE Pipeline Score: {naive_bayes_smote.score(X_test,y_test)}\")\n",
    "print(f\"NearMiss Pipeline Score: {naive_bayes_nearmiss.score(X_test, y_test)}\")"
   ]
  },
  {
   "cell_type": "code",
   "execution_count": null,
   "metadata": {},
   "outputs": [],
   "source": []
  },
  {
   "cell_type": "markdown",
   "metadata": {},
   "source": [
    "### TF-IDF Logistic Regression Model"
   ]
  },
  {
   "cell_type": "code",
   "execution_count": null,
   "metadata": {},
   "outputs": [],
   "source": [
    "#normal"
   ]
  },
  {
   "cell_type": "code",
   "execution_count": null,
   "metadata": {},
   "outputs": [],
   "source": [
    "%%time\n",
    "\n",
    "# TF-IDF Logistic Regression Model\n",
    "\n",
    "tfidf_logistic_regression = make_pipeline(\n",
    "   CountVectorizer(strip_accents='ascii',\n",
    "                   stop_words='english'),\n",
    "   TfidfTransformer(),\n",
    "   LogisticRegression(),\n",
    "   \n",
    "   \n",
    ")\n",
    "\n",
    "tfidf_logistic_regression.fit(X_train, y_train)\n",
    "\n",
    "print(f'Accuracy: {tfidf_logistic_regression.score(X_test, y_test)} \\n')\n",
    "print(classification_report(y_test, tfidf_logistic_regression.predict(X_test)))"
   ]
  },
  {
   "cell_type": "code",
   "execution_count": null,
   "metadata": {},
   "outputs": [],
   "source": [
    "#undersampling"
   ]
  },
  {
   "cell_type": "code",
   "execution_count": null,
   "metadata": {
    "scrolled": true
   },
   "outputs": [],
   "source": [
    "%%time\n",
    "\n",
    "# TF-IDF Logistic Regression Model\n",
    "\n",
    "tfidf_logistic_regression_nearmiss = make_pipeline_imb(\n",
    "   CountVectorizer(strip_accents='ascii',\n",
    "                   stop_words='english'),\n",
    "   TfidfTransformer(),\n",
    "    NearMiss(),\n",
    "   LogisticRegression(),\n",
    "   \n",
    "   \n",
    ")\n",
    "\n",
    "tfidf_logistic_regression_nearmiss.fit(X_train, y_train)\n",
    "\n",
    "print(f'Accuracy: {tfidf_logistic_regression_nearmiss.score(X_test, y_test)} \\n')\n",
    "print(classification_report_imbalanced(y_test, tfidf_logistic_regression_nearmiss.predict(X_test)))"
   ]
  },
  {
   "cell_type": "code",
   "execution_count": null,
   "metadata": {},
   "outputs": [],
   "source": [
    "#oversampling"
   ]
  },
  {
   "cell_type": "code",
   "execution_count": null,
   "metadata": {},
   "outputs": [],
   "source": [
    "%%time\n",
    "\n",
    "# TF-IDF Logistic Regression Model\n",
    "\n",
    "tfidf_logistic_regression_smote = make_pipeline_imb(\n",
    "   CountVectorizer(strip_accents='ascii',\n",
    "                   stop_words='english'),\n",
    "   TfidfTransformer(),\n",
    "    SMOTE(),\n",
    "   LogisticRegression(),\n",
    "   \n",
    "   \n",
    ")\n",
    "\n",
    "tfidf_logistic_regression_smote.fit(X_train, y_train)\n",
    "\n",
    "print(f'Accuracy: {tfidf_logistic_regression_smote.score(X_test, y_test)} \\n')\n",
    "print(classification_report_imbalanced(y_test, tfidf_logistic_regression_smote.predict(X_test)))"
   ]
  },
  {
   "cell_type": "code",
   "execution_count": null,
   "metadata": {},
   "outputs": [],
   "source": [
    "print(f\"normal Pipeline Score: {tfidf_logistic_regression.score(X_test, y_test)}\")\n",
    "print(f\"SMOTE Pipeline Score: {tfidf_logistic_regression_smote.score(X_test,y_test)}\")\n",
    "print(f\"NearMiss Pipeline Score: {tfidf_logistic_regression_nearmiss.score(X_test, y_test)}\")"
   ]
  },
  {
   "cell_type": "code",
   "execution_count": null,
   "metadata": {},
   "outputs": [],
   "source": []
  },
  {
   "cell_type": "markdown",
   "metadata": {},
   "source": [
    "### TF-IDF Linear SVC"
   ]
  },
  {
   "cell_type": "code",
   "execution_count": null,
   "metadata": {},
   "outputs": [],
   "source": [
    "#normal"
   ]
  },
  {
   "cell_type": "code",
   "execution_count": null,
   "metadata": {},
   "outputs": [],
   "source": [
    "%%time\n",
    "\n",
    "tfidf_svc = make_pipeline(\n",
    "    CountVectorizer(\n",
    "        stop_words='english',\n",
    "    ),\n",
    "    TfidfTransformer(),\n",
    "    LinearSVC()\n",
    ")\n",
    "\n",
    "tfidf_svc.fit(X_train, y_train)\n",
    "\n",
    "print(f'Accuracy: {tfidf_svc.score(X_test, y_test)} \\n')\n",
    "print(classification_report(y_test, tfidf_svc.predict(X_test)))"
   ]
  },
  {
   "cell_type": "code",
   "execution_count": null,
   "metadata": {},
   "outputs": [],
   "source": [
    "#undersampling"
   ]
  },
  {
   "cell_type": "code",
   "execution_count": null,
   "metadata": {},
   "outputs": [],
   "source": [
    "%%time\n",
    "\n",
    "tfidf_svc_nearmiss = make_pipeline_imb(\n",
    "    CountVectorizer(\n",
    "        stop_words='english',\n",
    "    ),\n",
    "    TfidfTransformer(),\n",
    "    NearMiss(),\n",
    "    LinearSVC()\n",
    ")\n",
    "\n",
    "tfidf_svc_nearmiss.fit(X_train, y_train)\n",
    "\n",
    "print(f'Accuracy: {tfidf_svc_nearmiss.score(X_test, y_test)} \\n')\n",
    "print(classification_report_imbalanced(y_test, tfidf_svc_nearmiss.predict(X_test)))"
   ]
  },
  {
   "cell_type": "code",
   "execution_count": null,
   "metadata": {},
   "outputs": [],
   "source": [
    "#oversampling"
   ]
  },
  {
   "cell_type": "code",
   "execution_count": null,
   "metadata": {},
   "outputs": [],
   "source": [
    "%%time\n",
    "\n",
    "tfidf_svc_smote = make_pipeline_imb(\n",
    "    CountVectorizer(\n",
    "        stop_words='english',\n",
    "    ),\n",
    "    TfidfTransformer(),\n",
    "    SMOTE(),\n",
    "    LinearSVC()\n",
    ")\n",
    "\n",
    "tfidf_svc_smote.fit(X_train, y_train)\n",
    "\n",
    "print(f'Accuracy: {tfidf_svc_smote.score(X_test, y_test)} \\n')\n",
    "print(classification_report_imbalanced(y_test, tfidf_svc_smote.predict(X_test)))"
   ]
  },
  {
   "cell_type": "code",
   "execution_count": null,
   "metadata": {},
   "outputs": [],
   "source": [
    "print(f\"normal Pipeline Score: {tfidf_svc.score(X_test, y_test)}\")\n",
    "print(f\"SMOTE Pipeline Score: {tfidf_svc_smote.score(X_test,y_test)}\")\n",
    "print(f\"NearMiss Pipeline Score: {tfidf_svc_nearmiss.score(X_test, y_test)}\")"
   ]
  },
  {
   "cell_type": "code",
   "execution_count": null,
   "metadata": {},
   "outputs": [],
   "source": []
  },
  {
   "cell_type": "code",
   "execution_count": null,
   "metadata": {},
   "outputs": [],
   "source": []
  },
  {
   "cell_type": "code",
   "execution_count": null,
   "metadata": {},
   "outputs": [],
   "source": []
  },
  {
   "cell_type": "code",
   "execution_count": null,
   "metadata": {},
   "outputs": [],
   "source": []
  }
 ],
 "metadata": {
  "kernelspec": {
   "display_name": "ut_ml",
   "language": "python",
   "name": "ut_ml"
  },
  "language_info": {
   "codemirror_mode": {
    "name": "ipython",
    "version": 3
   },
   "file_extension": ".py",
   "mimetype": "text/x-python",
   "name": "python",
   "nbconvert_exporter": "python",
   "pygments_lexer": "ipython3",
   "version": "3.6.8"
  }
 },
 "nbformat": 4,
 "nbformat_minor": 2
}

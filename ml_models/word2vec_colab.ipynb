{
  "nbformat": 4,
  "nbformat_minor": 0,
  "metadata": {
    "colab": {
      "name": "word2vec_colab.ipynb",
      "version": "0.3.2",
      "provenance": []
    },
    "kernelspec": {
      "name": "python3",
      "display_name": "Python 3"
    },
    "accelerator": "TPU"
  },
  "cells": [
    {
      "cell_type": "code",
      "metadata": {
        "id": "Ay0q4rt1Sh9D",
        "colab_type": "code",
        "outputId": "ed34401b-57e9-4a22-cd3d-34b671897789",
        "colab": {
          "base_uri": "https://localhost:8080/",
          "height": 833
        }
      },
      "source": [
        "# import dependencies\n",
        "\n",
        "from collections import Counter\n",
        "import numpy as np\n",
        "import nltk\n",
        "from nltk.corpus import stopwords \n",
        "nltk.download(\"popular\")\n",
        "import re\n",
        "import sklearn.manifold\n",
        "import multiprocessing\n",
        "import pandas as pd\n",
        "import gensim.models.word2vec as w2v"
      ],
      "execution_count": 1,
      "outputs": [
        {
          "output_type": "stream",
          "text": [
            "[nltk_data] Downloading collection 'popular'\n",
            "[nltk_data]    | \n",
            "[nltk_data]    | Downloading package cmudict to /root/nltk_data...\n",
            "[nltk_data]    |   Package cmudict is already up-to-date!\n",
            "[nltk_data]    | Downloading package gazetteers to /root/nltk_data...\n",
            "[nltk_data]    |   Package gazetteers is already up-to-date!\n",
            "[nltk_data]    | Downloading package genesis to /root/nltk_data...\n",
            "[nltk_data]    |   Package genesis is already up-to-date!\n",
            "[nltk_data]    | Downloading package gutenberg to /root/nltk_data...\n",
            "[nltk_data]    |   Package gutenberg is already up-to-date!\n",
            "[nltk_data]    | Downloading package inaugural to /root/nltk_data...\n",
            "[nltk_data]    |   Package inaugural is already up-to-date!\n",
            "[nltk_data]    | Downloading package movie_reviews to\n",
            "[nltk_data]    |     /root/nltk_data...\n",
            "[nltk_data]    |   Package movie_reviews is already up-to-date!\n",
            "[nltk_data]    | Downloading package names to /root/nltk_data...\n",
            "[nltk_data]    |   Package names is already up-to-date!\n",
            "[nltk_data]    | Downloading package shakespeare to /root/nltk_data...\n",
            "[nltk_data]    |   Package shakespeare is already up-to-date!\n",
            "[nltk_data]    | Downloading package stopwords to /root/nltk_data...\n",
            "[nltk_data]    |   Package stopwords is already up-to-date!\n",
            "[nltk_data]    | Downloading package treebank to /root/nltk_data...\n",
            "[nltk_data]    |   Package treebank is already up-to-date!\n",
            "[nltk_data]    | Downloading package twitter_samples to\n",
            "[nltk_data]    |     /root/nltk_data...\n",
            "[nltk_data]    |   Package twitter_samples is already up-to-date!\n",
            "[nltk_data]    | Downloading package omw to /root/nltk_data...\n",
            "[nltk_data]    |   Package omw is already up-to-date!\n",
            "[nltk_data]    | Downloading package wordnet to /root/nltk_data...\n",
            "[nltk_data]    |   Package wordnet is already up-to-date!\n",
            "[nltk_data]    | Downloading package wordnet_ic to /root/nltk_data...\n",
            "[nltk_data]    |   Package wordnet_ic is already up-to-date!\n",
            "[nltk_data]    | Downloading package words to /root/nltk_data...\n",
            "[nltk_data]    |   Package words is already up-to-date!\n",
            "[nltk_data]    | Downloading package maxent_ne_chunker to\n",
            "[nltk_data]    |     /root/nltk_data...\n",
            "[nltk_data]    |   Package maxent_ne_chunker is already up-to-date!\n",
            "[nltk_data]    | Downloading package punkt to /root/nltk_data...\n",
            "[nltk_data]    |   Package punkt is already up-to-date!\n",
            "[nltk_data]    | Downloading package snowball_data to\n",
            "[nltk_data]    |     /root/nltk_data...\n",
            "[nltk_data]    |   Package snowball_data is already up-to-date!\n",
            "[nltk_data]    | Downloading package averaged_perceptron_tagger to\n",
            "[nltk_data]    |     /root/nltk_data...\n",
            "[nltk_data]    |   Package averaged_perceptron_tagger is already up-\n",
            "[nltk_data]    |       to-date!\n",
            "[nltk_data]    | \n",
            "[nltk_data]  Done downloading collection popular\n"
          ],
          "name": "stdout"
        }
      ]
    },
    {
      "cell_type": "markdown",
      "metadata": {
        "id": "JHSUCUdGCehy",
        "colab_type": "text"
      },
      "source": [
        "# ***Getting the data and loading it***"
      ]
    },
    {
      "cell_type": "code",
      "metadata": {
        "id": "ejO87SZCStTF",
        "colab_type": "code",
        "outputId": "eff8116d-a7fd-439d-d997-2a06098a9adc",
        "colab": {
          "base_uri": "https://localhost:8080/",
          "height": 204
        }
      },
      "source": [
        "# import the data and view it\n",
        "wine_df = pd.read_csv(\"final_wine_data_172k_test.csv\")\n",
        "wine_df.head()"
      ],
      "execution_count": 2,
      "outputs": [
        {
          "output_type": "execute_result",
          "data": {
            "text/html": [
              "<div>\n",
              "<style scoped>\n",
              "    .dataframe tbody tr th:only-of-type {\n",
              "        vertical-align: middle;\n",
              "    }\n",
              "\n",
              "    .dataframe tbody tr th {\n",
              "        vertical-align: top;\n",
              "    }\n",
              "\n",
              "    .dataframe thead th {\n",
              "        text-align: right;\n",
              "    }\n",
              "</style>\n",
              "<table border=\"1\" class=\"dataframe\">\n",
              "  <thead>\n",
              "    <tr style=\"text-align: right;\">\n",
              "      <th></th>\n",
              "      <th>Unnamed: 0</th>\n",
              "      <th>country</th>\n",
              "      <th>description</th>\n",
              "      <th>price</th>\n",
              "      <th>points</th>\n",
              "      <th>variety</th>\n",
              "      <th>winery</th>\n",
              "    </tr>\n",
              "  </thead>\n",
              "  <tbody>\n",
              "    <tr>\n",
              "      <th>0</th>\n",
              "      <td>1</td>\n",
              "      <td>Portugal</td>\n",
              "      <td>This is ripe and fruity, a wine that is smooth...</td>\n",
              "      <td>15.0</td>\n",
              "      <td>87</td>\n",
              "      <td>Portuguese Red</td>\n",
              "      <td>Quinta dos Avidagos</td>\n",
              "    </tr>\n",
              "    <tr>\n",
              "      <th>1</th>\n",
              "      <td>2</td>\n",
              "      <td>US</td>\n",
              "      <td>Tart and snappy, the flavors of lime flesh and...</td>\n",
              "      <td>14.0</td>\n",
              "      <td>87</td>\n",
              "      <td>Pinot Gris</td>\n",
              "      <td>Rainstorm</td>\n",
              "    </tr>\n",
              "    <tr>\n",
              "      <th>2</th>\n",
              "      <td>3</td>\n",
              "      <td>US</td>\n",
              "      <td>Pineapple rind, lemon pith and orange blossom ...</td>\n",
              "      <td>13.0</td>\n",
              "      <td>87</td>\n",
              "      <td>Riesling</td>\n",
              "      <td>St. Julian</td>\n",
              "    </tr>\n",
              "    <tr>\n",
              "      <th>3</th>\n",
              "      <td>4</td>\n",
              "      <td>US</td>\n",
              "      <td>Much like the regular bottling from 2012, this...</td>\n",
              "      <td>65.0</td>\n",
              "      <td>87</td>\n",
              "      <td>Pinot Noir</td>\n",
              "      <td>Sweet Cheeks</td>\n",
              "    </tr>\n",
              "    <tr>\n",
              "      <th>4</th>\n",
              "      <td>5</td>\n",
              "      <td>Spain</td>\n",
              "      <td>Blackberry and raspberry aromas show a typical...</td>\n",
              "      <td>15.0</td>\n",
              "      <td>87</td>\n",
              "      <td>Tempranillo-Merlot</td>\n",
              "      <td>Tandem</td>\n",
              "    </tr>\n",
              "  </tbody>\n",
              "</table>\n",
              "</div>"
            ],
            "text/plain": [
              "   Unnamed: 0   country  ...             variety               winery\n",
              "0           1  Portugal  ...      Portuguese Red  Quinta dos Avidagos\n",
              "1           2        US  ...          Pinot Gris            Rainstorm\n",
              "2           3        US  ...            Riesling           St. Julian\n",
              "3           4        US  ...          Pinot Noir         Sweet Cheeks\n",
              "4           5     Spain  ...  Tempranillo-Merlot               Tandem\n",
              "\n",
              "[5 rows x 7 columns]"
            ]
          },
          "metadata": {
            "tags": []
          },
          "execution_count": 2
        }
      ]
    },
    {
      "cell_type": "code",
      "metadata": {
        "id": "4dF6uImsS1lW",
        "colab_type": "code",
        "colab": {}
      },
      "source": [
        "# split out the variety and description\n",
        "variety = wine_df['variety']\n",
        "description = wine_df['description']"
      ],
      "execution_count": 0,
      "outputs": []
    },
    {
      "cell_type": "markdown",
      "metadata": {
        "id": "81BKw8stCr6K",
        "colab_type": "text"
      },
      "source": [
        "# ***Getting the Word2Vec Model ready***"
      ]
    },
    {
      "cell_type": "code",
      "metadata": {
        "id": "-LLGbEy1S3JF",
        "colab_type": "code",
        "colab": {}
      },
      "source": [
        "# In order to train a word2vec model, all of the description data will need to be concatenated into one giant string.\n",
        "corpus_raw = \"\"\n",
        "for d in description:\n",
        "    corpus_raw += d"
      ],
      "execution_count": 0,
      "outputs": []
    },
    {
      "cell_type": "code",
      "metadata": {
        "id": "UjywAO-2S5Zu",
        "colab_type": "code",
        "colab": {}
      },
      "source": [
        "# create a toeknizer to break the words up\n",
        "tokenizer = nltk.data.load('tokenizers/punkt/english.pickle')"
      ],
      "execution_count": 0,
      "outputs": []
    },
    {
      "cell_type": "code",
      "metadata": {
        "id": "WTLxY6C5S-li",
        "colab_type": "code",
        "colab": {}
      },
      "source": [
        "# run the tokenizer with our raw data\n",
        "raw_sentences = tokenizer.tokenize(corpus_raw)"
      ],
      "execution_count": 0,
      "outputs": []
    },
    {
      "cell_type": "code",
      "metadata": {
        "id": "uqlFQd5JTAGR",
        "colab_type": "code",
        "colab": {}
      },
      "source": [
        "# Create a function that will grab all of the sentences and make them into words\n",
        "def sentence_to_wordlist(raw):\n",
        "    clean = re.sub(\"[^a-zA-Z]\",\" \", raw)\n",
        "    words = clean.split()\n",
        "    return words"
      ],
      "execution_count": 0,
      "outputs": []
    },
    {
      "cell_type": "code",
      "metadata": {
        "id": "_OXXjPDlTEh4",
        "colab_type": "code",
        "colab": {}
      },
      "source": [
        "# run the above function to a variable sentences\n",
        "sentences = []\n",
        "for raw_sentence in raw_sentences:\n",
        "    if len(raw_sentence) > 0:\n",
        "        sentences.append(sentence_to_wordlist(raw_sentence))"
      ],
      "execution_count": 0,
      "outputs": []
    },
    {
      "cell_type": "code",
      "metadata": {
        "id": "hTyOXgfZTGtI",
        "colab_type": "code",
        "outputId": "3dcaee54-0418-46da-8635-8c24852a626e",
        "colab": {
          "base_uri": "https://localhost:8080/",
          "height": 71
        }
      },
      "source": [
        "# view the differences between the raw stentences and the words\n",
        "print(raw_sentences[234])\n",
        "print(sentence_to_wordlist(raw_sentences[234]))"
      ],
      "execution_count": 11,
      "outputs": [
        {
          "output_type": "stream",
          "text": [
            "The tactile acidity once sipped creates a fascinating soft buzz on the tongue, with flavors of dried mint, brisk raspberry and cherry tomato.\n",
            "['The', 'tactile', 'acidity', 'once', 'sipped', 'creates', 'a', 'fascinating', 'soft', 'buzz', 'on', 'the', 'tongue', 'with', 'flavors', 'of', 'dried', 'mint', 'brisk', 'raspberry', 'and', 'cherry', 'tomato']\n"
          ],
          "name": "stdout"
        }
      ]
    },
    {
      "cell_type": "code",
      "metadata": {
        "id": "42NKmti4TJFu",
        "colab_type": "code",
        "outputId": "674e6c99-c6be-491a-8d20-8f0bf43b8b24",
        "colab": {
          "base_uri": "https://localhost:8080/",
          "height": 34
        }
      },
      "source": [
        "# see how many tokens are in this whole dataset\n",
        "token_count = sum([len(sentence) for sentence in sentences])\n",
        "print('The wine corpus contains {0:,} tokens'.format(token_count))"
      ],
      "execution_count": 12,
      "outputs": [
        {
          "output_type": "stream",
          "text": [
            "The wine corpus contains 7,203,114 tokens\n"
          ],
          "name": "stdout"
        }
      ]
    },
    {
      "cell_type": "markdown",
      "metadata": {
        "id": "UwVPtXoGDUL8",
        "colab_type": "text"
      },
      "source": [
        "# ***Training the Word2Vec model***"
      ]
    },
    {
      "cell_type": "code",
      "metadata": {
        "id": "FK8f_GGjTLxp",
        "colab_type": "code",
        "colab": {}
      },
      "source": [
        "# creating our vairables for the model and applying the values\n",
        "num_features = 300\n",
        "min_word_count = 5\n",
        "num_workers = multiprocessing.cpu_count()\n",
        "context_size = 10\n",
        "downsampling = 1e-3\n",
        "seed=1993"
      ],
      "execution_count": 0,
      "outputs": []
    },
    {
      "cell_type": "code",
      "metadata": {
        "id": "_l6KBL4kTN5L",
        "colab_type": "code",
        "colab": {}
      },
      "source": [
        "# creating our word2vec model\n",
        "wine2vec = w2v.Word2Vec(\n",
        "    sg=1,\n",
        "    seed=seed,\n",
        "    workers=num_workers,\n",
        "    size=num_features,\n",
        "    min_count=min_word_count,\n",
        "    window=context_size,\n",
        "    sample=downsampling\n",
        ")"
      ],
      "execution_count": 0,
      "outputs": []
    },
    {
      "cell_type": "code",
      "metadata": {
        "id": "YwHAQp6wTSYW",
        "colab_type": "code",
        "colab": {}
      },
      "source": [
        "# building our word2vec model\n",
        "wine2vec.build_vocab(sentences)"
      ],
      "execution_count": 0,
      "outputs": []
    },
    {
      "cell_type": "code",
      "metadata": {
        "id": "sCfGANHgTUB4",
        "colab_type": "code",
        "outputId": "bfde2c78-c833-4b2f-e6a4-75b77664533c",
        "colab": {
          "base_uri": "https://localhost:8080/",
          "height": 34
        }
      },
      "source": [
        "# seeing how many vocabulary words are in the model\n",
        "print('Word2Vec vocabulary length:', len(wine2vec.wv.vocab))"
      ],
      "execution_count": 16,
      "outputs": [
        {
          "output_type": "stream",
          "text": [
            "Word2Vec vocabulary length: 15406\n"
          ],
          "name": "stdout"
        }
      ]
    },
    {
      "cell_type": "code",
      "metadata": {
        "id": "Zon8eIOHTWpO",
        "colab_type": "code",
        "outputId": "e4ed0925-ba90-48ac-fdb5-b87569348437",
        "colab": {
          "base_uri": "https://localhost:8080/",
          "height": 34
        }
      },
      "source": [
        "# getting the total corpus count of the model\n",
        "print(wine2vec.corpus_count)"
      ],
      "execution_count": 17,
      "outputs": [
        {
          "output_type": "stream",
          "text": [
            "305018\n"
          ],
          "name": "stdout"
        }
      ]
    },
    {
      "cell_type": "code",
      "metadata": {
        "id": "OJv_IzcWTYZ0",
        "colab_type": "code",
        "outputId": "c2e97ab0-2572-4c5d-b830-4ed7bb7956b5",
        "colab": {
          "base_uri": "https://localhost:8080/",
          "height": 68
        }
      },
      "source": [
        "# training the model\n",
        "wine2vec.train(sentences, total_examples=wine2vec.corpus_count, epochs=wine2vec.iter)"
      ],
      "execution_count": 18,
      "outputs": [
        {
          "output_type": "stream",
          "text": [
            "/usr/local/lib/python3.6/dist-packages/ipykernel_launcher.py:1: DeprecationWarning: Call to deprecated `iter` (Attribute will be removed in 4.0.0, use self.epochs instead).\n",
            "  \"\"\"Entry point for launching an IPython kernel.\n"
          ],
          "name": "stderr"
        },
        {
          "output_type": "execute_result",
          "data": {
            "text/plain": [
              "(25988037, 36015570)"
            ]
          },
          "metadata": {
            "tags": []
          },
          "execution_count": 18
        }
      ]
    },
    {
      "cell_type": "markdown",
      "metadata": {
        "id": "tjsVkRjeDzIQ",
        "colab_type": "text"
      },
      "source": [
        "# ***Playing with the model***"
      ]
    },
    {
      "cell_type": "markdown",
      "metadata": {
        "id": "GBKRvlJiEFpe",
        "colab_type": "text"
      },
      "source": [
        "### Word2Vec provides a \"most similar\" word feature we can use in the model"
      ]
    },
    {
      "cell_type": "code",
      "metadata": {
        "id": "Hl9HVkzUTZoC",
        "colab_type": "code",
        "outputId": "737fb738-bbb4-4e64-c398-aeed65fc8160",
        "colab": {
          "base_uri": "https://localhost:8080/",
          "height": 275
        }
      },
      "source": [
        "# run against the model to see what words are similar and what we can predict\n",
        "wine2vec.most_similar('melon')"
      ],
      "execution_count": 19,
      "outputs": [
        {
          "output_type": "stream",
          "text": [
            "/usr/local/lib/python3.6/dist-packages/ipykernel_launcher.py:1: DeprecationWarning: Call to deprecated `most_similar` (Method will be removed in 4.0.0, use self.wv.most_similar() instead).\n",
            "  \"\"\"Entry point for launching an IPython kernel.\n",
            "/usr/local/lib/python3.6/dist-packages/gensim/matutils.py:737: FutureWarning: Conversion of the second argument of issubdtype from `int` to `np.signedinteger` is deprecated. In future, it will be treated as `np.int64 == np.dtype(int).type`.\n",
            "  if np.issubdtype(vec.dtype, np.int):\n"
          ],
          "name": "stderr"
        },
        {
          "output_type": "execute_result",
          "data": {
            "text/plain": [
              "[('papaya', 0.6805564165115356),\n",
              " ('cantaloupe', 0.6621880531311035),\n",
              " ('banana', 0.640127420425415),\n",
              " ('supremes', 0.6319231986999512),\n",
              " ('nectarine', 0.6277747750282288),\n",
              " ('honeydew', 0.6268405914306641),\n",
              " ('mango', 0.6213712692260742),\n",
              " ('peach', 0.6154108047485352),\n",
              " ('kiwi', 0.6133053302764893),\n",
              " ('tinned', 0.6103756427764893)]"
            ]
          },
          "metadata": {
            "tags": []
          },
          "execution_count": 19
        }
      ]
    },
    {
      "cell_type": "code",
      "metadata": {
        "id": "vQFccdM7Uusf",
        "colab_type": "code",
        "outputId": "9132ced1-6da3-4622-ecc3-d0d87e0289c5",
        "colab": {
          "base_uri": "https://localhost:8080/",
          "height": 275
        }
      },
      "source": [
        "wine2vec.most_similar('berry')"
      ],
      "execution_count": 20,
      "outputs": [
        {
          "output_type": "stream",
          "text": [
            "/usr/local/lib/python3.6/dist-packages/ipykernel_launcher.py:1: DeprecationWarning: Call to deprecated `most_similar` (Method will be removed in 4.0.0, use self.wv.most_similar() instead).\n",
            "  \"\"\"Entry point for launching an IPython kernel.\n",
            "/usr/local/lib/python3.6/dist-packages/gensim/matutils.py:737: FutureWarning: Conversion of the second argument of issubdtype from `int` to `np.signedinteger` is deprecated. In future, it will be treated as `np.int64 == np.dtype(int).type`.\n",
            "  if np.issubdtype(vec.dtype, np.int):\n"
          ],
          "name": "stderr"
        },
        {
          "output_type": "execute_result",
          "data": {
            "text/plain": [
              "[('Sunbaked', 0.5775878429412842),\n",
              " ('blackberry', 0.572376012802124),\n",
              " ('cowhide', 0.557167112827301),\n",
              " ('berries', 0.5560652017593384),\n",
              " ('horsehide', 0.538925290107727),\n",
              " ('conflict', 0.5343519449234009),\n",
              " ('withered', 0.5291473865509033),\n",
              " ('Porcini', 0.5225446224212646),\n",
              " ('Berry', 0.5208200216293335),\n",
              " ('aftershocks', 0.5187227725982666)]"
            ]
          },
          "metadata": {
            "tags": []
          },
          "execution_count": 20
        }
      ]
    },
    {
      "cell_type": "code",
      "metadata": {
        "id": "lKRPnW3BVMQq",
        "colab_type": "code",
        "outputId": "3215b8f6-d8eb-4eaa-eea1-a74a39b57bba",
        "colab": {
          "base_uri": "https://localhost:8080/",
          "height": 275
        }
      },
      "source": [
        "wine2vec.most_similar('oak')"
      ],
      "execution_count": 21,
      "outputs": [
        {
          "output_type": "stream",
          "text": [
            "/usr/local/lib/python3.6/dist-packages/ipykernel_launcher.py:1: DeprecationWarning: Call to deprecated `most_similar` (Method will be removed in 4.0.0, use self.wv.most_similar() instead).\n",
            "  \"\"\"Entry point for launching an IPython kernel.\n",
            "/usr/local/lib/python3.6/dist-packages/gensim/matutils.py:737: FutureWarning: Conversion of the second argument of issubdtype from `int` to `np.signedinteger` is deprecated. In future, it will be treated as `np.int64 == np.dtype(int).type`.\n",
            "  if np.issubdtype(vec.dtype, np.int):\n"
          ],
          "name": "stderr"
        },
        {
          "output_type": "execute_result",
          "data": {
            "text/plain": [
              "[('charry', 0.5337623357772827),\n",
              " ('Used', 0.5206912755966187),\n",
              " ('Cedary', 0.5176864862442017),\n",
              " ('muffle', 0.515874981880188),\n",
              " ('drums', 0.507997989654541),\n",
              " ('roasty', 0.5055288076400757),\n",
              " ('oaky', 0.5017535090446472),\n",
              " ('cradling', 0.49776583909988403),\n",
              " ('compostable', 0.49642103910446167),\n",
              " ('staves', 0.495244562625885)]"
            ]
          },
          "metadata": {
            "tags": []
          },
          "execution_count": 21
        }
      ]
    },
    {
      "cell_type": "code",
      "metadata": {
        "id": "o9ku0c2oVSVP",
        "colab_type": "code",
        "outputId": "05041e40-c403-4565-b0df-e131298776b0",
        "colab": {
          "base_uri": "https://localhost:8080/",
          "height": 275
        }
      },
      "source": [
        "wine2vec.most_similar('full')"
      ],
      "execution_count": 22,
      "outputs": [
        {
          "output_type": "stream",
          "text": [
            "/usr/local/lib/python3.6/dist-packages/ipykernel_launcher.py:1: DeprecationWarning: Call to deprecated `most_similar` (Method will be removed in 4.0.0, use self.wv.most_similar() instead).\n",
            "  \"\"\"Entry point for launching an IPython kernel.\n",
            "/usr/local/lib/python3.6/dist-packages/gensim/matutils.py:737: FutureWarning: Conversion of the second argument of issubdtype from `int` to `np.signedinteger` is deprecated. In future, it will be treated as `np.int64 == np.dtype(int).type`.\n",
            "  if np.issubdtype(vec.dtype, np.int):\n"
          ],
          "name": "stderr"
        },
        {
          "output_type": "execute_result",
          "data": {
            "text/plain": [
              "[('Full', 0.6068189144134521),\n",
              " ('supersmooth', 0.5505632758140564),\n",
              " ('overflows', 0.5294167995452881),\n",
              " ('ultrasmooth', 0.5271635055541992),\n",
              " ('gushing', 0.5226176977157593),\n",
              " ('abundantly', 0.5214405655860901),\n",
              " ('feathered', 0.5092262625694275),\n",
              " ('Seriously', 0.5019351840019226),\n",
              " ('drenching', 0.5000550150871277),\n",
              " ('helpings', 0.4948199987411499)]"
            ]
          },
          "metadata": {
            "tags": []
          },
          "execution_count": 22
        }
      ]
    },
    {
      "cell_type": "code",
      "metadata": {
        "id": "v8Ek5ZGpVebn",
        "colab_type": "code",
        "outputId": "3bcf33e9-199a-4fd5-c626-9295e402fcce",
        "colab": {
          "base_uri": "https://localhost:8080/",
          "height": 275
        }
      },
      "source": [
        "wine2vec.most_similar('tannins')"
      ],
      "execution_count": 23,
      "outputs": [
        {
          "output_type": "stream",
          "text": [
            "/usr/local/lib/python3.6/dist-packages/ipykernel_launcher.py:1: DeprecationWarning: Call to deprecated `most_similar` (Method will be removed in 4.0.0, use self.wv.most_similar() instead).\n",
            "  \"\"\"Entry point for launching an IPython kernel.\n",
            "/usr/local/lib/python3.6/dist-packages/gensim/matutils.py:737: FutureWarning: Conversion of the second argument of issubdtype from `int` to `np.signedinteger` is deprecated. In future, it will be treated as `np.int64 == np.dtype(int).type`.\n",
            "  if np.issubdtype(vec.dtype, np.int):\n"
          ],
          "name": "stderr"
        },
        {
          "output_type": "execute_result",
          "data": {
            "text/plain": [
              "[('Tannins', 0.6057425141334534),\n",
              " ('flexed', 0.5649431943893433),\n",
              " ('firm', 0.5524418354034424),\n",
              " ('lithely', 0.552230715751648),\n",
              " ('buffed', 0.543292760848999),\n",
              " ('loosely', 0.540454089641571),\n",
              " ('Mouthfilling', 0.5362820029258728),\n",
              " ('tannin', 0.5347068905830383),\n",
              " ('Sinewy', 0.5340871810913086),\n",
              " ('clenching', 0.5325667858123779)]"
            ]
          },
          "metadata": {
            "tags": []
          },
          "execution_count": 23
        }
      ]
    },
    {
      "cell_type": "code",
      "metadata": {
        "id": "bSry7BorVggj",
        "colab_type": "code",
        "outputId": "cea10609-3098-4b04-f792-40843d27bb91",
        "colab": {
          "base_uri": "https://localhost:8080/",
          "height": 275
        }
      },
      "source": [
        "wine2vec.most_similar('white')"
      ],
      "execution_count": 24,
      "outputs": [
        {
          "output_type": "stream",
          "text": [
            "/usr/local/lib/python3.6/dist-packages/ipykernel_launcher.py:1: DeprecationWarning: Call to deprecated `most_similar` (Method will be removed in 4.0.0, use self.wv.most_similar() instead).\n",
            "  \"\"\"Entry point for launching an IPython kernel.\n",
            "/usr/local/lib/python3.6/dist-packages/gensim/matutils.py:737: FutureWarning: Conversion of the second argument of issubdtype from `int` to `np.signedinteger` is deprecated. In future, it will be treated as `np.int64 == np.dtype(int).type`.\n",
            "  if np.issubdtype(vec.dtype, np.int):\n"
          ],
          "name": "stderr"
        },
        {
          "output_type": "execute_result",
          "data": {
            "text/plain": [
              "[('rennet', 0.5722517967224121),\n",
              " ('Kaiser', 0.5488391518592834),\n",
              " ('McIntosh', 0.5327709913253784),\n",
              " ('Fetel', 0.5320342183113098),\n",
              " ('Chamomile', 0.5281394720077515),\n",
              " ('salvia', 0.5256830453872681),\n",
              " ('Rennet', 0.5230833888053894),\n",
              " ('Plumes', 0.5205769538879395),\n",
              " ('crystalized', 0.5150020122528076),\n",
              " ('Caprettone', 0.5121810436248779)]"
            ]
          },
          "metadata": {
            "tags": []
          },
          "execution_count": 24
        }
      ]
    },
    {
      "cell_type": "code",
      "metadata": {
        "id": "MG63gnFbV2Eq",
        "colab_type": "code",
        "outputId": "cda289b9-73be-4147-92d1-64273453815d",
        "colab": {
          "base_uri": "https://localhost:8080/",
          "height": 241
        }
      },
      "source": [
        "wine2vec.most_similar_cosmul(\"white\")"
      ],
      "execution_count": 25,
      "outputs": [
        {
          "output_type": "stream",
          "text": [
            "/usr/local/lib/python3.6/dist-packages/ipykernel_launcher.py:1: DeprecationWarning: Call to deprecated `most_similar_cosmul` (Method will be removed in 4.0.0, use self.wv.most_similar_cosmul() instead).\n",
            "  \"\"\"Entry point for launching an IPython kernel.\n"
          ],
          "name": "stderr"
        },
        {
          "output_type": "execute_result",
          "data": {
            "text/plain": [
              "[('rennet', 0.786125123500824),\n",
              " ('Kaiser', 0.774418830871582),\n",
              " ('McIntosh', 0.7663847804069519),\n",
              " ('Fetel', 0.7660163640975952),\n",
              " ('Chamomile', 0.7640690207481384),\n",
              " ('salvia', 0.7628408074378967),\n",
              " ('Rennet', 0.7615410089492798),\n",
              " ('Plumes', 0.7602877616882324),\n",
              " ('crystalized', 0.7575002908706665),\n",
              " ('Caprettone', 0.7560898065567017)]"
            ]
          },
          "metadata": {
            "tags": []
          },
          "execution_count": 25
        }
      ]
    },
    {
      "cell_type": "code",
      "metadata": {
        "id": "gDZZjM0eVArS",
        "colab_type": "code",
        "colab": {}
      },
      "source": [
        ""
      ],
      "execution_count": 0,
      "outputs": []
    }
  ]
}
{
 "cells": [
  {
   "cell_type": "code",
   "execution_count": 35,
   "metadata": {},
   "outputs": [],
   "source": [
    "#import libraries and modules\n",
    "import pandas as pd\n",
    "import numpy as np\n",
    "from sklearn.naive_bayes import MultinomialNB\n",
    "from sklearn.feature_extraction import stop_words\n",
    "from sklearn.feature_extraction.text import CountVectorizer\n",
    "from collections import Counter\n",
    "from sklearn.model_selection import train_test_split\n",
    "from sklearn.feature_extraction.text import TfidfVectorizer\n",
    "from sklearn.feature_extraction.text import TfidfTransformer\n",
    "from sklearn.metrics import classification_report\n",
    "from sklearn.pipeline import make_pipeline\n",
    "from sklearn.base import TransformerMixin\n",
    "class DenseTransformer(TransformerMixin):\n",
    "    \n",
    "    def fit(self, X, y=None, **fit_params):\n",
    "        return self\n",
    "    \n",
    "    def transform(self, X, y=None, **fit_params):\n",
    "        return X.todense()\n",
    "from sklearn.preprocessing import Normalizer\n",
    "from sklearn.naive_bayes import MultinomialNB\n",
    "from sklearn.naive_bayes import GaussianNB\n",
    "from sklearn.linear_model import LinearRegression\n",
    "from sklearn.linear_model import LogisticRegression\n",
    "from sklearn.linear_model import LogisticRegressionCV\n",
    "from sklearn.discriminant_analysis import LinearDiscriminantAnalysis\n",
    "from sklearn.svm import LinearSVC\n",
    "\n",
    "from collections import Counter\n"
   ]
  },
  {
   "cell_type": "code",
   "execution_count": 36,
   "metadata": {},
   "outputs": [
    {
     "name": "stdout",
     "output_type": "stream",
     "text": [
      "/Users/Eric/Documents/DataAnalyticsBootcamp/MY_WORK_AREA/UTAUS201901DATA3/Projects/FinalProject/repo_world_wine_web_MY_SANDBOX/FinalProject-WorldWineWebML/models\r\n"
     ]
    }
   ],
   "source": [
    "!pwd"
   ]
  },
  {
   "cell_type": "code",
   "execution_count": 37,
   "metadata": {},
   "outputs": [
    {
     "data": {
      "text/html": [
       "<div>\n",
       "<style scoped>\n",
       "    .dataframe tbody tr th:only-of-type {\n",
       "        vertical-align: middle;\n",
       "    }\n",
       "\n",
       "    .dataframe tbody tr th {\n",
       "        vertical-align: top;\n",
       "    }\n",
       "\n",
       "    .dataframe thead th {\n",
       "        text-align: right;\n",
       "    }\n",
       "</style>\n",
       "<table border=\"1\" class=\"dataframe\">\n",
       "  <thead>\n",
       "    <tr style=\"text-align: right;\">\n",
       "      <th></th>\n",
       "      <th>Unnamed: 0</th>\n",
       "      <th>country</th>\n",
       "      <th>description</th>\n",
       "      <th>price</th>\n",
       "      <th>points</th>\n",
       "      <th>variety</th>\n",
       "      <th>winery</th>\n",
       "    </tr>\n",
       "  </thead>\n",
       "  <tbody>\n",
       "    <tr>\n",
       "      <th>0</th>\n",
       "      <td>1</td>\n",
       "      <td>Portugal</td>\n",
       "      <td>This is ripe and fruity, a wine that is smooth...</td>\n",
       "      <td>15.0</td>\n",
       "      <td>87</td>\n",
       "      <td>Portuguese Red</td>\n",
       "      <td>Quinta dos Avidagos</td>\n",
       "    </tr>\n",
       "    <tr>\n",
       "      <th>1</th>\n",
       "      <td>2</td>\n",
       "      <td>US</td>\n",
       "      <td>Tart and snappy, the flavors of lime flesh and...</td>\n",
       "      <td>14.0</td>\n",
       "      <td>87</td>\n",
       "      <td>Pinot Gris</td>\n",
       "      <td>Rainstorm</td>\n",
       "    </tr>\n",
       "    <tr>\n",
       "      <th>2</th>\n",
       "      <td>3</td>\n",
       "      <td>US</td>\n",
       "      <td>Pineapple rind, lemon pith and orange blossom ...</td>\n",
       "      <td>13.0</td>\n",
       "      <td>87</td>\n",
       "      <td>Riesling</td>\n",
       "      <td>St. Julian</td>\n",
       "    </tr>\n",
       "    <tr>\n",
       "      <th>3</th>\n",
       "      <td>4</td>\n",
       "      <td>US</td>\n",
       "      <td>Much like the regular bottling from 2012, this...</td>\n",
       "      <td>65.0</td>\n",
       "      <td>87</td>\n",
       "      <td>Pinot Noir</td>\n",
       "      <td>Sweet Cheeks</td>\n",
       "    </tr>\n",
       "    <tr>\n",
       "      <th>4</th>\n",
       "      <td>5</td>\n",
       "      <td>Spain</td>\n",
       "      <td>Blackberry and raspberry aromas show a typical...</td>\n",
       "      <td>15.0</td>\n",
       "      <td>87</td>\n",
       "      <td>Tempranillo-Merlot</td>\n",
       "      <td>Tandem</td>\n",
       "    </tr>\n",
       "  </tbody>\n",
       "</table>\n",
       "</div>"
      ],
      "text/plain": [
       "   Unnamed: 0   country                                        description  \\\n",
       "0           1  Portugal  This is ripe and fruity, a wine that is smooth...   \n",
       "1           2        US  Tart and snappy, the flavors of lime flesh and...   \n",
       "2           3        US  Pineapple rind, lemon pith and orange blossom ...   \n",
       "3           4        US  Much like the regular bottling from 2012, this...   \n",
       "4           5     Spain  Blackberry and raspberry aromas show a typical...   \n",
       "\n",
       "   price  points             variety               winery  \n",
       "0   15.0      87      Portuguese Red  Quinta dos Avidagos  \n",
       "1   14.0      87          Pinot Gris            Rainstorm  \n",
       "2   13.0      87            Riesling           St. Julian  \n",
       "3   65.0      87          Pinot Noir         Sweet Cheeks  \n",
       "4   15.0      87  Tempranillo-Merlot               Tandem  "
      ]
     },
     "execution_count": 37,
     "metadata": {},
     "output_type": "execute_result"
    }
   ],
   "source": [
    "#import the data\n",
    "data = pd.read_csv(\"final_wine_data_172k_test.csv\")\n",
    "data.head()"
   ]
  },
  {
   "cell_type": "code",
   "execution_count": 17,
   "metadata": {},
   "outputs": [
    {
     "data": {
      "text/html": [
       "<div>\n",
       "<style scoped>\n",
       "    .dataframe tbody tr th:only-of-type {\n",
       "        vertical-align: middle;\n",
       "    }\n",
       "\n",
       "    .dataframe tbody tr th {\n",
       "        vertical-align: top;\n",
       "    }\n",
       "\n",
       "    .dataframe thead th {\n",
       "        text-align: right;\n",
       "    }\n",
       "</style>\n",
       "<table border=\"1\" class=\"dataframe\">\n",
       "  <thead>\n",
       "    <tr style=\"text-align: right;\">\n",
       "      <th></th>\n",
       "      <th>country</th>\n",
       "      <th>description</th>\n",
       "    </tr>\n",
       "  </thead>\n",
       "  <tbody>\n",
       "    <tr>\n",
       "      <th>0</th>\n",
       "      <td>Portugal</td>\n",
       "      <td>This is ripe and fruity, a wine that is smooth...</td>\n",
       "    </tr>\n",
       "    <tr>\n",
       "      <th>1</th>\n",
       "      <td>US</td>\n",
       "      <td>Tart and snappy, the flavors of lime flesh and...</td>\n",
       "    </tr>\n",
       "    <tr>\n",
       "      <th>2</th>\n",
       "      <td>US</td>\n",
       "      <td>Pineapple rind, lemon pith and orange blossom ...</td>\n",
       "    </tr>\n",
       "    <tr>\n",
       "      <th>3</th>\n",
       "      <td>US</td>\n",
       "      <td>Much like the regular bottling from 2012, this...</td>\n",
       "    </tr>\n",
       "    <tr>\n",
       "      <th>4</th>\n",
       "      <td>Spain</td>\n",
       "      <td>Blackberry and raspberry aromas show a typical...</td>\n",
       "    </tr>\n",
       "  </tbody>\n",
       "</table>\n",
       "</div>"
      ],
      "text/plain": [
       "    country                                        description\n",
       "0  Portugal  This is ripe and fruity, a wine that is smooth...\n",
       "1        US  Tart and snappy, the flavors of lime flesh and...\n",
       "2        US  Pineapple rind, lemon pith and orange blossom ...\n",
       "3        US  Much like the regular bottling from 2012, this...\n",
       "4     Spain  Blackberry and raspberry aromas show a typical..."
      ]
     },
     "execution_count": 17,
     "metadata": {},
     "output_type": "execute_result"
    }
   ],
   "source": [
    "data = data.filter([\"country\", \"description\"], axis = 1)\n",
    "data.head()"
   ]
  },
  {
   "cell_type": "code",
   "execution_count": 18,
   "metadata": {},
   "outputs": [
    {
     "data": {
      "text/plain": [
       "array(['Portugal', 'US', 'Spain', 'Italy', 'France', 'Germany',\n",
       "       'Argentina', 'Chile', 'Australia', 'Austria', 'South Africa',\n",
       "       'New Zealand', 'Israel', 'Hungary', 'Greece', 'Romania', 'Mexico',\n",
       "       'Canada', 'Turkey', 'Czech Republic', 'Slovenia', 'Luxembourg',\n",
       "       'Croatia', 'Georgia', 'Uruguay', 'England', 'Lebanon', 'Serbia',\n",
       "       'Brazil', 'Moldova', 'Morocco', 'Peru', 'India', 'Bulgaria',\n",
       "       'Cyprus', 'Armenia', 'Switzerland', 'Bosnia and Herzegovina',\n",
       "       'Ukraine', 'Slovakia', 'Macedonia', 'China', 'Kosovo', 'Global'],\n",
       "      dtype=object)"
      ]
     },
     "execution_count": 18,
     "metadata": {},
     "output_type": "execute_result"
    }
   ],
   "source": [
    "#look at the unique countries\n",
    "data['country'].unique()"
   ]
  },
  {
   "cell_type": "code",
   "execution_count": 19,
   "metadata": {},
   "outputs": [
    {
     "data": {
      "text/plain": [
       "US                        70956\n",
       "Italy                     31757\n",
       "France                    26183\n",
       "Spain                      8609\n",
       "Portugal                   6913\n",
       "Chile                      5284\n",
       "Argentina                  4567\n",
       "Austria                    3866\n",
       "Australia                  3148\n",
       "Germany                    2917\n",
       "New Zealand                1935\n",
       "South Africa               1582\n",
       "Israel                      689\n",
       "Greece                      566\n",
       "Canada                      336\n",
       "Uruguay                     228\n",
       "Bulgaria                    202\n",
       "Hungary                     187\n",
       "Romania                     143\n",
       "England                     123\n",
       "Georgia                     113\n",
       "Turkey                      107\n",
       "Moldova                     100\n",
       "Croatia                      85\n",
       "Slovenia                     84\n",
       "Brazil                       73\n",
       "Mexico                       73\n",
       "Lebanon                      35\n",
       "Morocco                      34\n",
       "Switzerland                  20\n",
       "Peru                         17\n",
       "Ukraine                      17\n",
       "Kosovo                       16\n",
       "Luxembourg                   16\n",
       "Czech Republic               14\n",
       "Cyprus                       12\n",
       "Serbia                       12\n",
       "Macedonia                    12\n",
       "India                         9\n",
       "Armenia                       7\n",
       "China                         6\n",
       "Bosnia and Herzegovina        3\n",
       "Global                        2\n",
       "Slovakia                      1\n",
       "Name: country, dtype: int64"
      ]
     },
     "execution_count": 19,
     "metadata": {},
     "output_type": "execute_result"
    }
   ],
   "source": [
    "#look at the country balance\n",
    "data['country'].value_counts()"
   ]
  },
  {
   "cell_type": "code",
   "execution_count": 20,
   "metadata": {},
   "outputs": [
    {
     "data": {
      "text/html": [
       "<div>\n",
       "<style scoped>\n",
       "    .dataframe tbody tr th:only-of-type {\n",
       "        vertical-align: middle;\n",
       "    }\n",
       "\n",
       "    .dataframe tbody tr th {\n",
       "        vertical-align: top;\n",
       "    }\n",
       "\n",
       "    .dataframe thead th {\n",
       "        text-align: right;\n",
       "    }\n",
       "</style>\n",
       "<table border=\"1\" class=\"dataframe\">\n",
       "  <thead>\n",
       "    <tr style=\"text-align: right;\">\n",
       "      <th></th>\n",
       "      <th>country</th>\n",
       "      <th>description</th>\n",
       "      <th>length</th>\n",
       "    </tr>\n",
       "  </thead>\n",
       "  <tbody>\n",
       "    <tr>\n",
       "      <th>0</th>\n",
       "      <td>Portugal</td>\n",
       "      <td>This is ripe and fruity, a wine that is smooth...</td>\n",
       "      <td>227</td>\n",
       "    </tr>\n",
       "    <tr>\n",
       "      <th>1</th>\n",
       "      <td>US</td>\n",
       "      <td>Tart and snappy, the flavors of lime flesh and...</td>\n",
       "      <td>186</td>\n",
       "    </tr>\n",
       "    <tr>\n",
       "      <th>2</th>\n",
       "      <td>US</td>\n",
       "      <td>Pineapple rind, lemon pith and orange blossom ...</td>\n",
       "      <td>199</td>\n",
       "    </tr>\n",
       "    <tr>\n",
       "      <th>3</th>\n",
       "      <td>US</td>\n",
       "      <td>Much like the regular bottling from 2012, this...</td>\n",
       "      <td>249</td>\n",
       "    </tr>\n",
       "    <tr>\n",
       "      <th>4</th>\n",
       "      <td>Spain</td>\n",
       "      <td>Blackberry and raspberry aromas show a typical...</td>\n",
       "      <td>261</td>\n",
       "    </tr>\n",
       "  </tbody>\n",
       "</table>\n",
       "</div>"
      ],
      "text/plain": [
       "    country                                        description  length\n",
       "0  Portugal  This is ripe and fruity, a wine that is smooth...     227\n",
       "1        US  Tart and snappy, the flavors of lime flesh and...     186\n",
       "2        US  Pineapple rind, lemon pith and orange blossom ...     199\n",
       "3        US  Much like the regular bottling from 2012, this...     249\n",
       "4     Spain  Blackberry and raspberry aromas show a typical...     261"
      ]
     },
     "execution_count": 20,
     "metadata": {},
     "output_type": "execute_result"
    }
   ],
   "source": [
    "data['length'] = data['description'].apply(lambda x: len(x))\n",
    "data.head()"
   ]
  },
  {
   "cell_type": "code",
   "execution_count": 21,
   "metadata": {},
   "outputs": [
    {
     "data": {
      "text/plain": [
       "country        object\n",
       "description    object\n",
       "length          int64\n",
       "dtype: object"
      ]
     },
     "execution_count": 21,
     "metadata": {},
     "output_type": "execute_result"
    }
   ],
   "source": [
    "data.dtypes\n"
   ]
  },
  {
   "cell_type": "code",
   "execution_count": 22,
   "metadata": {},
   "outputs": [],
   "source": [
    "X=data['description']\n",
    "y=data['country']\n",
    "\n",
    "X_train, X_test, y_train, y_test = train_test_split(X,y, test_size=0.2, random_state=42)"
   ]
  },
  {
   "cell_type": "code",
   "execution_count": null,
   "metadata": {},
   "outputs": [],
   "source": [
    "### Linear Regression   --   maybe not approp --  dnf"
   ]
  },
  {
   "cell_type": "raw",
   "metadata": {},
   "source": [
    "%%time\n",
    "\n",
    "# Linear Regression....  eval\n",
    "\n",
    "test_model = make_pipeline(\n",
    "   CountVectorizer(strip_accents='ascii',\n",
    "                   stop_words='english',\n",
    "                   ngram_range=(3,5),\n",
    "                   analyzer='char_wb',\n",
    "                   min_df=3),\n",
    "   LinearRegression()\n",
    ")\n",
    "\n",
    "test_model.fit(X_train, y_train)\n",
    "\n",
    "print(f'Accuracy: {test_model.score(X_test, y_test)} \\n')\n",
    "print(classification_report(y_test, test_model.predict(X_test)))"
   ]
  },
  {
   "cell_type": "markdown",
   "metadata": {},
   "source": [
    "## Modeling"
   ]
  },
  {
   "cell_type": "markdown",
   "metadata": {},
   "source": [
    "### Categorical Naive Bayes"
   ]
  },
  {
   "cell_type": "code",
   "execution_count": 23,
   "metadata": {},
   "outputs": [
    {
     "name": "stdout",
     "output_type": "stream",
     "text": [
      "Accuracy: 0.8246813983397638 \n",
      "\n"
     ]
    },
    {
     "name": "stderr",
     "output_type": "stream",
     "text": [
      "/Users/Eric/anaconda3/lib/python3.7/site-packages/sklearn/metrics/classification.py:1143: UndefinedMetricWarning: Precision and F-score are ill-defined and being set to 0.0 in labels with no predicted samples.\n",
      "  'precision', 'predicted', average, warn_for)\n"
     ]
    },
    {
     "name": "stdout",
     "output_type": "stream",
     "text": [
      "                        precision    recall  f1-score   support\n",
      "\n",
      "             Argentina       0.70      0.35      0.47       954\n",
      "               Armenia       0.00      0.00      0.00         3\n",
      "             Australia       0.66      0.52      0.58       610\n",
      "               Austria       0.51      0.74      0.60       760\n",
      "Bosnia and Herzegovina       0.00      0.00      0.00         2\n",
      "                Brazil       0.00      0.00      0.00        12\n",
      "              Bulgaria       0.00      0.00      0.00        44\n",
      "                Canada       1.00      0.02      0.03        63\n",
      "                 Chile       0.62      0.47      0.54       996\n",
      "                 China       0.00      0.00      0.00         2\n",
      "               Croatia       0.00      0.00      0.00        15\n",
      "        Czech Republic       0.00      0.00      0.00         2\n",
      "               England       0.00      0.00      0.00        22\n",
      "                France       0.82      0.79      0.80      5277\n",
      "               Georgia       0.00      0.00      0.00        25\n",
      "               Germany       0.54      0.82      0.65       540\n",
      "                Greece       0.90      0.17      0.29       110\n",
      "               Hungary       0.00      0.00      0.00        40\n",
      "                 India       0.00      0.00      0.00         2\n",
      "                Israel       0.73      0.20      0.31       123\n",
      "                 Italy       0.99      0.88      0.93      6373\n",
      "                Kosovo       0.00      0.00      0.00         4\n",
      "               Lebanon       0.00      0.00      0.00         7\n",
      "            Luxembourg       0.00      0.00      0.00         2\n",
      "             Macedonia       0.00      0.00      0.00         4\n",
      "                Mexico       0.00      0.00      0.00        19\n",
      "               Moldova       0.00      0.00      0.00        25\n",
      "               Morocco       0.00      0.00      0.00         4\n",
      "           New Zealand       0.79      0.39      0.53       379\n",
      "                  Peru       0.00      0.00      0.00         4\n",
      "              Portugal       0.85      0.60      0.71      1374\n",
      "               Romania       0.00      0.00      0.00        25\n",
      "                Serbia       0.00      0.00      0.00         5\n",
      "              Slovenia       0.00      0.00      0.00        16\n",
      "          South Africa       0.63      0.40      0.49       330\n",
      "                 Spain       0.60      0.88      0.71      1708\n",
      "           Switzerland       0.00      0.00      0.00         6\n",
      "                Turkey       0.00      0.00      0.00        23\n",
      "                    US       0.86      0.96      0.91     14258\n",
      "               Ukraine       0.00      0.00      0.00         4\n",
      "               Uruguay       0.00      0.00      0.00        40\n",
      "\n",
      "             micro avg       0.82      0.82      0.82     34212\n",
      "             macro avg       0.27      0.20      0.21     34212\n",
      "          weighted avg       0.82      0.82      0.81     34212\n",
      "\n",
      "CPU times: user 17.4 s, sys: 340 ms, total: 17.7 s\n",
      "Wall time: 13.6 s\n"
     ]
    }
   ],
   "source": [
    "%%time\n",
    "\n",
    "naive_bayes = make_pipeline(\n",
    "    CountVectorizer(stop_words='english', binary=True),\n",
    "    MultinomialNB()\n",
    ")\n",
    "\n",
    "naive_bayes.fit(X_train, y_train)\n",
    "\n",
    "print(f'Accuracy: {naive_bayes.score(X_test, y_test)} \\n')\n",
    "print(classification_report(y_test, naive_bayes.predict(X_test)))"
   ]
  },
  {
   "cell_type": "markdown",
   "metadata": {},
   "source": [
    "### didnt wait--Gaussian Naive Bayes"
   ]
  },
  {
   "cell_type": "raw",
   "metadata": {},
   "source": [
    "%%time\n",
    "\n",
    "gaussian_naive_bayes = make_pipeline(\n",
    "    CountVectorizer(stop_words='english'),\n",
    "    TfidfTransformer(),\n",
    "    DenseTransformer(),    \n",
    "    GaussianNB()\n",
    ")\n",
    "\n",
    "gaussian_naive_bayes.fit(X_train, y_train)\n",
    "\n",
    "print(f'Accuracy: {gaussian_naive_bayes.score(X_test, y_test)} \\n')\n",
    "print(classification_report(y_test, gaussian_naive_bayes.predict(X_test)))"
   ]
  },
  {
   "cell_type": "markdown",
   "metadata": {},
   "source": [
    "### Categorical Bigram Naive Bayes"
   ]
  },
  {
   "cell_type": "code",
   "execution_count": 31,
   "metadata": {},
   "outputs": [
    {
     "name": "stdout",
     "output_type": "stream",
     "text": [
      "Accuracy: 0.7947503799836315 \n",
      "\n"
     ]
    },
    {
     "name": "stderr",
     "output_type": "stream",
     "text": [
      "/Users/Eric/anaconda3/lib/python3.7/site-packages/sklearn/metrics/classification.py:1143: UndefinedMetricWarning: Precision and F-score are ill-defined and being set to 0.0 in labels with no predicted samples.\n",
      "  'precision', 'predicted', average, warn_for)\n"
     ]
    },
    {
     "name": "stdout",
     "output_type": "stream",
     "text": [
      "                        precision    recall  f1-score   support\n",
      "\n",
      "             Argentina       0.97      0.08      0.14       954\n",
      "               Armenia       0.00      0.00      0.00         3\n",
      "             Australia       1.00      0.05      0.09       610\n",
      "               Austria       0.94      0.27      0.42       760\n",
      "Bosnia and Herzegovina       0.00      0.00      0.00         2\n",
      "                Brazil       0.00      0.00      0.00        12\n",
      "              Bulgaria       0.00      0.00      0.00        44\n",
      "                Canada       0.00      0.00      0.00        63\n",
      "                 Chile       0.89      0.20      0.33       996\n",
      "                 China       0.00      0.00      0.00         2\n",
      "               Croatia       0.00      0.00      0.00        15\n",
      "        Czech Republic       0.00      0.00      0.00         2\n",
      "               England       0.00      0.00      0.00        22\n",
      "                France       0.75      0.90      0.82      5277\n",
      "               Georgia       0.00      0.00      0.00        25\n",
      "               Germany       0.84      0.39      0.54       540\n",
      "                Greece       0.00      0.00      0.00       110\n",
      "               Hungary       0.00      0.00      0.00        40\n",
      "                 India       0.00      0.00      0.00         2\n",
      "                Israel       1.00      0.01      0.02       123\n",
      "                 Italy       1.00      0.91      0.95      6373\n",
      "                Kosovo       0.00      0.00      0.00         4\n",
      "               Lebanon       0.00      0.00      0.00         7\n",
      "            Luxembourg       0.00      0.00      0.00         2\n",
      "             Macedonia       0.00      0.00      0.00         4\n",
      "                Mexico       0.00      0.00      0.00        19\n",
      "               Moldova       0.00      0.00      0.00        25\n",
      "               Morocco       0.00      0.00      0.00         4\n",
      "           New Zealand       1.00      0.02      0.05       379\n",
      "                  Peru       0.00      0.00      0.00         4\n",
      "              Portugal       1.00      0.23      0.38      1374\n",
      "               Romania       0.00      0.00      0.00        25\n",
      "                Serbia       0.00      0.00      0.00         5\n",
      "              Slovenia       0.00      0.00      0.00        16\n",
      "          South Africa       0.00      0.00      0.00       330\n",
      "                 Spain       0.55      0.81      0.66      1708\n",
      "           Switzerland       0.00      0.00      0.00         6\n",
      "                Turkey       0.00      0.00      0.00        23\n",
      "                    US       0.77      1.00      0.87     14258\n",
      "               Ukraine       0.00      0.00      0.00         4\n",
      "               Uruguay       0.00      0.00      0.00        40\n",
      "\n",
      "             micro avg       0.79      0.79      0.79     34212\n",
      "             macro avg       0.26      0.12      0.13     34212\n",
      "          weighted avg       0.81      0.79      0.75     34212\n",
      "\n",
      "CPU times: user 32.3 s, sys: 2.05 s, total: 34.3 s\n",
      "Wall time: 29 s\n"
     ]
    }
   ],
   "source": [
    "%%time\n",
    "\n",
    "bigram_naive_bayes = make_pipeline(\n",
    "    CountVectorizer(\n",
    "        stop_words='english',\n",
    "        binary=True,\n",
    "        ngram_range=(1, 2)\n",
    "    ),\n",
    "    MultinomialNB()\n",
    ")\n",
    "\n",
    "bigram_naive_bayes.fit(X_train, y_train)\n",
    "\n",
    "print(f'Accuracy: {bigram_naive_bayes.score(X_test, y_test)} \\n')\n",
    "print(classification_report(y_test, bigram_naive_bayes.predict(X_test)))"
   ]
  },
  {
   "cell_type": "markdown",
   "metadata": {},
   "source": [
    "### Word Count Logistic Regression"
   ]
  },
  {
   "cell_type": "code",
   "execution_count": 30,
   "metadata": {},
   "outputs": [
    {
     "name": "stdout",
     "output_type": "stream",
     "text": [
      "Accuracy: 0.8462527768034608 \n",
      "\n",
      "                        precision    recall  f1-score   support\n",
      "\n",
      "             Argentina       0.75      0.39      0.51       954\n",
      "               Armenia       0.00      0.00      0.00         3\n",
      "             Australia       0.74      0.48      0.59       610\n",
      "               Austria       0.80      0.60      0.69       760\n",
      "Bosnia and Herzegovina       0.00      0.00      0.00         2\n",
      "                Brazil       0.00      0.00      0.00        12\n",
      "              Bulgaria       0.71      0.11      0.20        44\n",
      "                Canada       0.00      0.00      0.00        63\n",
      "                 Chile       0.64      0.52      0.57       996\n",
      "                 China       0.00      0.00      0.00         2\n",
      "               Croatia       0.00      0.00      0.00        15\n",
      "        Czech Republic       0.00      0.00      0.00         2\n",
      "               England       0.00      0.00      0.00        22\n",
      "                France       0.79      0.88      0.83      5277\n",
      "               Georgia       0.00      0.00      0.00        25\n",
      "               Germany       0.73      0.62      0.67       540\n",
      "                Greece       0.75      0.41      0.53       110\n",
      "               Hungary       0.88      0.17      0.29        40\n",
      "                 India       0.00      0.00      0.00         2\n",
      "                Israel       0.63      0.37      0.47       123\n",
      "                 Italy       0.97      0.96      0.97      6373\n",
      "                Kosovo       0.00      0.00      0.00         4\n",
      "               Lebanon       0.00      0.00      0.00         7\n",
      "            Luxembourg       0.00      0.00      0.00         2\n",
      "             Macedonia       0.00      0.00      0.00         4\n",
      "                Mexico       0.00      0.00      0.00        19\n",
      "               Moldova       0.00      0.00      0.00        25\n",
      "               Morocco       0.00      0.00      0.00         4\n",
      "           New Zealand       0.79      0.36      0.49       379\n",
      "                  Peru       0.00      0.00      0.00         4\n",
      "              Portugal       0.92      0.45      0.60      1374\n",
      "               Romania       0.00      0.00      0.00        25\n",
      "                Serbia       0.00      0.00      0.00         5\n",
      "              Slovenia       0.00      0.00      0.00        16\n",
      "          South Africa       0.65      0.44      0.53       330\n",
      "                 Spain       0.68      0.79      0.73      1708\n",
      "           Switzerland       0.00      0.00      0.00         6\n",
      "                Turkey       0.00      0.00      0.00        23\n",
      "                    US       0.86      0.97      0.91     14258\n",
      "               Ukraine       0.00      0.00      0.00         4\n",
      "               Uruguay       0.83      0.12      0.22        40\n",
      "\n",
      "             micro avg       0.85      0.85      0.85     34212\n",
      "             macro avg       0.32      0.21      0.24     34212\n",
      "          weighted avg       0.84      0.85      0.83     34212\n",
      "\n",
      "CPU times: user 6min 2s, sys: 1.2 s, total: 6min 3s\n",
      "Wall time: 1min 39s\n"
     ]
    }
   ],
   "source": [
    "%%time\n",
    "\n",
    "normalized_lr = make_pipeline(\n",
    "    CountVectorizer(stop_words='english'),\n",
    "    Normalizer(),\n",
    "    LogisticRegression()\n",
    ")\n",
    "\n",
    "normalized_lr.fit(X_train, y_train)\n",
    "\n",
    "print(f'Accuracy: {normalized_lr.score(X_test, y_test)} \\n')\n",
    "print(classification_report(y_test, normalized_lr.predict(X_test)))"
   ]
  },
  {
   "cell_type": "markdown",
   "metadata": {},
   "source": [
    "### TF-IDF Logistic Regression Model"
   ]
  },
  {
   "cell_type": "code",
   "execution_count": 29,
   "metadata": {},
   "outputs": [
    {
     "name": "stdout",
     "output_type": "stream",
     "text": [
      "Accuracy: 0.8575353677072373 \n",
      "\n",
      "                        precision    recall  f1-score   support\n",
      "\n",
      "             Argentina       0.75      0.42      0.54       954\n",
      "               Armenia       0.00      0.00      0.00         3\n",
      "             Australia       0.78      0.52      0.62       610\n",
      "               Austria       0.82      0.64      0.72       760\n",
      "Bosnia and Herzegovina       0.00      0.00      0.00         2\n",
      "                Brazil       0.00      0.00      0.00        12\n",
      "              Bulgaria       0.77      0.23      0.35        44\n",
      "                Canada       0.00      0.00      0.00        63\n",
      "                 Chile       0.62      0.54      0.58       996\n",
      "                 China       0.00      0.00      0.00         2\n",
      "               Croatia       0.00      0.00      0.00        15\n",
      "        Czech Republic       0.00      0.00      0.00         2\n",
      "               England       0.00      0.00      0.00        22\n",
      "                France       0.81      0.89      0.84      5277\n",
      "               Georgia       1.00      0.04      0.08        25\n",
      "               Germany       0.77      0.65      0.70       540\n",
      "                Greece       0.78      0.45      0.57       110\n",
      "               Hungary       1.00      0.25      0.40        40\n",
      "                 India       0.00      0.00      0.00         2\n",
      "                Israel       0.61      0.41      0.50       123\n",
      "                 Italy       0.98      0.97      0.97      6373\n",
      "                Kosovo       0.00      0.00      0.00         4\n",
      "               Lebanon       0.00      0.00      0.00         7\n",
      "            Luxembourg       0.00      0.00      0.00         2\n",
      "             Macedonia       0.00      0.00      0.00         4\n",
      "                Mexico       0.00      0.00      0.00        19\n",
      "               Moldova       1.00      0.04      0.08        25\n",
      "               Morocco       0.00      0.00      0.00         4\n",
      "           New Zealand       0.83      0.40      0.54       379\n",
      "                  Peru       0.00      0.00      0.00         4\n",
      "              Portugal       0.94      0.51      0.66      1374\n",
      "               Romania       0.50      0.04      0.07        25\n",
      "                Serbia       0.00      0.00      0.00         5\n",
      "              Slovenia       1.00      0.06      0.12        16\n",
      "          South Africa       0.70      0.47      0.56       330\n",
      "                 Spain       0.70      0.78      0.73      1708\n",
      "           Switzerland       0.00      0.00      0.00         6\n",
      "                Turkey       0.00      0.00      0.00        23\n",
      "                    US       0.87      0.98      0.92     14258\n",
      "               Ukraine       0.00      0.00      0.00         4\n",
      "               Uruguay       0.92      0.30      0.45        40\n",
      "\n",
      "             micro avg       0.86      0.86      0.86     34212\n",
      "             macro avg       0.42      0.23      0.27     34212\n",
      "          weighted avg       0.85      0.86      0.85     34212\n",
      "\n",
      "CPU times: user 5min 38s, sys: 1.19 s, total: 5min 39s\n",
      "Wall time: 1min 34s\n"
     ]
    }
   ],
   "source": [
    "%%time\n",
    "\n",
    "# TF-IDF Logistic Regression Model\n",
    "\n",
    "tfidf_logistic_regression = make_pipeline(\n",
    "   CountVectorizer(strip_accents='ascii',\n",
    "                   stop_words='english'),\n",
    "   TfidfTransformer(),\n",
    "   LogisticRegression(),\n",
    "   \n",
    "   \n",
    ")\n",
    "\n",
    "tfidf_logistic_regression.fit(X_train, y_train)\n",
    "\n",
    "print(f'Accuracy: {tfidf_logistic_regression.score(X_test, y_test)} \\n')\n",
    "print(classification_report(y_test, tfidf_logistic_regression.predict(X_test)))"
   ]
  },
  {
   "cell_type": "markdown",
   "metadata": {},
   "source": [
    "### Normalized Word Count Logistic Regression"
   ]
  },
  {
   "cell_type": "code",
   "execution_count": 28,
   "metadata": {},
   "outputs": [
    {
     "name": "stdout",
     "output_type": "stream",
     "text": [
      "Accuracy: 0.8462527768034608 \n",
      "\n",
      "                        precision    recall  f1-score   support\n",
      "\n",
      "             Argentina       0.75      0.39      0.51       954\n",
      "               Armenia       0.00      0.00      0.00         3\n",
      "             Australia       0.74      0.48      0.59       610\n",
      "               Austria       0.80      0.60      0.69       760\n",
      "Bosnia and Herzegovina       0.00      0.00      0.00         2\n",
      "                Brazil       0.00      0.00      0.00        12\n",
      "              Bulgaria       0.71      0.11      0.20        44\n",
      "                Canada       0.00      0.00      0.00        63\n",
      "                 Chile       0.64      0.52      0.57       996\n",
      "                 China       0.00      0.00      0.00         2\n",
      "               Croatia       0.00      0.00      0.00        15\n",
      "        Czech Republic       0.00      0.00      0.00         2\n",
      "               England       0.00      0.00      0.00        22\n",
      "                France       0.79      0.88      0.83      5277\n",
      "               Georgia       0.00      0.00      0.00        25\n",
      "               Germany       0.73      0.62      0.67       540\n",
      "                Greece       0.75      0.41      0.53       110\n",
      "               Hungary       0.88      0.17      0.29        40\n",
      "                 India       0.00      0.00      0.00         2\n",
      "                Israel       0.63      0.37      0.47       123\n",
      "                 Italy       0.97      0.96      0.97      6373\n",
      "                Kosovo       0.00      0.00      0.00         4\n",
      "               Lebanon       0.00      0.00      0.00         7\n",
      "            Luxembourg       0.00      0.00      0.00         2\n",
      "             Macedonia       0.00      0.00      0.00         4\n",
      "                Mexico       0.00      0.00      0.00        19\n",
      "               Moldova       0.00      0.00      0.00        25\n",
      "               Morocco       0.00      0.00      0.00         4\n",
      "           New Zealand       0.79      0.36      0.49       379\n",
      "                  Peru       0.00      0.00      0.00         4\n",
      "              Portugal       0.92      0.45      0.60      1374\n",
      "               Romania       0.00      0.00      0.00        25\n",
      "                Serbia       0.00      0.00      0.00         5\n",
      "              Slovenia       0.00      0.00      0.00        16\n",
      "          South Africa       0.65      0.44      0.53       330\n",
      "                 Spain       0.68      0.79      0.73      1708\n",
      "           Switzerland       0.00      0.00      0.00         6\n",
      "                Turkey       0.00      0.00      0.00        23\n",
      "                    US       0.86      0.97      0.91     14258\n",
      "               Ukraine       0.00      0.00      0.00         4\n",
      "               Uruguay       0.83      0.12      0.22        40\n",
      "\n",
      "             micro avg       0.85      0.85      0.85     34212\n",
      "             macro avg       0.32      0.21      0.24     34212\n",
      "          weighted avg       0.84      0.85      0.83     34212\n",
      "\n",
      "CPU times: user 6min 14s, sys: 1.27 s, total: 6min 15s\n",
      "Wall time: 1min 43s\n"
     ]
    }
   ],
   "source": [
    "%%time\n",
    "\n",
    "normalized_lr = make_pipeline(\n",
    "    CountVectorizer(stop_words='english'),\n",
    "    Normalizer(),\n",
    "    LogisticRegression()\n",
    ")\n",
    "\n",
    "normalized_lr.fit(X_train, y_train)\n",
    "\n",
    "print(f'Accuracy: {normalized_lr.score(X_test, y_test)} \\n')\n",
    "print(classification_report(y_test, normalized_lr.predict(X_test)))"
   ]
  },
  {
   "cell_type": "markdown",
   "metadata": {},
   "source": [
    "### Bigram TF-IDF Logistic Regression"
   ]
  },
  {
   "cell_type": "code",
   "execution_count": 27,
   "metadata": {},
   "outputs": [
    {
     "name": "stdout",
     "output_type": "stream",
     "text": [
      "Accuracy: 0.8539985969835145 \n",
      "\n",
      "                        precision    recall  f1-score   support\n",
      "\n",
      "             Argentina       0.82      0.38      0.51       954\n",
      "               Armenia       0.00      0.00      0.00         3\n",
      "             Australia       0.82      0.44      0.58       610\n",
      "               Austria       0.86      0.59      0.70       760\n",
      "Bosnia and Herzegovina       0.00      0.00      0.00         2\n",
      "                Brazil       0.00      0.00      0.00        12\n",
      "              Bulgaria       0.75      0.07      0.12        44\n",
      "                Canada       0.00      0.00      0.00        63\n",
      "                 Chile       0.68      0.52      0.59       996\n",
      "                 China       0.00      0.00      0.00         2\n",
      "               Croatia       0.00      0.00      0.00        15\n",
      "        Czech Republic       0.00      0.00      0.00         2\n",
      "               England       0.00      0.00      0.00        22\n",
      "                France       0.80      0.90      0.85      5277\n",
      "               Georgia       0.00      0.00      0.00        25\n",
      "               Germany       0.78      0.62      0.69       540\n",
      "                Greece       0.71      0.23      0.34       110\n",
      "               Hungary       1.00      0.05      0.10        40\n",
      "                 India       0.00      0.00      0.00         2\n",
      "                Israel       0.68      0.37      0.48       123\n",
      "                 Italy       0.98      0.97      0.97      6373\n",
      "                Kosovo       0.00      0.00      0.00         4\n",
      "               Lebanon       0.00      0.00      0.00         7\n",
      "            Luxembourg       0.00      0.00      0.00         2\n",
      "             Macedonia       0.00      0.00      0.00         4\n",
      "                Mexico       0.00      0.00      0.00        19\n",
      "               Moldova       0.00      0.00      0.00        25\n",
      "               Morocco       0.00      0.00      0.00         4\n",
      "           New Zealand       0.87      0.32      0.46       379\n",
      "                  Peru       0.00      0.00      0.00         4\n",
      "              Portugal       0.94      0.46      0.61      1374\n",
      "               Romania       0.00      0.00      0.00        25\n",
      "                Serbia       0.00      0.00      0.00         5\n",
      "              Slovenia       0.00      0.00      0.00        16\n",
      "          South Africa       0.71      0.37      0.48       330\n",
      "                 Spain       0.66      0.82      0.73      1708\n",
      "           Switzerland       0.00      0.00      0.00         6\n",
      "                Turkey       0.00      0.00      0.00        23\n",
      "                    US       0.86      0.98      0.92     14258\n",
      "               Ukraine       0.00      0.00      0.00         4\n",
      "               Uruguay       0.00      0.00      0.00        40\n",
      "\n",
      "             micro avg       0.85      0.85      0.85     34212\n",
      "             macro avg       0.31      0.20      0.22     34212\n",
      "          weighted avg       0.85      0.85      0.84     34212\n",
      "\n",
      "CPU times: user 13min 52s, sys: 3.49 s, total: 13min 55s\n",
      "Wall time: 3min 48s\n"
     ]
    }
   ],
   "source": [
    "%%time\n",
    "\n",
    "bigram_tfidf_logistic_regression = make_pipeline(\n",
    "    CountVectorizer(\n",
    "        stop_words='english',\n",
    "        ngram_range=(1,2)\n",
    "    ),\n",
    "    TfidfTransformer(),\n",
    "    LogisticRegression()\n",
    ")\n",
    "\n",
    "bigram_tfidf_logistic_regression.fit(X_train, y_train)\n",
    "\n",
    "print(f'Accuracy: {bigram_tfidf_logistic_regression.score(X_test, y_test)} \\n')\n",
    "print(classification_report(y_test, bigram_tfidf_logistic_regression.predict(X_test)))"
   ]
  },
  {
   "cell_type": "markdown",
   "metadata": {},
   "source": [
    "###  TF-IDF Logistic Regression with Automatic Corpus Specific Stop Words"
   ]
  },
  {
   "cell_type": "code",
   "execution_count": 26,
   "metadata": {},
   "outputs": [
    {
     "name": "stderr",
     "output_type": "stream",
     "text": [
      "/Users/Eric/anaconda3/lib/python3.7/site-packages/sklearn/linear_model/logistic.py:433: FutureWarning: Default solver will be changed to 'lbfgs' in 0.22. Specify a solver to silence this warning.\n",
      "  FutureWarning)\n",
      "/Users/Eric/anaconda3/lib/python3.7/site-packages/sklearn/linear_model/logistic.py:460: FutureWarning: Default multi_class will be changed to 'auto' in 0.22. Specify the multi_class option to silence this warning.\n",
      "  \"this warning.\", FutureWarning)\n"
     ]
    },
    {
     "name": "stdout",
     "output_type": "stream",
     "text": [
      "Accuracy: 0.8578861218285981 \n",
      "\n",
      "                        precision    recall  f1-score   support\n",
      "\n",
      "             Argentina       0.75      0.42      0.54       954\n",
      "               Armenia       0.00      0.00      0.00         3\n",
      "             Australia       0.78      0.53      0.63       610\n",
      "               Austria       0.82      0.64      0.72       760\n",
      "Bosnia and Herzegovina       0.00      0.00      0.00         2\n",
      "                Brazil       0.00      0.00      0.00        12\n",
      "              Bulgaria       0.77      0.23      0.35        44\n",
      "                Canada       0.00      0.00      0.00        63\n",
      "                 Chile       0.63      0.54      0.58       996\n",
      "                 China       0.00      0.00      0.00         2\n",
      "               Croatia       0.00      0.00      0.00        15\n",
      "        Czech Republic       0.00      0.00      0.00         2\n",
      "               England       0.00      0.00      0.00        22\n",
      "                France       0.81      0.89      0.84      5277\n",
      "               Georgia       1.00      0.04      0.08        25\n",
      "               Germany       0.77      0.65      0.71       540\n",
      "                Greece       0.80      0.46      0.59       110\n",
      "               Hungary       1.00      0.28      0.43        40\n",
      "                 India       0.00      0.00      0.00         2\n",
      "                Israel       0.61      0.41      0.50       123\n",
      "                 Italy       0.98      0.96      0.97      6373\n",
      "                Kosovo       0.00      0.00      0.00         4\n",
      "               Lebanon       0.00      0.00      0.00         7\n",
      "            Luxembourg       0.00      0.00      0.00         2\n",
      "             Macedonia       0.00      0.00      0.00         4\n",
      "                Mexico       0.00      0.00      0.00        19\n",
      "               Moldova       1.00      0.04      0.08        25\n",
      "               Morocco       0.00      0.00      0.00         4\n",
      "           New Zealand       0.84      0.41      0.55       379\n",
      "                  Peru       0.00      0.00      0.00         4\n",
      "              Portugal       0.94      0.51      0.66      1374\n",
      "               Romania       0.50      0.04      0.07        25\n",
      "                Serbia       0.00      0.00      0.00         5\n",
      "              Slovenia       1.00      0.06      0.12        16\n",
      "          South Africa       0.68      0.48      0.56       330\n",
      "                 Spain       0.69      0.78      0.73      1708\n",
      "           Switzerland       0.00      0.00      0.00         6\n",
      "                Turkey       0.00      0.00      0.00        23\n",
      "                    US       0.87      0.98      0.92     14258\n",
      "               Ukraine       0.00      0.00      0.00         4\n",
      "               Uruguay       0.92      0.30      0.45        40\n",
      "\n",
      "             micro avg       0.86      0.86      0.86     34212\n",
      "             macro avg       0.42      0.24      0.27     34212\n",
      "          weighted avg       0.85      0.86      0.85     34212\n",
      "\n",
      "CPU times: user 5min 50s, sys: 1.88 s, total: 5min 52s\n",
      "Wall time: 1min 38s\n"
     ]
    }
   ],
   "source": [
    "%%time\n",
    "\n",
    "mindf_max_tfidf_lr = make_pipeline(\n",
    "    CountVectorizer(\n",
    "        stop_words='english',\n",
    "        min_df=2,\n",
    "        max_df=.9\n",
    "    ),\n",
    "    TfidfTransformer(),\n",
    "    LogisticRegression()\n",
    ")\n",
    "\n",
    "mindf_max_tfidf_lr.fit(X_train, y_train)\n",
    "\n",
    "print(f'Accuracy: {mindf_max_tfidf_lr.score(X_test, y_test)} \\n')\n",
    "print(classification_report(y_test, mindf_max_tfidf_lr.predict(X_test)))\n",
    "\n"
   ]
  },
  {
   "cell_type": "markdown",
   "metadata": {},
   "source": [
    "### caused reboot-Linear Discrete Analysis"
   ]
  },
  {
   "cell_type": "raw",
   "metadata": {},
   "source": [
    "%%time\n",
    "\n",
    "tfidf_lda = make_pipeline(\n",
    "    CountVectorizer(\n",
    "        stop_words='english',\n",
    "    ),\n",
    "    TfidfTransformer(),\n",
    "    DenseTransformer(),\n",
    "    LinearDiscriminantAnalysis()\n",
    ")\n",
    "\n",
    "tfidf_lda.fit(X_train, y_train)\n",
    "\n",
    "print(f'Accuracy: {tfidf_lda.score(X_test, y_test)} \\n')\n",
    "print(classification_report(y_test, tfidf_lda.predict(X_test)))"
   ]
  },
  {
   "cell_type": "markdown",
   "metadata": {},
   "source": [
    "### TF-IDF Linear SVC"
   ]
  },
  {
   "cell_type": "code",
   "execution_count": 38,
   "metadata": {},
   "outputs": [
    {
     "name": "stdout",
     "output_type": "stream",
     "text": [
      "Accuracy: 0.881942008651935 \n",
      "\n",
      "                        precision    recall  f1-score   support\n",
      "\n",
      "             Argentina       0.65      0.51      0.57       954\n",
      "               Armenia       1.00      0.67      0.80         3\n",
      "             Australia       0.80      0.66      0.72       610\n",
      "               Austria       0.81      0.73      0.77       760\n",
      "Bosnia and Herzegovina       0.00      0.00      0.00         2\n",
      "                Brazil       1.00      0.08      0.15        12\n",
      "              Bulgaria       0.83      0.57      0.68        44\n",
      "                Canada       0.67      0.13      0.21        63\n",
      "                 Chile       0.58      0.58      0.58       996\n",
      "                 China       1.00      1.00      1.00         2\n",
      "               Croatia       1.00      0.27      0.42        15\n",
      "        Czech Republic       0.00      0.00      0.00         2\n",
      "               England       0.79      0.50      0.61        22\n",
      "                France       0.83      0.90      0.86      5277\n",
      "               Georgia       1.00      0.36      0.53        25\n",
      "               Germany       0.79      0.76      0.78       540\n",
      "                Greece       0.88      0.70      0.78       110\n",
      "               Hungary       0.96      0.68      0.79        40\n",
      "                 India       1.00      0.50      0.67         2\n",
      "                Israel       0.71      0.55      0.62       123\n",
      "                 Italy       0.98      0.98      0.98      6373\n",
      "                Kosovo       1.00      0.25      0.40         4\n",
      "               Lebanon       1.00      0.43      0.60         7\n",
      "            Luxembourg       0.00      0.00      0.00         2\n",
      "             Macedonia       0.50      0.25      0.33         4\n",
      "                Mexico       1.00      0.05      0.10        19\n",
      "               Moldova       0.85      0.44      0.58        25\n",
      "               Morocco       1.00      0.50      0.67         4\n",
      "           New Zealand       0.84      0.62      0.71       379\n",
      "                  Peru       0.00      0.00      0.00         4\n",
      "              Portugal       0.90      0.60      0.72      1374\n",
      "               Romania       0.63      0.48      0.55        25\n",
      "                Serbia       1.00      0.60      0.75         5\n",
      "              Slovenia       0.88      0.44      0.58        16\n",
      "          South Africa       0.72      0.65      0.68       330\n",
      "                 Spain       0.72      0.77      0.75      1708\n",
      "           Switzerland       1.00      0.17      0.29         6\n",
      "                Turkey       0.67      0.26      0.38        23\n",
      "                    US       0.92      0.97      0.95     14258\n",
      "               Ukraine       0.00      0.00      0.00         4\n",
      "               Uruguay       0.85      0.57      0.69        40\n",
      "\n",
      "             micro avg       0.88      0.88      0.88     34212\n",
      "             macro avg       0.75      0.47      0.54     34212\n",
      "          weighted avg       0.88      0.88      0.88     34212\n",
      "\n",
      "CPU times: user 30.3 s, sys: 321 ms, total: 30.6 s\n",
      "Wall time: 28.4 s\n"
     ]
    }
   ],
   "source": [
    "%%time\n",
    "\n",
    "tfidf_svc = make_pipeline(\n",
    "    CountVectorizer(\n",
    "        stop_words='english',\n",
    "        #min_df = 2,      # ed\n",
    "        #max_df = .2      # ed\n",
    "    ),\n",
    "    TfidfTransformer(),\n",
    "    #DenseTransformer(),\n",
    "    LinearSVC()\n",
    ")\n",
    "\n",
    "tfidf_svc.fit(X_train, y_train)\n",
    "\n",
    "print(f'Accuracy: {tfidf_svc.score(X_test, y_test)} \\n')\n",
    "print(classification_report(y_test, tfidf_svc.predict(X_test)))"
   ]
  },
  {
   "cell_type": "markdown",
   "metadata": {},
   "source": [
    "### warnings--dnf   TF-IDF Logistic Lasso"
   ]
  },
  {
   "cell_type": "raw",
   "metadata": {},
   "source": [
    "%%time\n",
    "\n",
    "tfidf_logistic_regression_lasso = make_pipeline(\n",
    "    CountVectorizer(stop_words='english'),\n",
    "    TfidfTransformer(),\n",
    "    LogisticRegressionCV(\n",
    "        penalty='l1',\n",
    "        solver='saga' \n",
    "    )\n",
    ")\n",
    "\n",
    "tfidf_logistic_regression_lasso.fit(X_train, y_train)\n",
    "\n",
    "print(f'Accuracy: {tfidf_logistic_regression_lasso.score(X_test, y_test)} \\n')\n",
    "print(classification_report(y_test, tfidf_logistic_regression_lasso.predict(X_test)))"
   ]
  },
  {
   "cell_type": "markdown",
   "metadata": {},
   "source": [
    "### coef do not converge -- TF-IDF Logistic Ridge"
   ]
  },
  {
   "cell_type": "raw",
   "metadata": {},
   "source": [
    "%%time\n",
    "\n",
    "tfidf_logistic_regression_ridge = make_pipeline(\n",
    "    CountVectorizer(stop_words='english'),\n",
    "    TfidfTransformer(),\n",
    "    LogisticRegressionCV(\n",
    "        penalty='l2',\n",
    "        solver='saga' \n",
    "    )\n",
    ")\n",
    "\n",
    "tfidf_logistic_regression_ridge.fit(X_train, y_train)\n",
    "\n",
    "print(f'Accuracy: {tfidf_logistic_regression_ridge.score(X_test, y_test)} \\n')\n",
    "print(classification_report(y_test, tfidf_logistic_regression_ridge.predict(X_test)))"
   ]
  },
  {
   "cell_type": "markdown",
   "metadata": {},
   "source": [
    "### error-TF-IDF Logistic Elasticnet"
   ]
  },
  {
   "cell_type": "raw",
   "metadata": {},
   "source": [
    "%%time\n",
    "\n",
    "tfidf_logistic_regression_elasticnet = make_pipeline(\n",
    "    CountVectorizer(stop_words='english'),\n",
    "    TfidfTransformer(),\n",
    "    LogisticRegressionCV(\n",
    "        penalty='elasticnet',\n",
    "        l1_ratios=[0, .1, .2, .3, .4, .5, .6, .7, .8, .9, 1],\n",
    "        solver='saga' \n",
    "    )\n",
    ")\n",
    "\n",
    "tfidf_logistic_regression_elasticnet.fit(X_train, y_train)\n",
    "\n",
    "print(f'Accuracy: {tfidf_logistic_regression_elasticnet.score(X_test, y_test)} \\n')\n",
    "print(classification_report(y_test, tfidf_logistic_regression_elasticnet.predict(X_test)))"
   ]
  },
  {
   "cell_type": "code",
   "execution_count": null,
   "metadata": {},
   "outputs": [],
   "source": []
  },
  {
   "cell_type": "markdown",
   "metadata": {},
   "source": [
    "### Looking at Top 20 Countries with top 3 accurate Models from above full data set work"
   ]
  },
  {
   "cell_type": "code",
   "execution_count": 39,
   "metadata": {},
   "outputs": [
    {
     "data": {
      "text/plain": [
       "US              70956\n",
       "Italy           31757\n",
       "France          26183\n",
       "Spain            8609\n",
       "Portugal         6913\n",
       "Chile            5284\n",
       "Argentina        4567\n",
       "Austria          3866\n",
       "Australia        3148\n",
       "Germany          2917\n",
       "New Zealand      1935\n",
       "South Africa     1582\n",
       "Israel            689\n",
       "Greece            566\n",
       "Canada            336\n",
       "Uruguay           228\n",
       "Bulgaria          202\n",
       "Hungary           187\n",
       "Romania           143\n",
       "England           123\n",
       "Name: country, dtype: int64"
      ]
     },
     "execution_count": 39,
     "metadata": {},
     "output_type": "execute_result"
    }
   ],
   "source": [
    "# use Counter to get the top 20 wine countries\n",
    "\n",
    "counter = Counter(data['country'].tolist())\n",
    "top_20_countries = {i[0]: idx for idx, i in enumerate(counter.most_common(20))}\n",
    "top20_countries_data = data[data['country'].map(lambda x: x in top_20_countries)]\n",
    "\n",
    "top20_countries_data['country'].value_counts()"
   ]
  },
  {
   "cell_type": "code",
   "execution_count": 41,
   "metadata": {},
   "outputs": [
    {
     "data": {
      "text/html": [
       "<div>\n",
       "<style scoped>\n",
       "    .dataframe tbody tr th:only-of-type {\n",
       "        vertical-align: middle;\n",
       "    }\n",
       "\n",
       "    .dataframe tbody tr th {\n",
       "        vertical-align: top;\n",
       "    }\n",
       "\n",
       "    .dataframe thead th {\n",
       "        text-align: right;\n",
       "    }\n",
       "</style>\n",
       "<table border=\"1\" class=\"dataframe\">\n",
       "  <thead>\n",
       "    <tr style=\"text-align: right;\">\n",
       "      <th></th>\n",
       "      <th>country</th>\n",
       "      <th>description</th>\n",
       "    </tr>\n",
       "  </thead>\n",
       "  <tbody>\n",
       "    <tr>\n",
       "      <th>0</th>\n",
       "      <td>Portugal</td>\n",
       "      <td>This is ripe and fruity, a wine that is smooth...</td>\n",
       "    </tr>\n",
       "    <tr>\n",
       "      <th>1</th>\n",
       "      <td>US</td>\n",
       "      <td>Tart and snappy, the flavors of lime flesh and...</td>\n",
       "    </tr>\n",
       "    <tr>\n",
       "      <th>2</th>\n",
       "      <td>US</td>\n",
       "      <td>Pineapple rind, lemon pith and orange blossom ...</td>\n",
       "    </tr>\n",
       "    <tr>\n",
       "      <th>3</th>\n",
       "      <td>US</td>\n",
       "      <td>Much like the regular bottling from 2012, this...</td>\n",
       "    </tr>\n",
       "    <tr>\n",
       "      <th>4</th>\n",
       "      <td>Spain</td>\n",
       "      <td>Blackberry and raspberry aromas show a typical...</td>\n",
       "    </tr>\n",
       "  </tbody>\n",
       "</table>\n",
       "</div>"
      ],
      "text/plain": [
       "    country                                        description\n",
       "0  Portugal  This is ripe and fruity, a wine that is smooth...\n",
       "1        US  Tart and snappy, the flavors of lime flesh and...\n",
       "2        US  Pineapple rind, lemon pith and orange blossom ...\n",
       "3        US  Much like the regular bottling from 2012, this...\n",
       "4     Spain  Blackberry and raspberry aromas show a typical..."
      ]
     },
     "execution_count": 41,
     "metadata": {},
     "output_type": "execute_result"
    }
   ],
   "source": [
    "# filter out all extraneaous columns\n",
    "\n",
    "df = top20_countries_data.filter([\"country\", \"description\"], axis = 1)\n",
    "df.head()"
   ]
  },
  {
   "cell_type": "code",
   "execution_count": 43,
   "metadata": {},
   "outputs": [
    {
     "data": {
      "text/plain": [
       "country        170191\n",
       "description    170191\n",
       "dtype: int64"
      ]
     },
     "execution_count": 43,
     "metadata": {},
     "output_type": "execute_result"
    }
   ],
   "source": [
    "df.count()"
   ]
  },
  {
   "cell_type": "code",
   "execution_count": 45,
   "metadata": {},
   "outputs": [],
   "source": [
    "# split the dataset into training and testing datasets\n",
    "\n",
    "X=df['description']\n",
    "y=df['country']\n",
    "\n",
    "X_train, X_test, y_train, y_test = train_test_split(X,y, test_size=0.2, random_state=42)"
   ]
  },
  {
   "cell_type": "markdown",
   "metadata": {},
   "source": [
    "### TF-IDF Logistic Regression Model:  Pvs Accuracy: 0.8575353677072373  <<<<<<<<  #3\n"
   ]
  },
  {
   "cell_type": "code",
   "execution_count": 46,
   "metadata": {},
   "outputs": [
    {
     "name": "stderr",
     "output_type": "stream",
     "text": [
      "/Users/Eric/anaconda3/lib/python3.7/site-packages/sklearn/linear_model/logistic.py:433: FutureWarning: Default solver will be changed to 'lbfgs' in 0.22. Specify a solver to silence this warning.\n",
      "  FutureWarning)\n",
      "/Users/Eric/anaconda3/lib/python3.7/site-packages/sklearn/linear_model/logistic.py:460: FutureWarning: Default multi_class will be changed to 'auto' in 0.22. Specify the multi_class option to silence this warning.\n",
      "  \"this warning.\", FutureWarning)\n"
     ]
    },
    {
     "name": "stdout",
     "output_type": "stream",
     "text": [
      "Accuracy: 0.8621581127530186 \n",
      "\n",
      "              precision    recall  f1-score   support\n",
      "\n",
      "   Argentina       0.68      0.41      0.51       893\n",
      "   Australia       0.74      0.47      0.58       606\n",
      "     Austria       0.82      0.62      0.71       803\n",
      "    Bulgaria       0.90      0.21      0.35        42\n",
      "      Canada       0.00      0.00      0.00        76\n",
      "       Chile       0.72      0.54      0.62      1092\n",
      "     England       0.00      0.00      0.00        29\n",
      "      France       0.80      0.88      0.84      5155\n",
      "     Germany       0.77      0.66      0.71       538\n",
      "      Greece       0.74      0.36      0.49       116\n",
      "     Hungary       1.00      0.15      0.27        39\n",
      "      Israel       0.91      0.46      0.61       128\n",
      "       Italy       0.98      0.96      0.97      6477\n",
      " New Zealand       0.86      0.42      0.56       398\n",
      "    Portugal       0.94      0.50      0.66      1352\n",
      "     Romania       1.00      0.09      0.17        22\n",
      "South Africa       0.76      0.50      0.61       316\n",
      "       Spain       0.72      0.81      0.76      1765\n",
      "          US       0.87      0.98      0.92     14140\n",
      "     Uruguay       1.00      0.23      0.38        52\n",
      "\n",
      "   micro avg       0.86      0.86      0.86     34039\n",
      "   macro avg       0.76      0.46      0.54     34039\n",
      "weighted avg       0.86      0.86      0.85     34039\n",
      "\n",
      "CPU times: user 3min 24s, sys: 1.19 s, total: 3min 26s\n",
      "Wall time: 1min 1s\n"
     ]
    }
   ],
   "source": [
    "%%time\n",
    "\n",
    "# TF-IDF Logistic Regression Model\n",
    "\n",
    "tfidf_logistic_regression = make_pipeline(\n",
    "   CountVectorizer(strip_accents='ascii',\n",
    "                   stop_words='english'),\n",
    "   TfidfTransformer(),\n",
    "   LogisticRegression(),\n",
    "      \n",
    ")\n",
    "\n",
    "tfidf_logistic_regression.fit(X_train, y_train)\n",
    "\n",
    "print(f'Accuracy: {tfidf_logistic_regression.score(X_test, y_test)} \\n')\n",
    "print(classification_report(y_test, tfidf_logistic_regression.predict(X_test)))"
   ]
  },
  {
   "cell_type": "markdown",
   "metadata": {},
   "source": [
    "###  TF-IDF Logistic Regression with Automatic Corpus Specific Stop Words:  Pvs Accuracy: 0.8578861218285981   <<<<<<<  #2   "
   ]
  },
  {
   "cell_type": "code",
   "execution_count": 47,
   "metadata": {},
   "outputs": [
    {
     "name": "stdout",
     "output_type": "stream",
     "text": [
      "Accuracy: 0.8619524662886688 \n",
      "\n",
      "              precision    recall  f1-score   support\n",
      "\n",
      "   Argentina       0.68      0.41      0.51       893\n",
      "   Australia       0.75      0.47      0.58       606\n",
      "     Austria       0.82      0.61      0.70       803\n",
      "    Bulgaria       0.90      0.21      0.35        42\n",
      "      Canada       0.00      0.00      0.00        76\n",
      "       Chile       0.72      0.54      0.62      1092\n",
      "     England       0.00      0.00      0.00        29\n",
      "      France       0.80      0.88      0.84      5155\n",
      "     Germany       0.78      0.67      0.72       538\n",
      "      Greece       0.76      0.38      0.51       116\n",
      "     Hungary       1.00      0.15      0.27        39\n",
      "      Israel       0.91      0.46      0.61       128\n",
      "       Italy       0.98      0.96      0.97      6477\n",
      " New Zealand       0.83      0.41      0.55       398\n",
      "    Portugal       0.94      0.50      0.66      1352\n",
      "     Romania       1.00      0.09      0.17        22\n",
      "South Africa       0.75      0.50      0.60       316\n",
      "       Spain       0.72      0.81      0.76      1765\n",
      "          US       0.87      0.98      0.93     14140\n",
      "     Uruguay       1.00      0.23      0.38        52\n",
      "\n",
      "   micro avg       0.86      0.86      0.86     34039\n",
      "   macro avg       0.76      0.46      0.53     34039\n",
      "weighted avg       0.86      0.86      0.85     34039\n",
      "\n",
      "CPU times: user 3min, sys: 926 ms, total: 3min 1s\n",
      "Wall time: 54.8 s\n"
     ]
    }
   ],
   "source": [
    "%%time\n",
    "\n",
    "mindf_max_tfidf_lr = make_pipeline(\n",
    "    CountVectorizer(\n",
    "        stop_words='english',\n",
    "        min_df=2,\n",
    "        max_df=.9\n",
    "    ),\n",
    "    TfidfTransformer(),\n",
    "    LogisticRegression()\n",
    ")\n",
    "\n",
    "mindf_max_tfidf_lr.fit(X_train, y_train)\n",
    "\n",
    "print(f'Accuracy: {mindf_max_tfidf_lr.score(X_test, y_test)} \\n')\n",
    "print(classification_report(y_test, mindf_max_tfidf_lr.predict(X_test)))\n"
   ]
  },
  {
   "cell_type": "markdown",
   "metadata": {},
   "source": [
    "### TF-IDF Linear SVC:  Pvs  Accuracy: 0.881942008651935     <<<<<   #1\n"
   ]
  },
  {
   "cell_type": "code",
   "execution_count": 48,
   "metadata": {},
   "outputs": [
    {
     "name": "stdout",
     "output_type": "stream",
     "text": [
      "Accuracy: 0.8863362613472782 \n",
      "\n",
      "              precision    recall  f1-score   support\n",
      "\n",
      "   Argentina       0.64      0.53      0.58       893\n",
      "   Australia       0.78      0.63      0.69       606\n",
      "     Austria       0.84      0.71      0.77       803\n",
      "    Bulgaria       0.89      0.60      0.71        42\n",
      "      Canada       0.71      0.07      0.12        76\n",
      "       Chile       0.69      0.60      0.64      1092\n",
      "     England       0.90      0.62      0.73        29\n",
      "      France       0.83      0.89      0.86      5155\n",
      "     Germany       0.77      0.77      0.77       538\n",
      "      Greece       0.79      0.72      0.76       116\n",
      "     Hungary       1.00      0.49      0.66        39\n",
      "      Israel       0.87      0.70      0.78       128\n",
      "       Italy       0.98      0.98      0.98      6477\n",
      " New Zealand       0.80      0.61      0.69       398\n",
      "    Portugal       0.89      0.59      0.71      1352\n",
      "     Romania       1.00      0.32      0.48        22\n",
      "South Africa       0.75      0.66      0.70       316\n",
      "       Spain       0.76      0.80      0.78      1765\n",
      "          US       0.92      0.98      0.95     14140\n",
      "     Uruguay       0.92      0.65      0.76        52\n",
      "\n",
      "   micro avg       0.89      0.89      0.89     34039\n",
      "   macro avg       0.84      0.64      0.71     34039\n",
      "weighted avg       0.88      0.89      0.88     34039\n",
      "\n",
      "CPU times: user 23.3 s, sys: 278 ms, total: 23.6 s\n",
      "Wall time: 21.3 s\n"
     ]
    }
   ],
   "source": [
    "%%time\n",
    "\n",
    "tfidf_svc = make_pipeline(\n",
    "    CountVectorizer(\n",
    "        stop_words='english',\n",
    "        #min_df = 2,      # ed\n",
    "        #max_df = .2      # ed\n",
    "    ),\n",
    "    TfidfTransformer(),\n",
    "    #DenseTransformer(),\n",
    "    LinearSVC()\n",
    ")\n",
    "\n",
    "tfidf_svc.fit(X_train, y_train)\n",
    "\n",
    "print(f'Accuracy: {tfidf_svc.score(X_test, y_test)} \\n')\n",
    "print(classification_report(y_test, tfidf_svc.predict(X_test)))"
   ]
  },
  {
   "cell_type": "code",
   "execution_count": null,
   "metadata": {},
   "outputs": [],
   "source": []
  }
 ],
 "metadata": {
  "kernelspec": {
   "display_name": "Python [conda env:PythonData]",
   "language": "python",
   "name": "pythondata"
  },
  "language_info": {
   "codemirror_mode": {
    "name": "ipython",
    "version": 3
   },
   "file_extension": ".py",
   "mimetype": "text/x-python",
   "name": "python",
   "nbconvert_exporter": "python",
   "pygments_lexer": "ipython3",
   "version": "3.7.1"
  }
 },
 "nbformat": 4,
 "nbformat_minor": 2
}

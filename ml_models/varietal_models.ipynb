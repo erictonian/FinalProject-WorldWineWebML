{
 "cells": [
  {
   "cell_type": "code",
   "execution_count": 1,
   "metadata": {},
   "outputs": [],
   "source": [
    "#importing of dependencies\n",
    "\n",
    "import pandas as pd\n",
    "import numpy as np\n",
    "from collections import Counter\n",
    "\n",
    "from sklearn.model_selection import train_test_split\n",
    "\n",
    "from sklearn.feature_extraction import stop_words\n",
    "from sklearn.feature_extraction.text import CountVectorizer\n",
    "from sklearn.feature_extraction.text import TfidfTransformer\n",
    "\n",
    "from sklearn.metrics import classification_report\n",
    "from sklearn.pipeline import make_pipeline\n",
    "\n",
    "from sklearn.naive_bayes import MultinomialNB\n",
    "from sklearn.linear_model import LogisticRegression\n",
    "from sklearn.svm import LinearSVC"
   ]
  },
  {
   "cell_type": "markdown",
   "metadata": {},
   "source": [
    "### Data Preprocessing"
   ]
  },
  {
   "cell_type": "code",
   "execution_count": 7,
   "metadata": {},
   "outputs": [
    {
     "data": {
      "text/html": [
       "<div>\n",
       "<style scoped>\n",
       "    .dataframe tbody tr th:only-of-type {\n",
       "        vertical-align: middle;\n",
       "    }\n",
       "\n",
       "    .dataframe tbody tr th {\n",
       "        vertical-align: top;\n",
       "    }\n",
       "\n",
       "    .dataframe thead th {\n",
       "        text-align: right;\n",
       "    }\n",
       "</style>\n",
       "<table border=\"1\" class=\"dataframe\">\n",
       "  <thead>\n",
       "    <tr style=\"text-align: right;\">\n",
       "      <th></th>\n",
       "      <th>Unnamed: 0</th>\n",
       "      <th>country</th>\n",
       "      <th>description</th>\n",
       "      <th>price</th>\n",
       "      <th>points</th>\n",
       "      <th>variety</th>\n",
       "      <th>winery</th>\n",
       "    </tr>\n",
       "  </thead>\n",
       "  <tbody>\n",
       "    <tr>\n",
       "      <th>0</th>\n",
       "      <td>1</td>\n",
       "      <td>Portugal</td>\n",
       "      <td>This is ripe and fruity, a wine that is smooth...</td>\n",
       "      <td>15.0</td>\n",
       "      <td>87</td>\n",
       "      <td>Portuguese Red</td>\n",
       "      <td>Quinta dos Avidagos</td>\n",
       "    </tr>\n",
       "    <tr>\n",
       "      <th>1</th>\n",
       "      <td>2</td>\n",
       "      <td>US</td>\n",
       "      <td>Tart and snappy, the flavors of lime flesh and...</td>\n",
       "      <td>14.0</td>\n",
       "      <td>87</td>\n",
       "      <td>Pinot Gris</td>\n",
       "      <td>Rainstorm</td>\n",
       "    </tr>\n",
       "    <tr>\n",
       "      <th>2</th>\n",
       "      <td>3</td>\n",
       "      <td>US</td>\n",
       "      <td>Pineapple rind, lemon pith and orange blossom ...</td>\n",
       "      <td>13.0</td>\n",
       "      <td>87</td>\n",
       "      <td>Riesling</td>\n",
       "      <td>St. Julian</td>\n",
       "    </tr>\n",
       "    <tr>\n",
       "      <th>3</th>\n",
       "      <td>4</td>\n",
       "      <td>US</td>\n",
       "      <td>Much like the regular bottling from 2012, this...</td>\n",
       "      <td>65.0</td>\n",
       "      <td>87</td>\n",
       "      <td>Pinot Noir</td>\n",
       "      <td>Sweet Cheeks</td>\n",
       "    </tr>\n",
       "    <tr>\n",
       "      <th>4</th>\n",
       "      <td>5</td>\n",
       "      <td>Spain</td>\n",
       "      <td>Blackberry and raspberry aromas show a typical...</td>\n",
       "      <td>15.0</td>\n",
       "      <td>87</td>\n",
       "      <td>Tempranillo-Merlot</td>\n",
       "      <td>Tandem</td>\n",
       "    </tr>\n",
       "  </tbody>\n",
       "</table>\n",
       "</div>"
      ],
      "text/plain": [
       "   Unnamed: 0   country                                        description  \\\n",
       "0           1  Portugal  This is ripe and fruity, a wine that is smooth...   \n",
       "1           2        US  Tart and snappy, the flavors of lime flesh and...   \n",
       "2           3        US  Pineapple rind, lemon pith and orange blossom ...   \n",
       "3           4        US  Much like the regular bottling from 2012, this...   \n",
       "4           5     Spain  Blackberry and raspberry aromas show a typical...   \n",
       "\n",
       "   price  points             variety               winery  \n",
       "0   15.0      87      Portuguese Red  Quinta dos Avidagos  \n",
       "1   14.0      87          Pinot Gris            Rainstorm  \n",
       "2   13.0      87            Riesling           St. Julian  \n",
       "3   65.0      87          Pinot Noir         Sweet Cheeks  \n",
       "4   15.0      87  Tempranillo-Merlot               Tandem  "
      ]
     },
     "execution_count": 7,
     "metadata": {},
     "output_type": "execute_result"
    }
   ],
   "source": [
    "# import the data\n",
    "\n",
    "df = pd.read_csv(\"../output_data/final_wine_data_172k_test.csv\")\n",
    "df.head()"
   ]
  },
  {
   "cell_type": "code",
   "execution_count": 8,
   "metadata": {},
   "outputs": [
    {
     "data": {
      "text/plain": [
       "Pinot Noir                  17489\n",
       "Chardonnay                  14305\n",
       "Cabernet Sauvignon          11872\n",
       "Red Blend                    8466\n",
       "Bordeaux-style Red Blend     7482\n",
       "Grüner Veltliner             6613\n",
       "Riesling                     6597\n",
       "Sauvignon Blanc              6376\n",
       "Sauvignon                    5421\n",
       "Syrah                        5155\n",
       "Rosé                         5052\n",
       "Merlot                       3706\n",
       "Zinfandel                    3389\n",
       "Malbec                       3309\n",
       "Nebbiolo                     3303\n",
       "Sangiovese                   3221\n",
       "Portuguese Red               3001\n",
       "Sparkling Blend              2894\n",
       "White Blend                  2750\n",
       "Red Blends                   2536\n",
       "Name: variety, dtype: int64"
      ]
     },
     "execution_count": 8,
     "metadata": {},
     "output_type": "execute_result"
    }
   ],
   "source": [
    "# use Counter to get the top 15 wine varietals\n",
    "\n",
    "counter = Counter(df['variety'].tolist())\n",
    "top_20_varietals = {i[0]: idx for idx, i in enumerate(counter.most_common(20))}\n",
    "df = df[df['variety'].map(lambda x: x in top_20_varietals)]\n",
    "\n",
    "df['variety'].value_counts()"
   ]
  },
  {
   "cell_type": "code",
   "execution_count": 9,
   "metadata": {},
   "outputs": [
    {
     "data": {
      "text/html": [
       "<div>\n",
       "<style scoped>\n",
       "    .dataframe tbody tr th:only-of-type {\n",
       "        vertical-align: middle;\n",
       "    }\n",
       "\n",
       "    .dataframe tbody tr th {\n",
       "        vertical-align: top;\n",
       "    }\n",
       "\n",
       "    .dataframe thead th {\n",
       "        text-align: right;\n",
       "    }\n",
       "</style>\n",
       "<table border=\"1\" class=\"dataframe\">\n",
       "  <thead>\n",
       "    <tr style=\"text-align: right;\">\n",
       "      <th></th>\n",
       "      <th>variety</th>\n",
       "      <th>description</th>\n",
       "    </tr>\n",
       "  </thead>\n",
       "  <tbody>\n",
       "    <tr>\n",
       "      <th>0</th>\n",
       "      <td>Portuguese Red</td>\n",
       "      <td>This is ripe and fruity, a wine that is smooth...</td>\n",
       "    </tr>\n",
       "    <tr>\n",
       "      <th>2</th>\n",
       "      <td>Riesling</td>\n",
       "      <td>Pineapple rind, lemon pith and orange blossom ...</td>\n",
       "    </tr>\n",
       "    <tr>\n",
       "      <th>3</th>\n",
       "      <td>Pinot Noir</td>\n",
       "      <td>Much like the regular bottling from 2012, this...</td>\n",
       "    </tr>\n",
       "    <tr>\n",
       "      <th>9</th>\n",
       "      <td>Cabernet Sauvignon</td>\n",
       "      <td>Soft, supple plum envelopes an oaky structure ...</td>\n",
       "    </tr>\n",
       "    <tr>\n",
       "      <th>11</th>\n",
       "      <td>Cabernet Sauvignon</td>\n",
       "      <td>Slightly reduced, this wine offers a chalky, t...</td>\n",
       "    </tr>\n",
       "  </tbody>\n",
       "</table>\n",
       "</div>"
      ],
      "text/plain": [
       "               variety                                        description\n",
       "0       Portuguese Red  This is ripe and fruity, a wine that is smooth...\n",
       "2             Riesling  Pineapple rind, lemon pith and orange blossom ...\n",
       "3           Pinot Noir  Much like the regular bottling from 2012, this...\n",
       "9   Cabernet Sauvignon  Soft, supple plum envelopes an oaky structure ...\n",
       "11  Cabernet Sauvignon  Slightly reduced, this wine offers a chalky, t..."
      ]
     },
     "execution_count": 9,
     "metadata": {},
     "output_type": "execute_result"
    }
   ],
   "source": [
    "# filter out all extraneaous columns\n",
    "\n",
    "df = df.filter([\"variety\", \"description\"], axis = 1)\n",
    "df.head()"
   ]
  },
  {
   "cell_type": "code",
   "execution_count": 10,
   "metadata": {},
   "outputs": [],
   "source": [
    "# split the dataset into training and testing datasets\n",
    "\n",
    "X=df['description']\n",
    "y=df['variety']\n",
    "\n",
    "X_train, X_test, y_train, y_test = train_test_split(X,y, test_size=0.2, random_state=42)"
   ]
  },
  {
   "cell_type": "markdown",
   "metadata": {},
   "source": [
    "### Basic Naive Bayes"
   ]
  },
  {
   "cell_type": "code",
   "execution_count": 11,
   "metadata": {},
   "outputs": [
    {
     "name": "stdout",
     "output_type": "stream",
     "text": [
      "Accuracy: 0.6888319505449813 \n",
      "\n",
      "                          precision    recall  f1-score   support\n",
      "\n",
      "Bordeaux-style Red Blend       0.63      0.66      0.65      1461\n",
      "      Cabernet Sauvignon       0.54      0.71      0.61      2407\n",
      "              Chardonnay       0.78      0.88      0.82      2890\n",
      "        Grüner Veltliner       1.00      0.76      0.87      1299\n",
      "                  Malbec       0.41      0.52      0.46       672\n",
      "                  Merlot       0.59      0.08      0.14       732\n",
      "                Nebbiolo       0.62      0.83      0.71       630\n",
      "              Pinot Noir       0.75      0.79      0.77      3558\n",
      "          Portuguese Red       0.56      0.79      0.66       594\n",
      "               Red Blend       0.54      0.58      0.56      1674\n",
      "              Red Blends       0.62      0.04      0.08       518\n",
      "                Riesling       0.73      0.86      0.79      1315\n",
      "                    Rosé       0.71      0.77      0.74      1030\n",
      "              Sangiovese       0.45      0.38      0.41       592\n",
      "               Sauvignon       1.00      0.95      0.97      1078\n",
      "         Sauvignon Blanc       0.72      0.67      0.70      1280\n",
      "         Sparkling Blend       0.78      0.61      0.69       623\n",
      "                   Syrah       0.67      0.49      0.56      1040\n",
      "             White Blend       0.77      0.57      0.65       525\n",
      "               Zinfandel       0.68      0.47      0.56       670\n",
      "\n",
      "                accuracy                           0.69     24588\n",
      "               macro avg       0.68      0.62      0.62     24588\n",
      "            weighted avg       0.70      0.69      0.68     24588\n",
      "\n",
      "CPU times: user 11.3 s, sys: 269 ms, total: 11.6 s\n",
      "Wall time: 8.18 s\n"
     ]
    }
   ],
   "source": [
    "%%time\n",
    "\n",
    "naive_bayes = make_pipeline(\n",
    "    CountVectorizer(stop_words='english', binary=True),\n",
    "    MultinomialNB()\n",
    ")\n",
    "\n",
    "naive_bayes.fit(X_train, y_train)\n",
    "\n",
    "print(f'Accuracy: {naive_bayes.score(X_test, y_test)} \\n')\n",
    "print(classification_report(y_test, naive_bayes.predict(X_test)))"
   ]
  },
  {
   "cell_type": "markdown",
   "metadata": {},
   "source": [
    "### TF-IDF Logistic Regression"
   ]
  },
  {
   "cell_type": "code",
   "execution_count": 12,
   "metadata": {},
   "outputs": [
    {
     "name": "stdout",
     "output_type": "stream",
     "text": [
      "[Pipeline] ... (step 1 of 3) Processing countvectorizer, total=   4.2s\n",
      "[Pipeline] .. (step 2 of 3) Processing tfidftransformer, total=   0.2s\n"
     ]
    },
    {
     "name": "stderr",
     "output_type": "stream",
     "text": [
      "/anaconda3/envs/ut_ml/lib/python3.6/site-packages/sklearn/linear_model/logistic.py:432: FutureWarning: Default solver will be changed to 'lbfgs' in 0.22. Specify a solver to silence this warning.\n",
      "  FutureWarning)\n",
      "/anaconda3/envs/ut_ml/lib/python3.6/site-packages/sklearn/linear_model/logistic.py:469: FutureWarning: Default multi_class will be changed to 'auto' in 0.22. Specify the multi_class option to silence this warning.\n",
      "  \"this warning.\", FutureWarning)\n"
     ]
    },
    {
     "name": "stdout",
     "output_type": "stream",
     "text": [
      "[Pipeline]  (step 3 of 3) Processing logisticregression, total=  35.4s\n",
      "Accuracy: 0.7561818773385391 \n",
      "\n",
      "                          precision    recall  f1-score   support\n",
      "\n",
      "Bordeaux-style Red Blend       0.71      0.79      0.75      1461\n",
      "      Cabernet Sauvignon       0.62      0.76      0.68      2407\n",
      "              Chardonnay       0.78      0.93      0.85      2890\n",
      "        Grüner Veltliner       0.98      0.92      0.95      1299\n",
      "                  Malbec       0.67      0.51      0.58       672\n",
      "                  Merlot       0.74      0.33      0.45       732\n",
      "                Nebbiolo       0.75      0.81      0.78       630\n",
      "              Pinot Noir       0.73      0.89      0.80      3558\n",
      "          Portuguese Red       0.79      0.71      0.75       594\n",
      "               Red Blend       0.67      0.61      0.64      1674\n",
      "              Red Blends       0.60      0.15      0.24       518\n",
      "                Riesling       0.86      0.88      0.87      1315\n",
      "                    Rosé       0.81      0.80      0.80      1030\n",
      "              Sangiovese       0.61      0.49      0.54       592\n",
      "               Sauvignon       1.00      0.97      0.98      1078\n",
      "         Sauvignon Blanc       0.77      0.72      0.75      1280\n",
      "         Sparkling Blend       0.84      0.65      0.74       623\n",
      "                   Syrah       0.73      0.62      0.67      1040\n",
      "             White Blend       0.84      0.56      0.67       525\n",
      "               Zinfandel       0.71      0.55      0.62       670\n",
      "\n",
      "                accuracy                           0.76     24588\n",
      "               macro avg       0.76      0.68      0.71     24588\n",
      "            weighted avg       0.76      0.76      0.75     24588\n",
      "\n",
      "CPU times: user 2min 24s, sys: 4.55 s, total: 2min 28s\n",
      "Wall time: 42.9 s\n"
     ]
    }
   ],
   "source": [
    "%%time\n",
    "\n",
    "tfidf_logistic_regression = make_pipeline(\n",
    "    CountVectorizer(stop_words='english'),\n",
    "    TfidfTransformer(),\n",
    "    LogisticRegression(),\n",
    "    verbose = True\n",
    ")\n",
    "\n",
    "tfidf_logistic_regression.fit(X_train, y_train)\n",
    "\n",
    "print(f'Accuracy: {tfidf_logistic_regression.score(X_test, y_test)} \\n')\n",
    "print(classification_report(y_test, tfidf_logistic_regression.predict(X_test)))"
   ]
  },
  {
   "cell_type": "markdown",
   "metadata": {},
   "source": [
    "### TF-IDF SVC Model"
   ]
  },
  {
   "cell_type": "code",
   "execution_count": 13,
   "metadata": {},
   "outputs": [
    {
     "name": "stdout",
     "output_type": "stream",
     "text": [
      "[Pipeline] ... (step 1 of 3) Processing countvectorizer, total=   4.0s\n",
      "[Pipeline] .. (step 2 of 3) Processing tfidftransformer, total=   0.2s\n",
      "[Pipeline] ......... (step 3 of 3) Processing linearsvc, total=   8.9s\n",
      "Accuracy: 0.7728160078086872 \n",
      "\n",
      "                          precision    recall  f1-score   support\n",
      "\n",
      "Bordeaux-style Red Blend       0.73      0.80      0.76      1461\n",
      "      Cabernet Sauvignon       0.67      0.74      0.70      2407\n",
      "              Chardonnay       0.83      0.91      0.86      2890\n",
      "        Grüner Veltliner       0.97      0.94      0.95      1299\n",
      "                  Malbec       0.68      0.59      0.63       672\n",
      "                  Merlot       0.59      0.40      0.48       732\n",
      "                Nebbiolo       0.74      0.82      0.78       630\n",
      "              Pinot Noir       0.80      0.86      0.83      3558\n",
      "          Portuguese Red       0.77      0.78      0.77       594\n",
      "               Red Blend       0.67      0.63      0.65      1674\n",
      "              Red Blends       0.51      0.24      0.33       518\n",
      "                Riesling       0.87      0.89      0.88      1315\n",
      "                    Rosé       0.79      0.82      0.81      1030\n",
      "              Sangiovese       0.60      0.55      0.57       592\n",
      "               Sauvignon       0.99      0.98      0.99      1078\n",
      "         Sauvignon Blanc       0.78      0.76      0.77      1280\n",
      "         Sparkling Blend       0.82      0.74      0.78       623\n",
      "                   Syrah       0.72      0.67      0.69      1040\n",
      "             White Blend       0.81      0.64      0.71       525\n",
      "               Zinfandel       0.71      0.63      0.67       670\n",
      "\n",
      "                accuracy                           0.77     24588\n",
      "               macro avg       0.75      0.72      0.73     24588\n",
      "            weighted avg       0.77      0.77      0.77     24588\n",
      "\n",
      "CPU times: user 18 s, sys: 242 ms, total: 18.2 s\n",
      "Wall time: 16.3 s\n"
     ]
    }
   ],
   "source": [
    "%%time\n",
    "\n",
    "tfidf_svc = make_pipeline(\n",
    "    CountVectorizer(\n",
    "        stop_words='english',\n",
    "    ),\n",
    "    TfidfTransformer(),\n",
    "    LinearSVC(),\n",
    "    verbose = True\n",
    ")\n",
    "\n",
    "tfidf_svc.fit(X_train, y_train)\n",
    "\n",
    "print(f'Accuracy: {tfidf_svc.score(X_test, y_test)} \\n')\n",
    "print(classification_report(y_test, tfidf_svc.predict(X_test)))"
   ]
  },
  {
   "cell_type": "code",
   "execution_count": null,
   "metadata": {},
   "outputs": [],
   "source": []
  }
 ],
 "metadata": {
  "kernelspec": {
   "display_name": "conda:env:ut_ml",
   "language": "python",
   "name": "ut_ml"
  },
  "language_info": {
   "codemirror_mode": {
    "name": "ipython",
    "version": 3
   },
   "file_extension": ".py",
   "mimetype": "text/x-python",
   "name": "python",
   "nbconvert_exporter": "python",
   "pygments_lexer": "ipython3",
   "version": "3.6.8"
  }
 },
 "nbformat": 4,
 "nbformat_minor": 2
}

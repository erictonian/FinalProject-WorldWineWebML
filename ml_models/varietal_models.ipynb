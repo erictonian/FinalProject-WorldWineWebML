{
 "cells": [
  {
   "cell_type": "code",
   "execution_count": 1,
   "metadata": {},
   "outputs": [
    {
     "name": "stderr",
     "output_type": "stream",
     "text": [
      "/anaconda3/envs/ut_ml/lib/python3.6/site-packages/sklearn/externals/six.py:31: DeprecationWarning: The module is deprecated in version 0.21 and will be removed in version 0.23 since we've dropped support for Python 2.7. Please rely on the official version of six (https://pypi.org/project/six/).\n",
      "  \"(https://pypi.org/project/six/).\", DeprecationWarning)\n"
     ]
    }
   ],
   "source": [
    "#importing of dependencies\n",
    "import pandas as pd\n",
    "import numpy as np\n",
    "from collections import Counter\n",
    "\n",
    "from sklearn.model_selection import train_test_split\n",
    "from sklearn.feature_extraction import stop_words\n",
    "from sklearn.feature_extraction.text import CountVectorizer\n",
    "from sklearn.feature_extraction.text import TfidfTransformer\n",
    "from sklearn.naive_bayes import MultinomialNB\n",
    "from sklearn.linear_model import LogisticRegression\n",
    "from sklearn.svm import LinearSVC\n",
    "\n",
    "from imblearn.under_sampling import NearMiss\n",
    "from imblearn.pipeline import make_pipeline\n",
    "from imblearn.metrics import classification_report_imbalanced"
   ]
  },
  {
   "cell_type": "markdown",
   "metadata": {},
   "source": [
    "### Data Preprocessing"
   ]
  },
  {
   "cell_type": "code",
   "execution_count": 2,
   "metadata": {},
   "outputs": [
    {
     "data": {
      "text/html": [
       "<div>\n",
       "<style scoped>\n",
       "    .dataframe tbody tr th:only-of-type {\n",
       "        vertical-align: middle;\n",
       "    }\n",
       "\n",
       "    .dataframe tbody tr th {\n",
       "        vertical-align: top;\n",
       "    }\n",
       "\n",
       "    .dataframe thead th {\n",
       "        text-align: right;\n",
       "    }\n",
       "</style>\n",
       "<table border=\"1\" class=\"dataframe\">\n",
       "  <thead>\n",
       "    <tr style=\"text-align: right;\">\n",
       "      <th></th>\n",
       "      <th>Unnamed: 0</th>\n",
       "      <th>country</th>\n",
       "      <th>description</th>\n",
       "      <th>price</th>\n",
       "      <th>points</th>\n",
       "      <th>variety</th>\n",
       "      <th>winery</th>\n",
       "    </tr>\n",
       "  </thead>\n",
       "  <tbody>\n",
       "    <tr>\n",
       "      <th>0</th>\n",
       "      <td>1</td>\n",
       "      <td>Portugal</td>\n",
       "      <td>This is ripe and fruity, a wine that is smooth...</td>\n",
       "      <td>15.0</td>\n",
       "      <td>87</td>\n",
       "      <td>Portuguese Red</td>\n",
       "      <td>Quinta dos Avidagos</td>\n",
       "    </tr>\n",
       "    <tr>\n",
       "      <th>1</th>\n",
       "      <td>2</td>\n",
       "      <td>US</td>\n",
       "      <td>Tart and snappy, the flavors of lime flesh and...</td>\n",
       "      <td>14.0</td>\n",
       "      <td>87</td>\n",
       "      <td>Pinot Gris</td>\n",
       "      <td>Rainstorm</td>\n",
       "    </tr>\n",
       "    <tr>\n",
       "      <th>2</th>\n",
       "      <td>3</td>\n",
       "      <td>US</td>\n",
       "      <td>Pineapple rind, lemon pith and orange blossom ...</td>\n",
       "      <td>13.0</td>\n",
       "      <td>87</td>\n",
       "      <td>Riesling</td>\n",
       "      <td>St. Julian</td>\n",
       "    </tr>\n",
       "    <tr>\n",
       "      <th>3</th>\n",
       "      <td>4</td>\n",
       "      <td>US</td>\n",
       "      <td>Much like the regular bottling from 2012, this...</td>\n",
       "      <td>65.0</td>\n",
       "      <td>87</td>\n",
       "      <td>Pinot Noir</td>\n",
       "      <td>Sweet Cheeks</td>\n",
       "    </tr>\n",
       "    <tr>\n",
       "      <th>4</th>\n",
       "      <td>5</td>\n",
       "      <td>Spain</td>\n",
       "      <td>Blackberry and raspberry aromas show a typical...</td>\n",
       "      <td>15.0</td>\n",
       "      <td>87</td>\n",
       "      <td>Tempranillo-Merlot</td>\n",
       "      <td>Tandem</td>\n",
       "    </tr>\n",
       "  </tbody>\n",
       "</table>\n",
       "</div>"
      ],
      "text/plain": [
       "   Unnamed: 0   country                                        description  \\\n",
       "0           1  Portugal  This is ripe and fruity, a wine that is smooth...   \n",
       "1           2        US  Tart and snappy, the flavors of lime flesh and...   \n",
       "2           3        US  Pineapple rind, lemon pith and orange blossom ...   \n",
       "3           4        US  Much like the regular bottling from 2012, this...   \n",
       "4           5     Spain  Blackberry and raspberry aromas show a typical...   \n",
       "\n",
       "   price  points             variety               winery  \n",
       "0   15.0      87      Portuguese Red  Quinta dos Avidagos  \n",
       "1   14.0      87          Pinot Gris            Rainstorm  \n",
       "2   13.0      87            Riesling           St. Julian  \n",
       "3   65.0      87          Pinot Noir         Sweet Cheeks  \n",
       "4   15.0      87  Tempranillo-Merlot               Tandem  "
      ]
     },
     "execution_count": 2,
     "metadata": {},
     "output_type": "execute_result"
    }
   ],
   "source": [
    "# import the data\n",
    "df = pd.read_csv(\"../data/final_wine_data_172k.csv\")\n",
    "df.head()"
   ]
  },
  {
   "cell_type": "code",
   "execution_count": 3,
   "metadata": {},
   "outputs": [
    {
     "data": {
      "text/plain": [
       "Pinot Noir                  17489\n",
       "Chardonnay                  14305\n",
       "Cabernet Sauvignon          11872\n",
       "Red Blend                    8466\n",
       "Bordeaux-style Red Blend     7482\n",
       "Grüner Veltliner             6613\n",
       "Riesling                     6597\n",
       "Sauvignon Blanc              6376\n",
       "Sauvignon                    5421\n",
       "Syrah                        5155\n",
       "Rosé                         5052\n",
       "Merlot                       3706\n",
       "Zinfandel                    3389\n",
       "Malbec                       3309\n",
       "Nebbiolo                     3303\n",
       "Sangiovese                   3221\n",
       "Portuguese Red               3001\n",
       "Sparkling Blend              2894\n",
       "White Blend                  2750\n",
       "Red Blends                   2536\n",
       "Name: variety, dtype: int64"
      ]
     },
     "execution_count": 3,
     "metadata": {},
     "output_type": "execute_result"
    }
   ],
   "source": [
    "# use Counter to get the top 15 wine varietals\n",
    "counter = Counter(df['variety'].tolist())\n",
    "top_20_varietals = {i[0]: idx for idx, i in enumerate(counter.most_common(20))}\n",
    "df = df[df['variety'].map(lambda x: x in top_20_varietals)]\n",
    "\n",
    "df['variety'].value_counts()"
   ]
  },
  {
   "cell_type": "code",
   "execution_count": 4,
   "metadata": {},
   "outputs": [
    {
     "data": {
      "text/html": [
       "<div>\n",
       "<style scoped>\n",
       "    .dataframe tbody tr th:only-of-type {\n",
       "        vertical-align: middle;\n",
       "    }\n",
       "\n",
       "    .dataframe tbody tr th {\n",
       "        vertical-align: top;\n",
       "    }\n",
       "\n",
       "    .dataframe thead th {\n",
       "        text-align: right;\n",
       "    }\n",
       "</style>\n",
       "<table border=\"1\" class=\"dataframe\">\n",
       "  <thead>\n",
       "    <tr style=\"text-align: right;\">\n",
       "      <th></th>\n",
       "      <th>variety</th>\n",
       "      <th>description</th>\n",
       "    </tr>\n",
       "  </thead>\n",
       "  <tbody>\n",
       "    <tr>\n",
       "      <th>0</th>\n",
       "      <td>Portuguese Red</td>\n",
       "      <td>This is ripe and fruity, a wine that is smooth...</td>\n",
       "    </tr>\n",
       "    <tr>\n",
       "      <th>2</th>\n",
       "      <td>Riesling</td>\n",
       "      <td>Pineapple rind, lemon pith and orange blossom ...</td>\n",
       "    </tr>\n",
       "    <tr>\n",
       "      <th>3</th>\n",
       "      <td>Pinot Noir</td>\n",
       "      <td>Much like the regular bottling from 2012, this...</td>\n",
       "    </tr>\n",
       "    <tr>\n",
       "      <th>9</th>\n",
       "      <td>Cabernet Sauvignon</td>\n",
       "      <td>Soft, supple plum envelopes an oaky structure ...</td>\n",
       "    </tr>\n",
       "    <tr>\n",
       "      <th>11</th>\n",
       "      <td>Cabernet Sauvignon</td>\n",
       "      <td>Slightly reduced, this wine offers a chalky, t...</td>\n",
       "    </tr>\n",
       "  </tbody>\n",
       "</table>\n",
       "</div>"
      ],
      "text/plain": [
       "               variety                                        description\n",
       "0       Portuguese Red  This is ripe and fruity, a wine that is smooth...\n",
       "2             Riesling  Pineapple rind, lemon pith and orange blossom ...\n",
       "3           Pinot Noir  Much like the regular bottling from 2012, this...\n",
       "9   Cabernet Sauvignon  Soft, supple plum envelopes an oaky structure ...\n",
       "11  Cabernet Sauvignon  Slightly reduced, this wine offers a chalky, t..."
      ]
     },
     "execution_count": 4,
     "metadata": {},
     "output_type": "execute_result"
    }
   ],
   "source": [
    "# filter out all extraneaous columns\n",
    "df = df.filter([\"variety\", \"description\"], axis = 1)\n",
    "df.head()"
   ]
  },
  {
   "cell_type": "code",
   "execution_count": 5,
   "metadata": {},
   "outputs": [],
   "source": [
    "# split the dataset into training and testing datasets\n",
    "X=df['description']\n",
    "y=df['variety']\n",
    "\n",
    "X_train, X_test, y_train, y_test = train_test_split(X,y, test_size=0.2, random_state=42)"
   ]
  },
  {
   "cell_type": "markdown",
   "metadata": {},
   "source": [
    "### Basic Naive Bayes"
   ]
  },
  {
   "cell_type": "code",
   "execution_count": 6,
   "metadata": {},
   "outputs": [
    {
     "name": "stdout",
     "output_type": "stream",
     "text": [
      "Accuracy: 0.5185863022612657 \n",
      "\n",
      "                                pre       rec       spe        f1       geo       iba       sup\n",
      "\n",
      "Bordeaux-style Red Blend       0.67      0.43      0.99      0.53      0.65      0.40      1461\n",
      "      Cabernet Sauvignon       0.69      0.20      0.99      0.31      0.44      0.18      2407\n",
      "              Chardonnay       0.90      0.37      0.99      0.52      0.61      0.34      2890\n",
      "        Grüner Veltliner       0.98      0.84      1.00      0.91      0.92      0.82      1299\n",
      "                  Malbec       0.29      0.62      0.96      0.40      0.77      0.57       672\n",
      "                  Merlot       0.26      0.37      0.97      0.30      0.60      0.34       732\n",
      "                Nebbiolo       0.56      0.87      0.98      0.69      0.93      0.85       630\n",
      "              Pinot Noir       0.88      0.33      0.99      0.47      0.57      0.30      3558\n",
      "          Portuguese Red       0.37      0.88      0.96      0.52      0.92      0.84       594\n",
      "               Red Blend       0.66      0.25      0.99      0.36      0.49      0.23      1674\n",
      "              Red Blends       0.12      0.42      0.94      0.19      0.63      0.37       518\n",
      "                Riesling       0.66      0.88      0.97      0.76      0.93      0.85      1315\n",
      "                    Rosé       0.68      0.60      0.99      0.64      0.77      0.57      1030\n",
      "              Sangiovese       0.35      0.37      0.98      0.36      0.60      0.34       592\n",
      "               Sauvignon       1.00      0.96      1.00      0.98      0.98      0.95      1078\n",
      "         Sauvignon Blanc       0.63      0.63      0.98      0.63      0.79      0.60      1280\n",
      "         Sparkling Blend       0.42      0.83      0.97      0.55      0.89      0.79       623\n",
      "                   Syrah       0.32      0.63      0.94      0.42      0.77      0.57      1040\n",
      "             White Blend       0.31      0.77      0.96      0.44      0.86      0.72       525\n",
      "               Zinfandel       0.28      0.77      0.95      0.42      0.86      0.72       670\n",
      "\n",
      "             avg / total       0.66      0.52      0.98      0.52      0.69      0.49     24588\n",
      "\n",
      "CPU times: user 29.4 s, sys: 2.46 s, total: 31.9 s\n",
      "Wall time: 15.9 s\n"
     ]
    }
   ],
   "source": [
    "%%time\n",
    "\n",
    "naive_bayes = make_pipeline(\n",
    "    CountVectorizer(stop_words='english', binary=True),\n",
    "    NearMiss(),\n",
    "    MultinomialNB()\n",
    ")\n",
    "naive_bayes.fit(X_train, y_train)\n",
    "\n",
    "print(f'Accuracy: {naive_bayes.score(X_test, y_test)} \\n')\n",
    "print(classification_report_imbalanced(y_test, naive_bayes.predict(X_test)))"
   ]
  },
  {
   "cell_type": "markdown",
   "metadata": {},
   "source": [
    "### TF-IDF Logistic Regression"
   ]
  },
  {
   "cell_type": "code",
   "execution_count": 7,
   "metadata": {},
   "outputs": [
    {
     "name": "stderr",
     "output_type": "stream",
     "text": [
      "/anaconda3/envs/ut_ml/lib/python3.6/site-packages/sklearn/linear_model/logistic.py:432: FutureWarning: Default solver will be changed to 'lbfgs' in 0.22. Specify a solver to silence this warning.\n",
      "  FutureWarning)\n",
      "/anaconda3/envs/ut_ml/lib/python3.6/site-packages/sklearn/linear_model/logistic.py:469: FutureWarning: Default multi_class will be changed to 'auto' in 0.22. Specify the multi_class option to silence this warning.\n",
      "  \"this warning.\", FutureWarning)\n"
     ]
    },
    {
     "name": "stdout",
     "output_type": "stream",
     "text": [
      "Accuracy: 0.6155034976411258 \n",
      "\n",
      "                                pre       rec       spe        f1       geo       iba       sup\n",
      "\n",
      "Bordeaux-style Red Blend       0.74      0.49      0.99      0.59      0.70      0.46      1461\n",
      "      Cabernet Sauvignon       0.72      0.40      0.98      0.51      0.63      0.37      2407\n",
      "              Chardonnay       0.86      0.58      0.99      0.69      0.75      0.55      2890\n",
      "        Grüner Veltliner       1.00      0.76      1.00      0.87      0.87      0.74      1299\n",
      "                  Malbec       0.44      0.65      0.98      0.52      0.80      0.62       672\n",
      "                  Merlot       0.26      0.54      0.95      0.35      0.72      0.50       732\n",
      "                Nebbiolo       0.72      0.67      0.99      0.69      0.82      0.64       630\n",
      "              Pinot Noir       0.82      0.52      0.98      0.64      0.71      0.49      3558\n",
      "          Portuguese Red       0.46      0.88      0.97      0.61      0.93      0.85       594\n",
      "               Red Blend       0.79      0.25      1.00      0.38      0.50      0.23      1674\n",
      "              Red Blends       0.34      0.40      0.98      0.37      0.63      0.37       518\n",
      "                Riesling       0.67      0.91      0.97      0.77      0.94      0.88      1315\n",
      "                    Rosé       0.74      0.81      0.99      0.77      0.89      0.78      1030\n",
      "              Sangiovese       0.53      0.54      0.99      0.54      0.73      0.51       592\n",
      "               Sauvignon       1.00      0.97      1.00      0.98      0.98      0.96      1078\n",
      "         Sauvignon Blanc       0.58      0.77      0.97      0.66      0.87      0.73      1280\n",
      "         Sparkling Blend       0.53      0.83      0.98      0.65      0.90      0.81       623\n",
      "                   Syrah       0.48      0.69      0.97      0.57      0.82      0.65      1040\n",
      "             White Blend       0.39      0.74      0.98      0.51      0.85      0.70       525\n",
      "               Zinfandel       0.27      0.79      0.94      0.41      0.86      0.73       670\n",
      "\n",
      "             avg / total       0.70      0.62      0.98      0.62      0.77      0.59     24588\n",
      "\n",
      "CPU times: user 48.4 s, sys: 3.21 s, total: 51.6 s\n",
      "Wall time: 21.5 s\n"
     ]
    }
   ],
   "source": [
    "%%time\n",
    "\n",
    "tfidf_logistic_regression = make_pipeline(\n",
    "    CountVectorizer(stop_words='english'),\n",
    "    TfidfTransformer(),\n",
    "    NearMiss(),\n",
    "    LogisticRegression(),\n",
    ")\n",
    "\n",
    "tfidf_logistic_regression.fit(X_train, y_train)\n",
    "\n",
    "print(f'Accuracy: {tfidf_logistic_regression.score(X_test, y_test)} \\n')\n",
    "print(classification_report_imbalanced(y_test, tfidf_logistic_regression.predict(X_test)))"
   ]
  },
  {
   "cell_type": "markdown",
   "metadata": {},
   "source": [
    "### TF-IDF SVC Model"
   ]
  },
  {
   "cell_type": "code",
   "execution_count": 8,
   "metadata": {},
   "outputs": [
    {
     "name": "stdout",
     "output_type": "stream",
     "text": [
      "Accuracy: 0.6302667968114527 \n",
      "\n",
      "                                pre       rec       spe        f1       geo       iba       sup\n",
      "\n",
      "Bordeaux-style Red Blend       0.76      0.52      0.99      0.62      0.72      0.49      1461\n",
      "      Cabernet Sauvignon       0.71      0.44      0.98      0.54      0.66      0.41      2407\n",
      "              Chardonnay       0.87      0.58      0.99      0.70      0.76      0.55      2890\n",
      "        Grüner Veltliner       0.99      0.79      1.00      0.88      0.89      0.78      1299\n",
      "                  Malbec       0.43      0.67      0.98      0.53      0.81      0.63       672\n",
      "                  Merlot       0.28      0.57      0.95      0.37      0.74      0.52       732\n",
      "                Nebbiolo       0.73      0.71      0.99      0.72      0.84      0.69       630\n",
      "              Pinot Noir       0.81      0.54      0.98      0.65      0.73      0.51      3558\n",
      "          Portuguese Red       0.50      0.87      0.98      0.64      0.92      0.85       594\n",
      "               Red Blend       0.74      0.28      0.99      0.41      0.53      0.26      1674\n",
      "              Red Blends       0.30      0.43      0.98      0.36      0.65      0.40       518\n",
      "                Riesling       0.67      0.90      0.97      0.77      0.94      0.87      1315\n",
      "                    Rosé       0.71      0.80      0.99      0.76      0.89      0.78      1030\n",
      "              Sangiovese       0.48      0.57      0.99      0.52      0.75      0.54       592\n",
      "               Sauvignon       1.00      0.97      1.00      0.98      0.98      0.97      1078\n",
      "         Sauvignon Blanc       0.59      0.75      0.97      0.66      0.85      0.71      1280\n",
      "         Sparkling Blend       0.56      0.87      0.98      0.68      0.92      0.84       623\n",
      "                   Syrah       0.49      0.68      0.97      0.57      0.81      0.64      1040\n",
      "             White Blend       0.43      0.76      0.98      0.55      0.86      0.72       525\n",
      "               Zinfandel       0.33      0.77      0.96      0.46      0.86      0.73       670\n",
      "\n",
      "             avg / total       0.70      0.63      0.98      0.64      0.78      0.60     24588\n",
      "\n",
      "CPU times: user 32.4 s, sys: 2.51 s, total: 34.9 s\n",
      "Wall time: 20 s\n"
     ]
    }
   ],
   "source": [
    "%%time\n",
    "\n",
    "tfidf_svc = make_pipeline(\n",
    "    CountVectorizer(\n",
    "        stop_words='english',\n",
    "    ),\n",
    "    TfidfTransformer(),\n",
    "    NearMiss(),\n",
    "    LinearSVC()\n",
    ")\n",
    "\n",
    "tfidf_svc.fit(X_train, y_train)\n",
    "\n",
    "print(f'Accuracy: {tfidf_svc.score(X_test, y_test)} \\n')\n",
    "print(classification_report_imbalanced(y_test, tfidf_svc.predict(X_test)))"
   ]
  }
 ],
 "metadata": {
  "kernelspec": {
   "display_name": "conda:env:ut_ml",
   "language": "python",
   "name": "ut_ml"
  },
  "language_info": {
   "codemirror_mode": {
    "name": "ipython",
    "version": 3
   },
   "file_extension": ".py",
   "mimetype": "text/x-python",
   "name": "python",
   "nbconvert_exporter": "python",
   "pygments_lexer": "ipython3",
   "version": "3.6.8"
  }
 },
 "nbformat": 4,
 "nbformat_minor": 2
}
